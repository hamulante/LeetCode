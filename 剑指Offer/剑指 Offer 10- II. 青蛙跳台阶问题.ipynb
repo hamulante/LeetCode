{
 "cells": [
  {
   "cell_type": "markdown",
   "metadata": {},
   "source": [
    "剑指 Offer 10- II. 青蛙跳台阶问题\n",
    "\n",
    "一只青蛙一次可以跳上1级台阶，也可以跳上2级台阶。求该青蛙跳上一个 n 级的台阶总共有多少种跳法。\n",
    "答案需要取模 1e9+7（1000000007），如计算初始结果为：1000000008，请返回 1。\n",
    "\n",
    "示例 1：\n",
    "输入：n = 2\n",
    "输出：2\n",
    "\n",
    "示例 2：\n",
    "输入：n = 7\n",
    "输出：21\n",
    "\n",
    "示例 3：\n",
    "输入：n = 0\n",
    "输出：1"
   ]
  },
  {
   "cell_type": "code",
   "execution_count": null,
   "metadata": {},
   "outputs": [],
   "source": [
    "#n=0 1\n",
    "#n=1 1\n",
    "#n=2 2\n",
    "#n=3 3\n",
    "#n=4 5"
   ]
  },
  {
   "cell_type": "code",
   "execution_count": 14,
   "metadata": {},
   "outputs": [],
   "source": [
    "class Solution(object):\n",
    "    def numWays(self, n):\n",
    "        ways=[1,1,2]+[-1]*(n-2)\n",
    "        if n<=1:\n",
    "            return 1\n",
    "        else:\n",
    "            for i in range(2,n+1):\n",
    "                ways[i]=ways[i-1]+ways[i-2]\n",
    "        return ways[i]%1000000007\n",
    "#执行用时：16 ms, 在所有 Python 提交中击败了81.85%的用户\n",
    "#内存消耗：12.6 MB, 在所有 Python 提交中击败了86.46%的用户"
   ]
  },
  {
   "cell_type": "code",
   "execution_count": 15,
   "metadata": {},
   "outputs": [
    {
     "name": "stdout",
     "output_type": "stream",
     "text": [
      "[1, 1, 2, -1, -1, -1, -1, -1]\n"
     ]
    },
    {
     "data": {
      "text/plain": [
       "21"
      ]
     },
     "execution_count": 15,
     "metadata": {},
     "output_type": "execute_result"
    }
   ],
   "source": [
    "n=7\n",
    "num=Solution()\n",
    "num.numWays(n)"
   ]
  },
  {
   "cell_type": "code",
   "execution_count": null,
   "metadata": {},
   "outputs": [],
   "source": []
  }
 ],
 "metadata": {
  "kernelspec": {
   "display_name": "Python 3",
   "language": "python",
   "name": "python3"
  },
  "language_info": {
   "codemirror_mode": {
    "name": "ipython",
    "version": 3
   },
   "file_extension": ".py",
   "mimetype": "text/x-python",
   "name": "python",
   "nbconvert_exporter": "python",
   "pygments_lexer": "ipython3",
   "version": "3.8.3"
  }
 },
 "nbformat": 4,
 "nbformat_minor": 4
}
