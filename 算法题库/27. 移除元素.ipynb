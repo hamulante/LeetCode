{
 "cells": [
  {
   "cell_type": "markdown",
   "metadata": {},
   "source": [
    "27. 移除元素\n",
    "给你一个数组nums和一个值val，你需要原地移除所有数值等于 val 的元素，并返回移除后数组的新长度。不要使用额外的数组空间，你必须仅使用 O(1) 额外空间并原地修改输入数组。\n",
    "元素的顺序可以改变。你不需要考虑数组中超出新长度后面的元素。\n",
    "\n",
    "示例 1:\n",
    "给定 nums = [3,2,2,3], val = 3,\n",
    "函数应该返回新的长度2, 并且 nums 中的前两个元素均为2。\n",
    "你不需要考虑数组中超出新长度后面的元素。\n",
    "\n",
    "示例 2:\n",
    "给定 nums = [0,1,2,2,3,0,4,2], val = 2,\n",
    "函数应该返回新的长度 5, 并且 nums 中的前五个元素为 0, 1, 3, 0, 4。\n",
    "注意这五个元素可为任意顺序。\n",
    "你不需要考虑数组中超出新长度后面的元素。"
   ]
  },
  {
   "cell_type": "code",
   "execution_count": 22,
   "metadata": {},
   "outputs": [],
   "source": [
    "class Solution(object):\n",
    "    def removeElement(self, nums, val):\n",
    "        i=0\n",
    "        j=0\n",
    "        while j<len(nums):\n",
    "            if nums[j]==val:\n",
    "                j+=1\n",
    "            elif nums[j]!=val:\n",
    "                nums[i]=nums[j]\n",
    "                i+=1\n",
    "                j+=1\n",
    "        return i\n",
    "#执行用时：16 ms, 在所有 Python 提交中击败了88.33%的用户\n",
    "#内存消耗：12.4 MB, 在所有 Python 提交中击败了59.18%的用户"
   ]
  },
  {
   "cell_type": "code",
   "execution_count": 23,
   "metadata": {},
   "outputs": [
    {
     "data": {
      "text/plain": [
       "2"
      ]
     },
     "execution_count": 23,
     "metadata": {},
     "output_type": "execute_result"
    }
   ],
   "source": [
    "nums = [3,2,2,3]\n",
    "val = 3\n",
    "s=Solution()\n",
    "s.removeElement(nums,val)"
   ]
  },
  {
   "cell_type": "code",
   "execution_count": null,
   "metadata": {},
   "outputs": [],
   "source": []
  }
 ],
 "metadata": {
  "kernelspec": {
   "display_name": "Python 3",
   "language": "python",
   "name": "python3"
  },
  "language_info": {
   "codemirror_mode": {
    "name": "ipython",
    "version": 3
   },
   "file_extension": ".py",
   "mimetype": "text/x-python",
   "name": "python",
   "nbconvert_exporter": "python",
   "pygments_lexer": "ipython3",
   "version": "3.8.3"
  }
 },
 "nbformat": 4,
 "nbformat_minor": 4
}
