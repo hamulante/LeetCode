{
 "cells": [
  {
   "cell_type": "markdown",
   "metadata": {},
   "source": [
    "剑指 Offer 04. 二维数组中的查找\n",
    "\n",
    "在一个 n * m 的二维数组中，每一行都按照从左到右递增的顺序排序，每一列都按照从上到下递增的顺序排序。请完成一个函数，输入这样的一个二维数组和一个整数，判断数组中是否含有该整数。\n",
    "\n",
    "示例:\n",
    "现有矩阵 matrix 如下：\n",
    "[\n",
    "  [1,   4,  7, 11, 15],\n",
    "  [2,   5,  8, 12, 19],\n",
    "  [3,   6,  9, 16, 22],\n",
    "  [10, 13, 14, 17, 24],\n",
    "  [18, 21, 23, 26, 30]\n",
    "]\n",
    "给定 target = 5，返回 true。\n",
    "给定 target = 20，返回 false。\n",
    "\n",
    "限制：\n",
    "0 <= n <= 1000\n",
    "0 <= m <= 1000"
   ]
  },
  {
   "cell_type": "code",
   "execution_count": null,
   "metadata": {},
   "outputs": [],
   "source": [
    "def findNumberIn2DArray(matrix, target): \n",
    "    rows = len(matrix)\n",
    "    if rows==0:\n",
    "        return False\n",
    "    cols = len(matrix[0])\n",
    "    \n",
    "    for n in range(rows):\n",
    "        if target in matrix[n]:\n",
    "            return True\n",
    "        else: \n",
    "            n+=1\n",
    "    return False\n",
    "\n",
    "#执行用时：32 ms, 在所有 Python 提交中击败了52.91%的用户\n",
    "#内存消耗：16.6 MB, 在所有 Python 提交中击败了64.40%的用户"
   ]
  },
  {
   "cell_type": "code",
   "execution_count": 11,
   "metadata": {},
   "outputs": [],
   "source": [
    "def findNumberIn2DArray(matrix, target): \n",
    "    rows = len(matrix)\n",
    "    cols=0   \n",
    "    \n",
    "    while rows>0 and 0<=cols<len(matrix[rows-1]):\n",
    "        if matrix[rows-1][cols]>target:\n",
    "            rows-=1\n",
    "        elif matrix[rows-1][cols]<target:\n",
    "            cols+=1\n",
    "        elif matrix[rows-1][cols]==target:\n",
    "            return True          \n",
    "    return False\n",
    "#执行用时：24 ms, 在所有 Python 提交中击败了90.33%的用户\n",
    "#内存消耗：16.6 MB, 在所有 Python 提交中击败了53.47%的用户"
   ]
  },
  {
   "cell_type": "code",
   "execution_count": 12,
   "metadata": {},
   "outputs": [
    {
     "data": {
      "text/plain": [
       "False"
      ]
     },
     "execution_count": 12,
     "metadata": {},
     "output_type": "execute_result"
    }
   ],
   "source": [
    "matrix=[[]]\n",
    "target=5\n",
    "findNumberIn2DArray(matrix, target)"
   ]
  },
  {
   "cell_type": "code",
   "execution_count": null,
   "metadata": {},
   "outputs": [],
   "source": []
  }
 ],
 "metadata": {
  "kernelspec": {
   "display_name": "Python 3",
   "language": "python",
   "name": "python3"
  },
  "language_info": {
   "codemirror_mode": {
    "name": "ipython",
    "version": 3
   },
   "file_extension": ".py",
   "mimetype": "text/x-python",
   "name": "python",
   "nbconvert_exporter": "python",
   "pygments_lexer": "ipython3",
   "version": "3.8.3"
  }
 },
 "nbformat": 4,
 "nbformat_minor": 4
}
