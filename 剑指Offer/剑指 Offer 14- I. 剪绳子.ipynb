{
 "cells": [
  {
   "cell_type": "markdown",
   "metadata": {},
   "source": [
    "剑指 Offer 14- I. 剪绳子\n",
    "\n",
    "给你一根长度为 n 的绳子，请把绳子剪成整数长度的 m 段（m、n都是整数，n>1并且m>1），每段绳子的长度记为 k[0],k[1]...k[m-1] 。请问 k[0]*k[1]*...*k[m-1] 可能的最大乘积是多少？例如，当绳子的长度是8时，我们把它剪成长度分别为2、3、3的三段，此时得到的最大乘积是18。\n",
    "\n",
    "示例 1：\n",
    "输入: 2\n",
    "输出: 1\n",
    "解释: 2 = 1 + 1, 1 × 1 = 1\n",
    "\n",
    "示例 2:\n",
    "输入: 10\n",
    "输出: 36\n",
    "解释: 10 = 3 + 3 + 4, 3 × 3 × 4 = 36\n",
    "\n",
    "提示：\n",
    "2 <= n <= 58"
   ]
  },
  {
   "cell_type": "code",
   "execution_count": 79,
   "metadata": {},
   "outputs": [],
   "source": [
    "#动态规划\n",
    "# class Solution(object):\n",
    "#     def cuttingRope(self, n):\n",
    "#         #n=2,1*1=2->f(2)=1;n=3,2*1=2->f(3)=2\n",
    "#         if n<=3:\n",
    "#             return n-1\n",
    "#         #因此某个长度的绳子，剪了一下之后，其中一段的长度在[0,3]的区间内，则这段本身已经是能得到的最大乘积不用再剪了\n",
    "#         #e.g 7: 4*3>4*2*1\n",
    "        \n",
    "#         else:\n",
    "            \n",
    "#             product=[0]*(n+1)\n",
    "#             product[0] = 0;#其实根本用不到，数组第0位而已\n",
    "#             product[1] = 1;#其实根本用不到，数组第1位而已\n",
    "#             product[2] = 2;\n",
    "#             product[3] = 3; \n",
    "                      \n",
    "#             #product(n)为长度为n的绳子   已经被剪过成若干段  \"后\"   的最大值\n",
    "#             #product(n)=max((product(i)*product(n-i))\n",
    "#             #递归不断得到product(n-i))的max\n",
    "#             #从小到大递归可以避免冗余的查询\n",
    "            \n",
    "#             for i in range(4,n+1):\n",
    "#                 max=0\n",
    "#                 for j in range(1,i//2+1):#减少计算次数,比如1x3和3x1值是一样的，计算一次即可\n",
    "#                     temp=product[j]*product[i-j]\n",
    "#                     if temp>=max:\n",
    "#                         max=temp\n",
    "#                 product[i]=max\n",
    "#             return product[n]\n",
    "        \n",
    "#执行用时：12 ms, 在所有 Python 提交中击败了97.09%的用户\n",
    "#内存消耗：12.6 MB, 在所有 Python 提交中击败了77.16%的用户"
   ]
  },
  {
   "cell_type": "code",
   "execution_count": 92,
   "metadata": {},
   "outputs": [],
   "source": [
    "#贪心算法\n",
    "class Solution(object):\n",
    "    def cuttingRope(self, n):\n",
    "        if n<=3:\n",
    "            return n-1\n",
    "        else:\n",
    "            num_3=0\n",
    "            res=n\n",
    "            while res>4:\n",
    "                res=res-3\n",
    "                num_3+=1\n",
    "            return (3**num_3)*(n-3*num_3)\n",
    "#执行用时：20 ms, 在所有 Python 提交中击败了70.90%的用户\n",
    "#内存消耗：12.7 MB, 在所有 Python 提交中击败了51.29%的用户"
   ]
  },
  {
   "cell_type": "code",
   "execution_count": 94,
   "metadata": {},
   "outputs": [
    {
     "data": {
      "text/plain": [
       "6"
      ]
     },
     "execution_count": 94,
     "metadata": {},
     "output_type": "execute_result"
    }
   ],
   "source": [
    "n=5\n",
    "product=Solution()\n",
    "product.cuttingRope(n)"
   ]
  },
  {
   "cell_type": "code",
   "execution_count": null,
   "metadata": {},
   "outputs": [],
   "source": []
  },
  {
   "cell_type": "code",
   "execution_count": null,
   "metadata": {},
   "outputs": [],
   "source": []
  }
 ],
 "metadata": {
  "kernelspec": {
   "display_name": "Python 3",
   "language": "python",
   "name": "python3"
  },
  "language_info": {
   "codemirror_mode": {
    "name": "ipython",
    "version": 3
   },
   "file_extension": ".py",
   "mimetype": "text/x-python",
   "name": "python",
   "nbconvert_exporter": "python",
   "pygments_lexer": "ipython3",
   "version": "3.8.3"
  }
 },
 "nbformat": 4,
 "nbformat_minor": 4
}
