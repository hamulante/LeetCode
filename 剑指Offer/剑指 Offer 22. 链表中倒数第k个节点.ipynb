{
 "cells": [
  {
   "cell_type": "markdown",
   "metadata": {},
   "source": [
    "剑指 Offer 22. 链表中倒数第k个节点\n",
    "输入一个链表，输出该链表中倒数第k个节点。为了符合大多数人的习惯，本题从1开始计数，即链表的尾节点是倒数第1个节点。例如，一个链表有6个节点，从头节点开始，它们的值依次是1、2、3、4、5、6。这个链表的倒数第3个节点是值为4的节点。\n",
    "\n",
    "示例：\n",
    "给定一个链表: 1->2->3->4->5, 和 k = 2.\n",
    "返回链表 4->5."
   ]
  },
  {
   "cell_type": "code",
   "execution_count": 4,
   "metadata": {},
   "outputs": [],
   "source": [
    "class ListNode(object):\n",
    "    def __init__(self, x):\n",
    "        self.val = x\n",
    "        self.next = None"
   ]
  },
  {
   "cell_type": "code",
   "execution_count": 5,
   "metadata": {},
   "outputs": [],
   "source": [
    "def createListNode(arr):\n",
    "    head=ListNode(arr[0])\n",
    "    current=head\n",
    "    for i in range(1,len(arr)):\n",
    "        current.next=ListNode(arr[i])\n",
    "        current=current.next\n",
    "    return head"
   ]
  },
  {
   "cell_type": "code",
   "execution_count": 6,
   "metadata": {},
   "outputs": [],
   "source": [
    "given_list=[1,2,3,4,5]\n",
    "head=createListNode(given_list)"
   ]
  },
  {
   "cell_type": "code",
   "execution_count": 10,
   "metadata": {},
   "outputs": [],
   "source": [
    "#双指针\n",
    "class Solution(object):\n",
    "    def getKthFromEnd(self, head, k):\n",
    "        cur=head\n",
    "        nxt=head\n",
    "        for _ in range(k):\n",
    "            nxt=nxt.next\n",
    "        while nxt:\n",
    "            cur=cur.next\n",
    "            nxt=nxt.next\n",
    "        return cur\n",
    "    \n",
    "#执行用时：24 ms, 在所有 Python 提交中击败了64.82%的用户\n",
    "#内存消耗：12.3 MB, 在所有 Python 提交中击败了89.53%的用户"
   ]
  },
  {
   "cell_type": "code",
   "execution_count": null,
   "metadata": {},
   "outputs": [],
   "source": [
    "#递归\n",
    "class Solution:\n",
    "    def __init__(self):\n",
    "        self.ans = None\n",
    "\n",
    "    def search(self, node: ListNode, k: int) -> int:\n",
    "        if not node:\n",
    "            return 0\n",
    "        val = 1 + self.search(node.next, k)\n",
    "        if val == k:\n",
    "            self.ans = node\n",
    "        return val\n",
    "\n",
    "    def getKthFromEnd(self, head: ListNode, k: int) -> ListNode:\n",
    "        self.search(head, k)\n",
    "        return self.ans"
   ]
  },
  {
   "cell_type": "code",
   "execution_count": 11,
   "metadata": {},
   "outputs": [
    {
     "data": {
      "text/plain": [
       "<__main__.ListNode at 0x7f99f8446730>"
      ]
     },
     "execution_count": 11,
     "metadata": {},
     "output_type": "execute_result"
    }
   ],
   "source": [
    "k=2\n",
    "s=Solution()\n",
    "s.getKthFromEnd(head,k)#此时head是链表（的头节点）！！！"
   ]
  }
 ],
 "metadata": {
  "kernelspec": {
   "display_name": "Python 3",
   "language": "python",
   "name": "python3"
  },
  "language_info": {
   "codemirror_mode": {
    "name": "ipython",
    "version": 3
   },
   "file_extension": ".py",
   "mimetype": "text/x-python",
   "name": "python",
   "nbconvert_exporter": "python",
   "pygments_lexer": "ipython3",
   "version": "3.8.3"
  }
 },
 "nbformat": 4,
 "nbformat_minor": 4
}
