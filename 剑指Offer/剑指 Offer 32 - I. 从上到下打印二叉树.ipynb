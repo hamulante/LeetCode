{
 "cells": [
  {
   "cell_type": "markdown",
   "metadata": {},
   "source": [
    "剑指 Offer 32 - I. 从上到下打印二叉树\n",
    "从上到下打印出二叉树的每个节点，同一层的节点按照从左到右的顺序打印。 \n",
    "\n",
    "例如:\n",
    "给定二叉树: [3,9,20,null,null,15,7],\n",
    "\n",
    "    3\n",
    "   / \\\n",
    "  9  20\n",
    "    /  \\\n",
    "   15   7\n",
    "返回：[3,9,20,15,7]"
   ]
  },
  {
   "cell_type": "code",
   "execution_count": null,
   "metadata": {},
   "outputs": [],
   "source": [
    "#广度优先\n",
    "#特例处理： 当树的根节点为空，则直接返回空列表 [] ；\n",
    "#初始化： 打印结果列表 res = [] ，包含根节点的队列 queue = [root] ；\n",
    "#BFS 循环： 当队列 queue 为空时跳出；\n",
    "#出队： 队首元素出队，记为 node；\n",
    "#打印： 将 node.val 添加至列表 tmp 尾部；\n",
    "#添加子节点： 若 node 的左（右）子节点不为空，则将左（右）子节点加入队列 queue ；\n",
    "#返回值： 返回打印结果列表 res 即可。\n",
    "\n",
    "class Solution(object):\n",
    "    def levelOrder(self, root):\n",
    "        res=[]\n",
    "        queue=collections.deque()\n",
    "        if root:\n",
    "            queue.append(root)\n",
    "            while queue:\n",
    "                node=queue.popleft()\n",
    "                res.append(node.val)\n",
    "                if node.left:\n",
    "                    queue.append(node.left)\n",
    "                if node.right:\n",
    "                    queue.append(node.right)\n",
    "        return res"
   ]
  },
  {
   "cell_type": "code",
   "execution_count": null,
   "metadata": {},
   "outputs": [],
   "source": [
    "#带层数的深度优先，可以用于返回指定层数的节点\n",
    "class Solution(object):\n",
    "    def levelOrder(self, root):\n",
    "        if not root: \n",
    "            return []\n",
    "        res = []\n",
    "        def dfs(node, level):\n",
    "            if not node:\n",
    "                return\n",
    "            if level == len(res):\n",
    "                res.append([])\n",
    "            res[level].append(node.val)\n",
    "            dfs(node.left, level + 1)\n",
    "            dfs(node.right, level + 1)\n",
    "        dfs(root, 0)\n",
    "#         这样搜索出的是每一层的节点，需要一个for循环全部输出\n",
    "        for i in range(1, len(res)):\n",
    "            res[0] += res[i]\n",
    "        return res[0]"
   ]
  }
 ],
 "metadata": {
  "kernelspec": {
   "display_name": "Python 3",
   "language": "python",
   "name": "python3"
  },
  "language_info": {
   "codemirror_mode": {
    "name": "ipython",
    "version": 3
   },
   "file_extension": ".py",
   "mimetype": "text/x-python",
   "name": "python",
   "nbconvert_exporter": "python",
   "pygments_lexer": "ipython3",
   "version": "3.8.3"
  }
 },
 "nbformat": 4,
 "nbformat_minor": 4
}
