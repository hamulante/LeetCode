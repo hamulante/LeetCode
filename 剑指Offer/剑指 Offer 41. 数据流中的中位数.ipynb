{
 "cells": [
  {
   "cell_type": "markdown",
   "metadata": {},
   "source": [
    "剑指 Offer 41. 数据流中的中位数\n",
    "\n",
    "如何得到一个数据流中的中位数？如果从数据流中读出奇数个数值，那么中位数就是所有数值排序之后位于中间的数值。如果从数据流中读出偶数个数值，那么中位数就是所有数值排序之后中间两个数的平均值。\n",
    "\n",
    "例如，\n",
    "[2,3,4] 的中位数是 3\n",
    "[2,3] 的中位数是 (2 + 3) / 2 = 2.5\n",
    "\n",
    "设计一个支持以下两种操作的数据结构：\n",
    "void addNum(int num) - 从数据流中添加一个整数到数据结构中。\n",
    "double findMedian() - 返回目前所有元素的中位数。\n",
    "\n",
    "示例 1：\n",
    "输入：\n",
    "[\"MedianFinder\",\"addNum\",\"addNum\",\"findMedian\",\"addNum\",\"findMedian\"]\n",
    "[[],[1],[2],[],[3],[]]\n",
    "输出：[null,null,null,1.50000,null,2.00000]\n",
    "\n",
    "示例 2：\n",
    "输入：\n",
    "[\"MedianFinder\",\"addNum\",\"findMedian\",\"addNum\",\"findMedian\"]\n",
    "[[],[2],[],[3],[]]\n",
    "输出：[null,null,2.00000,null,2.50000]"
   ]
  },
  {
   "cell_type": "code",
   "execution_count": null,
   "metadata": {},
   "outputs": [],
   "source": []
  }
 ],
 "metadata": {
  "kernelspec": {
   "display_name": "Python 3",
   "language": "python",
   "name": "python3"
  },
  "language_info": {
   "codemirror_mode": {
    "name": "ipython",
    "version": 3
   },
   "file_extension": ".py",
   "mimetype": "text/x-python",
   "name": "python",
   "nbconvert_exporter": "python",
   "pygments_lexer": "ipython3",
   "version": "3.8.3"
  }
 },
 "nbformat": 4,
 "nbformat_minor": 4
}
