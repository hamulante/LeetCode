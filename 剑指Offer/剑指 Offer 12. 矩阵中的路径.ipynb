{
 "cells": [
  {
   "cell_type": "markdown",
   "metadata": {},
   "source": [
    "剑指 Offer 12. 矩阵中的路径\n",
    "\n",
    "请设计一个函数，用来判断在一个矩阵中是否存在一条包含某字符串所有字符的路径。路径可以从矩阵中的任意一格开始，每一步可以在矩阵中向左、右、上、下移动一格。如果一条路径经过了矩阵的某一格，那么该路径不能再次进入该格子。例如，在下面的3×4的矩阵中包含一条字符串“bfce”的路径（路径中的字母用加粗标出）。\n",
    "[[\"a\",\"b\",\"c\",\"e\"],\n",
    "[\"s\",\"f\",\"c\",\"s\"],\n",
    "[\"a\",\"d\",\"e\",\"e\"]]\n",
    "但矩阵中不包含字符串“abfb”的路径，因为字符串的第一个字符b占据了矩阵中的第一行第二个格子之后，路径不能再次进入这个格子。\n",
    "\n",
    "示例 1：\n",
    "输入：board = [[\"A\",\"B\",\"C\",\"E\"],[\"S\",\"F\",\"C\",\"S\"],[\"A\",\"D\",\"E\",\"E\"]], word = \"ABCCED\"\n",
    "输出：true\n",
    "\n",
    "示例 2：\n",
    "输入：board = [[\"a\",\"b\"],[\"c\",\"d\"]], word = \"abcd\"\n",
    "输出：false"
   ]
  },
  {
   "cell_type": "code",
   "execution_count": 12,
   "metadata": {},
   "outputs": [],
   "source": [
    "#深度优先搜索： 可以理解为暴力法遍历矩阵中所有字符串可能性。DFS 通过递归，先朝一个方向搜到底，再回溯至上个节点，沿另一个方向搜索，以此类推。\n",
    "#剪枝： 在搜索中，遇到这条路不可能和目标字符串匹配成功的情况（例如：此矩阵元素和目标字符不同、此元素已被访问），则应立即返回，称之为可行性剪枝 。\n",
    "#depth first search\n",
    "\n",
    "class Solution:\n",
    "    \n",
    "    solved = False\n",
    "\n",
    "    def exist(self, board, word):\n",
    "        rows = len(board)#h\n",
    "        cols = len(board[0])#w\n",
    "        visited = [[0] * cols for _ in range(rows)]\n",
    "        for i in range(rows):\n",
    "            for j in range(cols):\n",
    "                if not self.solved:\n",
    "                    self.search(board,visited,rows,cols,i,j,word)\n",
    "        return self.solved\n",
    "\n",
    "    def search(self,board,visited,rows,cols,i,j,word):\n",
    "        if i < 0 or i >= rows or j < 0 or j >= cols or visited[i][j] == 1:\n",
    "            return\n",
    "        if len(word) == 1:\n",
    "            if word[0] == board[i][j]:\n",
    "                self.solved = True\n",
    "            return\n",
    "        if board[i][j] == word[0]:\n",
    "            visited[i][j] = 1\n",
    "            for i_next, j_next in [(i-1,j),(i+1,j),(i,j+1),(i,j-1)]:\n",
    "                if not self.solved:\n",
    "                    self.search(board,visited,rows,cols,i_next,j_next,word[1:]) # down\n",
    "            visited[i][j] = 0 \n",
    "#执行用时：240 ms, 在所有 Python 提交中击败了37.19%的用户 3*3*.....*3*MN\n",
    "#内存消耗：16.2 MB, 在所有 Python 提交中击败了16.63%的用户 MN"
   ]
  },
  {
   "cell_type": "code",
   "execution_count": 13,
   "metadata": {},
   "outputs": [
    {
     "data": {
      "text/plain": [
       "True"
      ]
     },
     "execution_count": 13,
     "metadata": {},
     "output_type": "execute_result"
    }
   ],
   "source": [
    "board = [[\"A\",\"B\",\"C\",\"E\"],[\"S\",\"F\",\"C\",\"S\"],[\"A\",\"D\",\"E\",\"E\"]]\n",
    "word = \"ABCCED\" \n",
    "path=Solution()\n",
    "path.exist(board,word)"
   ]
  },
  {
   "cell_type": "code",
   "execution_count": 9,
   "metadata": {},
   "outputs": [
    {
     "name": "stdout",
     "output_type": "stream",
     "text": [
      "[[0, 0, 0], [0, 0, 0], [0, 0, 0], [0, 0, 0]]\n",
      "[[0, 0, 1], [0, 0, 1], [0, 0, 1], [0, 0, 1]]\n"
     ]
    }
   ],
   "source": [
    "arr=[[0]*3]*4\n",
    "print(arr)\n",
    "arr[0][2]=1\n",
    "print(arr)"
   ]
  },
  {
   "cell_type": "code",
   "execution_count": null,
   "metadata": {},
   "outputs": [],
   "source": []
  }
 ],
 "metadata": {
  "kernelspec": {
   "display_name": "Python 3",
   "language": "python",
   "name": "python3"
  },
  "language_info": {
   "codemirror_mode": {
    "name": "ipython",
    "version": 3
   },
   "file_extension": ".py",
   "mimetype": "text/x-python",
   "name": "python",
   "nbconvert_exporter": "python",
   "pygments_lexer": "ipython3",
   "version": "3.8.3"
  }
 },
 "nbformat": 4,
 "nbformat_minor": 4
}
