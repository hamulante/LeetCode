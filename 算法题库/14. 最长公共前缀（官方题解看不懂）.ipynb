{
 "cells": [
  {
   "cell_type": "markdown",
   "metadata": {},
   "source": [
    "14. 最长公共前缀\n",
    "编写一个函数来查找字符串数组中的最长公共前缀。\n",
    "\n",
    "如果不存在公共前缀，返回空字符串 \"\"。\n",
    "\n",
    "示例 1:\n",
    "输入: [\"flower\",\"flow\",\"flight\"]\n",
    "输出: \"fl\"\n",
    "\n",
    "示例 2:\n",
    "输入: [\"dog\",\"racecar\",\"car\"]\n",
    "输出: \"\"\n",
    "解释: 输入不存在公共前缀。"
   ]
  },
  {
   "cell_type": "code",
   "execution_count": 30,
   "metadata": {},
   "outputs": [],
   "source": [
    "#使用set巧妙判断是否每一位相同\n",
    "class Solution(object):\n",
    "    def longestCommonPrefix(self, strs):\n",
    "        strs_length=len(strs)\n",
    "        if strs_length==0:\n",
    "            return \"\"\n",
    "        \n",
    "        min_length=len(strs[0])          \n",
    "        for each in strs:\n",
    "            if len(each)<min_length:\n",
    "                min_length = len(each)\n",
    "        \n",
    "        prefix=''\n",
    "        for j in range(min_length):#strs[i][j]\n",
    "            temp_prefix=set()\n",
    "            for i in range(strs_length):  \n",
    "                temp_prefix.add(strs[i][j])\n",
    "                print(temp_prefix)\n",
    "            if len(temp_prefix)==1:\n",
    "                prefix+=temp_prefix.pop() \n",
    "            else:\n",
    "                return prefix\n",
    "        return prefix\n",
    "#执行用时：20 ms, 在所有 Python 提交中击败了78.77%的用户\n",
    "#内存消耗：12.9 MB, 在所有 Python 提交中击败了23.56%的用户            "
   ]
  },
  {
   "cell_type": "code",
   "execution_count": null,
   "metadata": {},
   "outputs": [],
   "source": []
  },
  {
   "cell_type": "code",
   "execution_count": 31,
   "metadata": {},
   "outputs": [
    {
     "name": "stdout",
     "output_type": "stream",
     "text": [
      "{'a'}\n",
      "{'a', 'c'}\n"
     ]
    },
    {
     "data": {
      "text/plain": [
       "''"
      ]
     },
     "execution_count": 31,
     "metadata": {},
     "output_type": "execute_result"
    }
   ],
   "source": [
    "strs=[\"aca\",\"cba\"]\n",
    "length=Solution()\n",
    "length.longestCommonPrefix(strs)"
   ]
  },
  {
   "cell_type": "code",
   "execution_count": null,
   "metadata": {},
   "outputs": [],
   "source": []
  }
 ],
 "metadata": {
  "kernelspec": {
   "display_name": "Python 3",
   "language": "python",
   "name": "python3"
  },
  "language_info": {
   "codemirror_mode": {
    "name": "ipython",
    "version": 3
   },
   "file_extension": ".py",
   "mimetype": "text/x-python",
   "name": "python",
   "nbconvert_exporter": "python",
   "pygments_lexer": "ipython3",
   "version": "3.8.3"
  }
 },
 "nbformat": 4,
 "nbformat_minor": 4
}
