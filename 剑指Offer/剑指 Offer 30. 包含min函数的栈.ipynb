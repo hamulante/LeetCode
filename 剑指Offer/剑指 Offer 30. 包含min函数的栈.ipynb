{
 "cells": [
  {
   "cell_type": "markdown",
   "metadata": {},
   "source": [
    "剑指 Offer 30. 包含min函数的栈\n",
    "定义栈的数据结构，请在该类型中实现一个能够得到栈的最小元素的 min 函数在该栈中，调用 min、push 及 pop 的时间复杂度都是 O(1)。\n",
    "\n",
    "示例:\n",
    "\n",
    "MinStack minStack = new MinStack();\n",
    "minStack.push(-2);\n",
    "minStack.push(0);\n",
    "minStack.push(-3);\n",
    "minStack.min();   --> 返回 -3.\n",
    "minStack.pop();\n",
    "minStack.top();      --> 返回 0.\n",
    "minStack.min();   --> 返回 -2."
   ]
  },
  {
   "cell_type": "code",
   "execution_count": 49,
   "metadata": {},
   "outputs": [],
   "source": [
    "class MinStack(object):\n",
    "\n",
    "    def __init__(self):\n",
    "        self.primary=[]\n",
    "        self.secondary=[]\n",
    "\n",
    "    def push(self, x):\n",
    "        self.primary.append(x)\n",
    "        if len(self.secondary)==0:\n",
    "            self.secondary.append(x)   \n",
    "        else:\n",
    "            if self.secondary[-1]>x:\n",
    "                self.secondary.append(x)\n",
    "            else:\n",
    "                self.secondary.append(self.secondary[-1])\n",
    "        return\n",
    "\n",
    "    def pop(self):\n",
    "        if len(self.primary)==0:\n",
    "            return\n",
    "        else:\n",
    "            self.secondary.pop()\n",
    "            return self.primary.pop()\n",
    "\n",
    "    def top(self):\n",
    "        if len(self.primary)==0:\n",
    "            return\n",
    "        else:\n",
    "            return self.primary[-1]\n",
    "\n",
    "    def min(self):\n",
    "        if len(self.primary)==0:\n",
    "            return\n",
    "        return self.secondary[-1]"
   ]
  },
  {
   "cell_type": "code",
   "execution_count": 50,
   "metadata": {},
   "outputs": [
    {
     "data": {
      "text/plain": [
       "3"
      ]
     },
     "execution_count": 50,
     "metadata": {},
     "output_type": "execute_result"
    }
   ],
   "source": [
    "s=MinStack()\n",
    "s.push(3)\n",
    "s.pop()"
   ]
  },
  {
   "cell_type": "code",
   "execution_count": null,
   "metadata": {},
   "outputs": [],
   "source": []
  }
 ],
 "metadata": {
  "kernelspec": {
   "display_name": "Python 3",
   "language": "python",
   "name": "python3"
  },
  "language_info": {
   "codemirror_mode": {
    "name": "ipython",
    "version": 3
   },
   "file_extension": ".py",
   "mimetype": "text/x-python",
   "name": "python",
   "nbconvert_exporter": "python",
   "pygments_lexer": "ipython3",
   "version": "3.8.3"
  }
 },
 "nbformat": 4,
 "nbformat_minor": 4
}
