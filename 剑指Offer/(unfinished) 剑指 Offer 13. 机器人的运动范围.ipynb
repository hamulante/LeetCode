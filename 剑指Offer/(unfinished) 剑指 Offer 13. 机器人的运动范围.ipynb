{
 "cells": [
  {
   "cell_type": "markdown",
   "metadata": {},
   "source": [
    "剑指 Offer 13. 机器人的运动范围\n",
    "\n",
    "地上有一个m行n列的方格，从坐标 [0,0] 到坐标 [m-1,n-1] 。一个机器人从坐标 [0, 0] 的格子开始移动，它每次可以向左、右、上、下移动一格（不能移动到方格外），也不能进入行坐标和列坐标的数位之和大于k的格子。例如，当k为18时，机器人能够进入方格 [35, 37] ，因为3+5+3+7=18。但它不能进入方格 [35, 38]，因为3+5+3+8=19。请问该机器人能够到达多少个格子？\n",
    "\n",
    "示例 1：\n",
    "输入：m = 2, n = 3, k = 1\n",
    "输出：3\n",
    "\n",
    "示例 2：\n",
    "输入：m = 3, n = 1, k = 0\n",
    "输出：1"
   ]
  },
  {
   "cell_type": "code",
   "execution_count": 11,
   "metadata": {},
   "outputs": [],
   "source": [
    "#深度优先搜索算法（Depth-First-Search）\n",
    "#深度优先搜索算法（Depth-First-Search），是搜索算法的一种。它沿着树的深度遍历树的节点，尽可能深的搜索树的分支。\n",
    "#当节点v的所有边都己被探寻过，搜索将回溯到发现节点v的那条边的起始节点，这一过程一直进行到已发现从源节点可达的所有节点为止。\n",
    "#如果还存在未被发现的节点，则选择其中一个作为源节点并重复以上过程，整个进程反复进行直到所有节点都被访问为止。\n",
    "#盲目搜索\n",
    "#深度优先遍历图算法步骤：\n",
    "#访问顶点v；\n",
    "#依次从v的未被访问的邻接点出发，对图进行深度优先遍历；直至图中和v有路径相通的顶点都被访问；\n",
    "#若此时图中尚有顶点未被访问，则从一个未被访问的顶点出发，重新进行深度优先遍历，直到图中所有顶点均被访问过为止。\n",
    "\n",
    "# class Solution(object):\n",
    "    \n",
    "#     def movingCount(self, m, n, k):\n",
    "#         visited = [[0] * n for _ in range(m)]\n",
    "#         for i in range(m):\n",
    "#             for j in range(n):\n",
    "#                 return self.search(i,j,m,n,k,visited)\n",
    "#         return len(visited) \n",
    "    \n",
    "#     def sums(self,x):\n",
    "#         if x==100:\n",
    "#             return 1\n",
    "#         else:\n",
    "#             return x//10+x%10\n",
    "        \n",
    "#     def search(self,i,j,m,n,k,visited):\n",
    "#         if i < 0 or j < 0 or i>=m or j >=n or self.sums(i)+self.sums(j)>k:\n",
    "#             return 0\n",
    "#         visited[i][j]=1\n",
    "#         return 1+self.search(i-1,j,m,n,k,visited)+self.search(i+1,j,m,n,k,visited)+self.search(i,j-1,m,n,k,visited)+self.search(i,j+1,m,n,k,visited)\n",
    " \n",
    "#maximum recursion depth exceeded in comparison"
   ]
  },
  {
   "cell_type": "code",
   "execution_count": 20,
   "metadata": {},
   "outputs": [],
   "source": [
    "#递推\n",
    "#定义 vis[i][j] 为 (i, j) 坐标是否可达，如果可达返回 1，否则返回 0。\n",
    "#(i, j) 本身需要可以进入，因此需要先判断 i 和 j 的数位之和是否大于 k ，如果大于的话直接设置 vis[i][j] 为不可达即可。\n",
    "#(i, j) 的格子只会从 (i - 1, j) 或者 (i, j - 1) 两个格子走过来（不考虑边界条件），那么 vis[i][j] 是否可达的状态则可由如下公式计算得到：\n",
    "#vis[i][j]=vis[i-1][j] or vis[i][j-1]\n",
    "#即只要有一个格子可达，那么 (i, j) 这个格子就是可达的，因此我们只要遍历所有格子，递推计算出它们是否可达然后用变量ans记录可达的格子数量即可。\n",
    "#初始条件 vis[i][j] = 1 ，递推计算的过程中注意边界的处理。\n",
    "\n",
    "class Solution:\n",
    "    def digitsum(self,x):\n",
    "        if x==100:\n",
    "            return 1\n",
    "        else:\n",
    "            return x//10+x%10\n",
    "    def movingCount(self,m,n,k):\n",
    "        vis = set([(0, 0)])\n",
    "        for i in range(m):\n",
    "            for j in range(n):\n",
    "                if ((i - 1, j) in vis or (i, j - 1) in vis) and self.digitsum(i) + self.digitsum(j) <= k:\n",
    "                    vis.add((i, j))\n",
    "        return len(vis)\n",
    "    \n",
    "#执行用时：36 ms, 在所有 Python 提交中击败了72.28%的用户\n",
    "#内存消耗：12.8 MB, 在所有 Python 提交中击败了84.06%的用户"
   ]
  },
  {
   "cell_type": "code",
   "execution_count": 45,
   "metadata": {},
   "outputs": [],
   "source": [
    "#广度优先搜索算法（Breadth-First-Search），是一种图形搜索算法\n",
    "#从根节点开始，沿着树(图)的宽度遍历树(图)的节点。如果所有节点均被访问，则算法中止。\n",
    "#盲目搜索。\n",
    "#一般用队列数据结构来辅助实现BFS算法。\n",
    "#算法步骤：\n",
    "#首先将根节点放入队列中。\n",
    "#从队列中取出第一个节点，并检验它是否为目标。如果找到目标，则结束搜寻并回传结果。否则将它所有尚未检验过的直接子节点加入队列中。\n",
    "#若队列为空，表示整张图都检查过了——亦即图中没有欲搜寻的目标。结束搜寻并回传“找不到目标”。\n",
    "#重复步骤2。\n",
    "#根节点所有一级子节点都找过了，再找所有一级子节点的所有二级子节点，以此类推（宽度）。\n",
    "\n",
    "def digitsum(x):\n",
    "    if x==100:\n",
    "        return 1\n",
    "    else:\n",
    "        return x//10+x%10 \n",
    "class Solution:\n",
    "    def movingCount(self, m: int, n: int, k: int) -> int:\n",
    "        queue=[(0, 0, 0, 0)]\n",
    "        visited=set()\n",
    "        while queue:\n",
    "            i, j, i_next, j_next = queue.pop(0)\n",
    "#             if i >= m or j >= n or digitsum(i)+digitsum(j)>k or (i, j) in visited:\n",
    "#                 continue\n",
    "#             visited.add((i,j))  \n",
    "            if i < m and j < n and digitsum(i)+digitsum(j)<=k and (i, j) not in visited:\n",
    "                visited.add((i,j)) \n",
    "                queue.append((i+1,j,i_next+1,j_next)) \n",
    "                queue.append((i,j+1,i_next,j_next+1))\n",
    "        return len(visited)\n",
    "    \n",
    "#执行用时：56 ms, 在所有 Python3 提交中击败了79.08%的用户\n",
    "#内存消耗：13.9 MB, 在所有 Python3 提交中击败了80.39%的用户"
   ]
  },
  {
   "cell_type": "code",
   "execution_count": 46,
   "metadata": {},
   "outputs": [
    {
     "data": {
      "text/plain": [
       "3"
      ]
     },
     "execution_count": 46,
     "metadata": {},
     "output_type": "execute_result"
    }
   ],
   "source": [
    "m,n,k=2,3,1\n",
    "path=Solution()\n",
    "path.movingCount(m, n, k)"
   ]
  },
  {
   "cell_type": "code",
   "execution_count": null,
   "metadata": {},
   "outputs": [],
   "source": []
  },
  {
   "cell_type": "code",
   "execution_count": null,
   "metadata": {},
   "outputs": [],
   "source": []
  }
 ],
 "metadata": {
  "kernelspec": {
   "display_name": "Python 3",
   "language": "python",
   "name": "python3"
  },
  "language_info": {
   "codemirror_mode": {
    "name": "ipython",
    "version": 3
   },
   "file_extension": ".py",
   "mimetype": "text/x-python",
   "name": "python",
   "nbconvert_exporter": "python",
   "pygments_lexer": "ipython3",
   "version": "3.8.3"
  }
 },
 "nbformat": 4,
 "nbformat_minor": 4
}
