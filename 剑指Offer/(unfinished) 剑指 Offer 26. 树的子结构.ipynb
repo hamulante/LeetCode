{
 "cells": [
  {
   "cell_type": "markdown",
   "metadata": {},
   "source": [
    "剑指 Offer 26. 树的子结构\n",
    "输入两棵二叉树A和B，判断B是不是A的子结构。(约定空树不是任意一个树的子结构)\n",
    "B是A的子结构， 即 A中有出现和B相同的结构和节点值。\n",
    "\n",
    "例如:\n",
    "给定的树 A:\n",
    "\n",
    "     3\n",
    "    / \\\n",
    "   4   5\n",
    "  / \\\n",
    " 1   2\n",
    " \n",
    "给定的树 B：\n",
    "\n",
    "   4 \n",
    "  /\n",
    " 1\n",
    " \n",
    "返回 true，因为 B 与 A 的一个子树拥有相同的结构和节点值。\n",
    "\n",
    "示例 1：\n",
    "输入：A = [1,2,3], B = [3,1]\n",
    "输出：false\n",
    "\n",
    "示例 2：\n",
    "输入：A = [3,4,5,1,2], B = [4,1]\n",
    "输出：true"
   ]
  },
  {
   "cell_type": "code",
   "execution_count": 1,
   "metadata": {},
   "outputs": [
    {
     "ename": "NameError",
     "evalue": "name 'TreeNode' is not defined",
     "output_type": "error",
     "traceback": [
      "\u001b[0;31m---------------------------------------------------------------------------\u001b[0m",
      "\u001b[0;31mNameError\u001b[0m                                 Traceback (most recent call last)",
      "\u001b[0;32m<ipython-input-1-ea52841324cd>\u001b[0m in \u001b[0;36m<module>\u001b[0;34m\u001b[0m\n\u001b[1;32m     20\u001b[0m \u001b[0;31m#树 B 是 树 A 左子树 的子结构，对应 isSubStructure(A.left, B)；\u001b[0m\u001b[0;34m\u001b[0m\u001b[0;34m\u001b[0m\u001b[0;34m\u001b[0m\u001b[0m\n\u001b[1;32m     21\u001b[0m \u001b[0;31m#树 B 是 树 A 右子树 的子结构，对应 isSubStructure(A.right, B)；\u001b[0m\u001b[0;34m\u001b[0m\u001b[0;34m\u001b[0m\u001b[0;34m\u001b[0m\u001b[0m\n\u001b[0;32m---> 22\u001b[0;31m \u001b[0;32mclass\u001b[0m \u001b[0mSolution\u001b[0m\u001b[0;34m:\u001b[0m\u001b[0;34m\u001b[0m\u001b[0;34m\u001b[0m\u001b[0m\n\u001b[0m\u001b[1;32m     23\u001b[0m     \u001b[0;32mdef\u001b[0m \u001b[0misSubStructure\u001b[0m\u001b[0;34m(\u001b[0m\u001b[0mself\u001b[0m\u001b[0;34m,\u001b[0m \u001b[0mA\u001b[0m\u001b[0;34m:\u001b[0m \u001b[0mTreeNode\u001b[0m\u001b[0;34m,\u001b[0m \u001b[0mB\u001b[0m\u001b[0;34m:\u001b[0m \u001b[0mTreeNode\u001b[0m\u001b[0;34m)\u001b[0m \u001b[0;34m->\u001b[0m \u001b[0mbool\u001b[0m\u001b[0;34m:\u001b[0m\u001b[0;34m\u001b[0m\u001b[0;34m\u001b[0m\u001b[0m\n\u001b[1;32m     24\u001b[0m         \u001b[0;32mdef\u001b[0m \u001b[0mrecur\u001b[0m\u001b[0;34m(\u001b[0m\u001b[0mA\u001b[0m\u001b[0;34m,\u001b[0m \u001b[0mB\u001b[0m\u001b[0;34m)\u001b[0m\u001b[0;34m:\u001b[0m\u001b[0;34m\u001b[0m\u001b[0;34m\u001b[0m\u001b[0m\n",
      "\u001b[0;32m<ipython-input-1-ea52841324cd>\u001b[0m in \u001b[0;36mSolution\u001b[0;34m()\u001b[0m\n\u001b[1;32m     21\u001b[0m \u001b[0;31m#树 B 是 树 A 右子树 的子结构，对应 isSubStructure(A.right, B)；\u001b[0m\u001b[0;34m\u001b[0m\u001b[0;34m\u001b[0m\u001b[0;34m\u001b[0m\u001b[0m\n\u001b[1;32m     22\u001b[0m \u001b[0;32mclass\u001b[0m \u001b[0mSolution\u001b[0m\u001b[0;34m:\u001b[0m\u001b[0;34m\u001b[0m\u001b[0;34m\u001b[0m\u001b[0m\n\u001b[0;32m---> 23\u001b[0;31m     \u001b[0;32mdef\u001b[0m \u001b[0misSubStructure\u001b[0m\u001b[0;34m(\u001b[0m\u001b[0mself\u001b[0m\u001b[0;34m,\u001b[0m \u001b[0mA\u001b[0m\u001b[0;34m:\u001b[0m \u001b[0mTreeNode\u001b[0m\u001b[0;34m,\u001b[0m \u001b[0mB\u001b[0m\u001b[0;34m:\u001b[0m \u001b[0mTreeNode\u001b[0m\u001b[0;34m)\u001b[0m \u001b[0;34m->\u001b[0m \u001b[0mbool\u001b[0m\u001b[0;34m:\u001b[0m\u001b[0;34m\u001b[0m\u001b[0;34m\u001b[0m\u001b[0m\n\u001b[0m\u001b[1;32m     24\u001b[0m         \u001b[0;32mdef\u001b[0m \u001b[0mrecur\u001b[0m\u001b[0;34m(\u001b[0m\u001b[0mA\u001b[0m\u001b[0;34m,\u001b[0m \u001b[0mB\u001b[0m\u001b[0;34m)\u001b[0m\u001b[0;34m:\u001b[0m\u001b[0;34m\u001b[0m\u001b[0;34m\u001b[0m\u001b[0m\n\u001b[1;32m     25\u001b[0m             \u001b[0;32mif\u001b[0m \u001b[0;32mnot\u001b[0m \u001b[0mB\u001b[0m\u001b[0;34m:\u001b[0m \u001b[0;32mreturn\u001b[0m \u001b[0;32mTrue\u001b[0m\u001b[0;34m\u001b[0m\u001b[0;34m\u001b[0m\u001b[0m\n",
      "\u001b[0;31mNameError\u001b[0m: name 'TreeNode' is not defined"
     ]
    }
   ],
   "source": [
    "#若树 B 是树 A 的子结构，则子结构的根节点可能为树 A 的任意一个节点。因此，判断树 B 是否是树 A 的子结构，需完成以下两步工作：\n",
    "#先序遍历树 A 中的每个节点 n_A；（对应函数 isSubStructure(A, B)）\n",
    "#判断树 A 中 以 n_A 为根节点的子树 是否包含树 B。（对应函数 recur(A, B)）\n",
    "\n",
    "#树 A 的根节点记作 节点 A ，树 B 的根节点称为 节点 B\n",
    "\n",
    "#recur(A, B) 函数：\n",
    "#终止条件：\n",
    "#当节点 B 为空：说明树 B 已匹配完成（越过叶子节点），因此返回 true ；\n",
    "#当节点 A 为空：说明已经越过树 A 叶子节点，即匹配失败，返回 false ；\n",
    "#当节点 A 和 B 的值不同：说明匹配失败，返回 false ；\n",
    "#返回值：\n",
    "#判断 A 和 B 的左子节点是否相等，即 recur(A.left, B.left) ；\n",
    "#判断 A 和 B 的右子节点是否相等，即 recur(A.right, B.right) ；\n",
    "\n",
    "#isSubStructure(A, B) 函数：\n",
    "#特例处理： 当 树 A 为空 或 树 B 为空 时，直接返回 false ；\n",
    "#返回值： 若树 B 是树 A 的子结构，则必满足以下三种情况之一，因此用或 || 连接；\n",
    "#以 节点 A 为根节点的子树 包含树 B ，对应 recur(A, B)；\n",
    "#树 B 是 树 A 左子树 的子结构，对应 isSubStructure(A.left, B)；\n",
    "#树 B 是 树 A 右子树 的子结构，对应 isSubStructure(A.right, B)；\n",
    "class Solution:\n",
    "    def isSubStructure(self, A: TreeNode, B: TreeNode) -> bool:\n",
    "        def recur(A, B):\n",
    "            if not B: return True\n",
    "            if not A or A.val != B.val: return False\n",
    "            return recur(A.left, B.left) and recur(A.right, B.right)\n",
    "\n",
    "        return bool(A and B) and (recur(A, B) or self.isSubStructure(A.left, B) or self.isSubStructure(A.right, B))\n",
    "#太简洁，第二次可能要看不懂了\n",
    "#执行用时：148 ms, 在所有 Python3 提交中击败了42.65%的用户\n",
    "#内存消耗：17.6 MB, 在所有 Python3 提交中击败了75.79%的用户"
   ]
  },
  {
   "cell_type": "code",
   "execution_count": null,
   "metadata": {},
   "outputs": [],
   "source": [
    "class Solution:\n",
    "    def isSubStructure(self, A: TreeNode, B: TreeNode) -> bool:\n",
    "        res = False\n",
    "        if A is not None and B is not None:\n",
    "            if A.val == B.val:\n",
    "                res = self.helper(A,B)\n",
    "            if not res:\n",
    "                res = self.isSubStructure(A.left, B)\n",
    "            if not res:\n",
    "                res = self.isSubStructure(A.right, B)\n",
    "        return res\n",
    "    \n",
    "    def helper(self, A, B):\n",
    "        if B is None:\n",
    "            return True\n",
    "        if A is None:\n",
    "            return False\n",
    "        if A.val != B.val:\n",
    "            return False\n",
    "        return self.helper(A.left, B.left) and self.helper(A.right, B.right)\n",
    "\n",
    "作者：bryceustc\n",
    "链接：https://leetcode-cn.com/problems/shu-de-zi-jie-gou-lcof/solution/shu-de-zi-jie-gou-di-gui-bian-li-by-tang-ji-he-de-/\n",
    "来源：力扣（LeetCode）\n",
    "著作权归作者所有。商业转载请联系作者获得授权，非商业转载请注明出处。"
   ]
  },
  {
   "cell_type": "code",
   "execution_count": null,
   "metadata": {},
   "outputs": [],
   "source": [
    "A=[1,2,3,4]\n",
    "B=[3]\n",
    "s=Solution()\n",
    "s.isSubStructure()"
   ]
  },
  {
   "cell_type": "code",
   "execution_count": null,
   "metadata": {},
   "outputs": [],
   "source": []
  }
 ],
 "metadata": {
  "kernelspec": {
   "display_name": "Python 3",
   "language": "python",
   "name": "python3"
  },
  "language_info": {
   "codemirror_mode": {
    "name": "ipython",
    "version": 3
   },
   "file_extension": ".py",
   "mimetype": "text/x-python",
   "name": "python",
   "nbconvert_exporter": "python",
   "pygments_lexer": "ipython3",
   "version": "3.8.3"
  }
 },
 "nbformat": 4,
 "nbformat_minor": 4
}
