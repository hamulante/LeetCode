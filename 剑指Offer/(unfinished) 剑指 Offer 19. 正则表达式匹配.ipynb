{
 "cells": [
  {
   "cell_type": "markdown",
   "metadata": {},
   "source": [
    "剑指 Offer 19. 正则表达式匹配\n",
    "\n",
    "请实现一个函数用来匹配包含'. '和'*'的正则表达式。模式中的字符'.'表示任意一个字符，而'*'表示它前面的字符可以出现任意次（含0次）。在本题中，匹配是指字符串的所有字符匹配整个模式。例如，字符串\"aaa\"与模式\"a.a\"和\"ab*ac*a\"匹配，但与\"aa.a\"和\"ab*a\"均不匹配。\n",
    "\n",
    "示例 1:\n",
    "输入:\n",
    "s = \"aa\"\n",
    "p = \"a\"\n",
    "输出: false\n",
    "解释: \"a\" 无法匹配 \"aa\" 整个字符串。\n",
    "\n",
    "示例 2:\n",
    "输入:\n",
    "s = \"aa\"\n",
    "p = \"a*\"\n",
    "输出: true\n",
    "解释: 因为 '*' 代表可以匹配零个或多个前面的那一个元素, 在这里前面的元素就是 'a'。因此，字符串 \"aa\" 可被视为 'a' 重复了一次。\n",
    "\n",
    "示例 3:\n",
    "输入:\n",
    "s = \"ab\"\n",
    "p = \".*\"\n",
    "输出: true\n",
    "解释: \".*\" 表示可匹配零个或多个（'*'）任意字符（'.'）。\n",
    "\n",
    "示例 4:\n",
    "输入:\n",
    "s = \"aab\"\n",
    "p = \"c*a*b\"\n",
    "输出: true\n",
    "解释: 因为 '*' 表示零个或多个，这里 'c' 为 0 个, 'a' 被重复一次。因此可以匹配字符串 \"aab\"。\n",
    "\n",
    "示例 5:\n",
    "输入:\n",
    "s = \"mississippi\"\n",
    "p = \"mis*is*p*.\"\n",
    "输出: false"
   ]
  },
  {
   "cell_type": "markdown",
   "metadata": {},
   "source": [
    "解题思路\n",
    "假设主串为A长度为n，模式串为B长度为m,从最后一步出发，需要关注最后进来的字符。\n",
    "正则表达式B的最后一个字符它有三种可能，正常字符、∗ 和.\n",
    "那针对这三种情况讨论即可，如下：\n",
    "1. 如果B的最后一个字符是正常字符，那就是看 A[n-1]是否等于 B[m-1]，相等则看 A_{0..n-2}与 B_{0..m-2}B,不等则是不能匹配，这就是子问题。\n",
    "2. 如果B的最后一个字符是.，它能匹配任意字符，直接看 A_{0..n-2}与 B_{0..m-2},.m−2\n",
    "3. 如果B的最后一个字符是*，它代表 B[m-2]=c，可以重复0次或多次，它们是一个整体 c*。\n",
    "3.1 A[n-1]是0个c，B最后两个字符废了，能否匹配取决于 A_{0..n-1}和 B_{0..m-3}是否匹配\n",
    "3.2 A[n-1]是多个c中的最后一个（这种情况必须 A[n-1]=c或者 c='.'），所以A匹配完往前挪一个，B继续匹配，因为可以匹配多个，继续看 A_{0..n-2}和B_{0..m-1}是否匹配。\n",
    "\n",
    "转移方程\n",
    "f[i][j]代表A的前i个和B的前j个能否匹配(boolean)\n",
    "对于前面两个情况，可以合并成一种情况 f[i][j] = f[i-1][j-1]\n",
    "对于第三种情况，对于c*分为看和不看两种情况\n",
    "不看：直接砍掉正则串的后面两个， f[i][j] = f[i][j-2]\n",
    "看：正则串不动，主串前移一个，f[i][j] = f[i-1][j]\n",
    "\n",
    "初始条件\n",
    "特判：需要考虑空串空正则\n",
    "空串和空正则是匹配的，f[0][0] = true\n",
    "非空串和空正则必不匹配\n",
    "空串和非空正则，必须要计算出来。（比如A=A= '',B=a*b*c*）\n",
    "非空串和非空正则，那肯定是需要计算的了。\n",
    "\n",
    "结果：f[n][m]"
   ]
  },
  {
   "cell_type": "code",
   "execution_count": 13,
   "metadata": {},
   "outputs": [],
   "source": [
    "#递归\n",
    "class Solution(object):\n",
    "    def isMatch(self, s, p):\n",
    "        n=len(s)\n",
    "        m=len(p)\n",
    "        \n",
    "        if m==0 and n==0:\n",
    "            return True \n",
    "        elif m!=0 and n==0:\n",
    "            return False\n",
    "        elif m!=0 and n!=0:\n",
    "            if p[-1]==s[-1]:\n",
    "                return self.isMatch(s[:-1],p[:-1])\n",
    "            elif p[-1]=='.':\n",
    "                return self.isMatch(s[:-1],p[:-1])\n",
    "            elif p[-1]=='*':\n",
    "                \n",
    "                \n"
   ]
  },
  {
   "cell_type": "code",
   "execution_count": 14,
   "metadata": {},
   "outputs": [],
   "source": [
    "s = \"aa\"\n",
    "p = \"a*\"\n",
    "so=Solution()\n",
    "so.isMatch(s,p)"
   ]
  },
  {
   "cell_type": "code",
   "execution_count": 12,
   "metadata": {},
   "outputs": [
    {
     "name": "stdout",
     "output_type": "stream",
     "text": [
      "appl e\n"
     ]
    }
   ],
   "source": [
    "a='apple'\n",
    "print(a[:-1],a[-1])"
   ]
  },
  {
   "cell_type": "code",
   "execution_count": null,
   "metadata": {},
   "outputs": [],
   "source": []
  }
 ],
 "metadata": {
  "kernelspec": {
   "display_name": "Python 3",
   "language": "python",
   "name": "python3"
  },
  "language_info": {
   "codemirror_mode": {
    "name": "ipython",
    "version": 3
   },
   "file_extension": ".py",
   "mimetype": "text/x-python",
   "name": "python",
   "nbconvert_exporter": "python",
   "pygments_lexer": "ipython3",
   "version": "3.8.3"
  }
 },
 "nbformat": 4,
 "nbformat_minor": 4
}
