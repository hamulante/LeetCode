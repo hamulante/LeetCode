{
 "cells": [
  {
   "cell_type": "markdown",
   "metadata": {},
   "source": [
    "剑指 Offer 25. 合并两个排序的链表\n",
    "输入两个递增排序的链表，合并这两个链表并使新链表中的节点仍然是递增排序的。\n",
    "\n",
    "示例1：\n",
    "输入：1->2->4, 1->3->4\n",
    "输出：1->1->2->3->4->4"
   ]
  },
  {
   "cell_type": "code",
   "execution_count": 3,
   "metadata": {},
   "outputs": [],
   "source": [
    "class ListNode(object):\n",
    "    def __init__(self, x):\n",
    "        self.val = x\n",
    "        self.next = None\n",
    "def createListNode(arr):\n",
    "    head=ListNode(arr[0])\n",
    "    current=head\n",
    "    for i in range(1,len(arr)):\n",
    "        current.next=ListNode(arr[i])\n",
    "        current=current.next\n",
    "    return head\n",
    "given_list1=[1,2,4]\n",
    "l1=createListNode(given_list1)\n",
    "given_list2=[1,3,4]\n",
    "l2=createListNode(given_list1)"
   ]
  },
  {
   "cell_type": "code",
   "execution_count": null,
   "metadata": {},
   "outputs": [],
   "source": [
    "#根据题目描述， 链表 l1,l2是递增的，因此容易想到使用双指针遍历两链表，根据大小关系确定节点添加顺序，两节点指针交替前进，直至遍历完毕。\n",
    "#引入伪头节点： 由于初始状态合并链表中无节点，因此循环第一轮时无法将节点添加到合并链表中。\n",
    "#解决方案：初始化一个辅助节点 dum 作为合并链表的伪头节点，将各节点添加至 dum 之后。\n",
    "# class Solution(object):\n",
    "#     def mergeTwoLists(self, l1, l2):\n",
    "#         cur = dum = ListNode(0)\n",
    "#         while l1 and l2:\n",
    "#             if l1.val < l2.val:\n",
    "#                 cur.next, l1 = l1, l1.next#l1成为了dum后的第一个节点，也其实是真正意义上的第一个节点，同时l1向后一位\n",
    "#             else:\n",
    "#                 cur.next, l2 = l2, l2.next#l2成为了dum后的第一个节点，也其实是真正意义上的第一个节点，同时l2向后一位\n",
    "#             cur = cur.next\n",
    "#         cur.next = l1 if l1 else l2#如果某一个链表为空，直接返回即可\n",
    "#         return dum.next\n",
    "#执行用时：36 ms, 在所有 Python 提交中击败了96.64%的用户\n",
    "#内存消耗：13.8 MB, 在所有 Python 提交中击败了64.53%的用户"
   ]
  },
  {
   "cell_type": "code",
   "execution_count": 6,
   "metadata": {},
   "outputs": [],
   "source": [
    "class Solution(object):\n",
    "    def mergeTwoLists(self, l1, l2):\n",
    "        if l1 and l2:\n",
    "            (l1, l2) = (l2, l1) if l2.val < l1.val else (l1, l2)\n",
    "            l1.next = self.mergeTwoLists(l1.next, l2)       \n",
    "        return l1 or l2\n",
    "#执行用时：40 ms, 在所有 Python 提交中击败了91.14%的用户\n",
    "#内存消耗：15.4 MB, 在所有 Python 提交中击败了5.12%的用户"
   ]
  },
  {
   "cell_type": "code",
   "execution_count": 7,
   "metadata": {},
   "outputs": [
    {
     "data": {
      "text/plain": [
       "<__main__.ListNode at 0x7f90e6bd0460>"
      ]
     },
     "execution_count": 7,
     "metadata": {},
     "output_type": "execute_result"
    }
   ],
   "source": [
    "s=Solution()\n",
    "s.mergeTwoLists(l1,l2)"
   ]
  },
  {
   "cell_type": "code",
   "execution_count": null,
   "metadata": {},
   "outputs": [],
   "source": []
  }
 ],
 "metadata": {
  "kernelspec": {
   "display_name": "Python 3",
   "language": "python",
   "name": "python3"
  },
  "language_info": {
   "codemirror_mode": {
    "name": "ipython",
    "version": 3
   },
   "file_extension": ".py",
   "mimetype": "text/x-python",
   "name": "python",
   "nbconvert_exporter": "python",
   "pygments_lexer": "ipython3",
   "version": "3.8.3"
  }
 },
 "nbformat": 4,
 "nbformat_minor": 4
}
