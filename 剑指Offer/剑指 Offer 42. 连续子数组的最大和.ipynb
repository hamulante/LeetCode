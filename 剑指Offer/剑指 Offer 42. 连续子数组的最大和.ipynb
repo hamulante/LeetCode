{
 "cells": [
  {
   "cell_type": "markdown",
   "metadata": {},
   "source": [
    "剑指 Offer 42. 连续子数组的最大和\n",
    "\n",
    "输入一个整型数组，数组中的一个或连续多个整数组成一个子数组。求所有子数组的和的最大值。\n",
    "要求时间复杂度为O(n)。\n",
    "\n",
    "示例1:\n",
    "输入: nums = [-2,1,-3,4,-1,2,1,-5,4]\n",
    "输出: 6\n",
    "解释: 连续子数组 [4,-1,2,1] 的和最大，为 6。"
   ]
  },
  {
   "cell_type": "code",
   "execution_count": null,
   "metadata": {},
   "outputs": [],
   "source": [
    "#刷题的好处就是一眼看出是动态规划\n",
    "#但是不影响我做不出\n",
    "#常见解法 时间复杂度 空间复杂度\n",
    "#暴力搜索 O(N^2)    O(1)\n",
    "#分治思想 O(NlogN)  O(logN)\n",
    "#动态规划 O(N)      O(1)"
   ]
  },
  {
   "cell_type": "code",
   "execution_count": 23,
   "metadata": {},
   "outputs": [],
   "source": [
    "#定义一个变量max，存储最大值，初始为nums[0]->max是多个数字的累加\n",
    "#定义一个变量pre，存储前一个数作为连续子数组的最后一个数时表示的最大值，初始为nums[0]->pre是多个数字的累加\n",
    "#从nums[1]开始遍历数组，获取当前数作为最后一个数时表示的最大值cur->cur是多个数字的累加，cur比pre多一个当前数的值\n",
    "#如果pre小于等于0，则直接舍弃，因为pre+cur<=cur；当pre大于0时，cur的值为当前数与pre的和\n",
    "#然后将之前已有的max与cur比较，取较大值赋值给max，然后将cur赋值给pre，继续遍历数组的下一个数\n",
    "#循环结束，则max即为最终的最大值\n",
    "class Solution(object):\n",
    "    def maxSubArray(self, nums):\n",
    "        ans=nums[0]\n",
    "        pre=nums[0]\n",
    "        for i in range(1,len(nums)):\n",
    "            if pre<=0:\n",
    "                cur=nums[i]\n",
    "                #pre=nums[i] \n",
    "                #ans=nums[i] 这里没必要额外重置，ifelse判断结束后会统一赋值\n",
    "            else:\n",
    "                cur=pre+nums[i] \n",
    "            ans=max(ans,cur)\n",
    "            pre=cur\n",
    "        return ans\n",
    "#时间复杂度：O(N)\n",
    "#空间复杂度：O(1)"
   ]
  },
  {
   "cell_type": "code",
   "execution_count": 24,
   "metadata": {},
   "outputs": [
    {
     "data": {
      "text/plain": [
       "6"
      ]
     },
     "execution_count": 24,
     "metadata": {},
     "output_type": "execute_result"
    }
   ],
   "source": [
    "nums=[-2,1,-3,4,-1,2,1,-5,4]\n",
    "s=Solution()\n",
    "s.maxSubArray(nums)"
   ]
  },
  {
   "cell_type": "code",
   "execution_count": null,
   "metadata": {},
   "outputs": [],
   "source": [
    "class Solution {\n",
    "    public int maxSubArray(int[] nums) {\n",
    "        int max = nums[0];\n",
    "        int pre = nums[0];\n",
    "        for (int i = 1; i < nums.length; i ++) {\n",
    "            int cur = pre > 0 ? nums[i] + pre : nums[i];\n",
    "            max = Math.max(cur, max);\n",
    "            pre = cur;\n",
    "        }\n",
    "        return max;\n",
    "    }\n",
    "}"
   ]
  },
  {
   "cell_type": "code",
   "execution_count": null,
   "metadata": {},
   "outputs": [],
   "source": []
  }
 ],
 "metadata": {
  "kernelspec": {
   "display_name": "Python 3",
   "language": "python",
   "name": "python3"
  },
  "language_info": {
   "codemirror_mode": {
    "name": "ipython",
    "version": 3
   },
   "file_extension": ".py",
   "mimetype": "text/x-python",
   "name": "python",
   "nbconvert_exporter": "python",
   "pygments_lexer": "ipython3",
   "version": "3.8.3"
  }
 },
 "nbformat": 4,
 "nbformat_minor": 4
}
