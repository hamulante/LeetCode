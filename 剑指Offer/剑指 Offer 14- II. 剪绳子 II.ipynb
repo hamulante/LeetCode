{
 "cells": [
  {
   "cell_type": "markdown",
   "metadata": {},
   "source": [
    "剑指 Offer 14- II. 剪绳子 II\n",
    "\n",
    "给你一根长度为 n 的绳子，请把绳子剪成整数长度的 m 段（m、n都是整数，n>1并且m>1），每段绳子的长度记为 k[0],k[1]...k[m - 1] 。请问 k[0]*k[1]*...*k[m - 1] 可能的最大乘积是多少？例如，当绳子的长度是8时，我们把它剪成长度分别为2、3、3的三段，此时得到的最大乘积是18。\n",
    "答案需要取模 1e9+7（1000000007），如计算初始结果为：1000000008，请返回 1。\n",
    "\n",
    "示例 1：\n",
    "输入: 2\n",
    "输出: 1\n",
    "解释: 2 = 1 + 1, 1 × 1 = 1\n",
    "\n",
    "示例 2:\n",
    "输入: 10\n",
    "输出: 36\n",
    "解释: 10 = 3 + 3 + 4, 3 × 3 × 4 = 36"
   ]
  },
  {
   "cell_type": "code",
   "execution_count": 1,
   "metadata": {},
   "outputs": [],
   "source": [
    "class Solution(object):\n",
    "    def cuttingRope(self, n):\n",
    "        if n<=3:\n",
    "            return n-1\n",
    "        else:\n",
    "            num_3=0\n",
    "            res=n\n",
    "            while res>4:\n",
    "                res=res-3\n",
    "                num_3+=1\n",
    "            return (3**num_3)*(n-3*num_3)%1000000007\n",
    "#执行用时：24 ms, 在所有 Python 提交中击败了61.76%的用户\n",
    "#内存消耗：12.6 MB, 在所有 Python 提交中击败了90.07%的用户"
   ]
  },
  {
   "cell_type": "code",
   "execution_count": 2,
   "metadata": {},
   "outputs": [
    {
     "data": {
      "text/plain": [
       "6"
      ]
     },
     "execution_count": 2,
     "metadata": {},
     "output_type": "execute_result"
    }
   ],
   "source": [
    "n=5\n",
    "product=Solution()\n",
    "product.cuttingRope(n)"
   ]
  },
  {
   "cell_type": "code",
   "execution_count": null,
   "metadata": {},
   "outputs": [],
   "source": []
  }
 ],
 "metadata": {
  "kernelspec": {
   "display_name": "Python 3",
   "language": "python",
   "name": "python3"
  },
  "language_info": {
   "codemirror_mode": {
    "name": "ipython",
    "version": 3
   },
   "file_extension": ".py",
   "mimetype": "text/x-python",
   "name": "python",
   "nbconvert_exporter": "python",
   "pygments_lexer": "ipython3",
   "version": "3.8.3"
  }
 },
 "nbformat": 4,
 "nbformat_minor": 4
}
