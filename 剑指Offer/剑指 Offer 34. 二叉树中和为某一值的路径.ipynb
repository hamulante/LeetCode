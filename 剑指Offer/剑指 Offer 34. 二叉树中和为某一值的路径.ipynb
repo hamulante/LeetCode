{
 "cells": [
  {
   "cell_type": "markdown",
   "metadata": {},
   "source": [
    "剑指 Offer 34. 二叉树中和为某一值的路径\n",
    "输入一棵二叉树和一个整数，打印出二叉树中节点值的和为输入整数的所有路径。从树的根节点开始往下一直到叶节点所经过的节点形成一条路径。\n",
    "（必须能到最底层的孩子）\n",
    "示例:\n",
    "给定如下二叉树，以及目标和 sum = 22，\n",
    "\n",
    "              5\n",
    "             / \\\n",
    "            4   8\n",
    "           /   / \\\n",
    "          11  13  4\n",
    "         /  \\    / \\\n",
    "        7    2  5   1\n",
    "返回:\n",
    "\n",
    "[\n",
    "   [5,4,11,2],\n",
    "   [5,8,4,5]\n",
    "]"
   ]
  },
  {
   "cell_type": "code",
   "execution_count": null,
   "metadata": {},
   "outputs": [],
   "source": [
    "#先序遍历： 按照 “根、左、右” 的顺序，遍历树的所有节点。\n",
    "#路径记录： 在先序遍历中，记录从根节点到当前节点的路径。当路径为①根节点到叶节点形成的路径且②各节点值的和等于目标值时，将此路径加入结果列表。\n",
    "#算法流程：pathSum(root, sum) 函数：\n",
    "#初始化： 结果列表 res ，路径列表 path 。\n",
    "#返回值： 返回 res 即可。\n",
    "#recur(root, tar) 函数：\n",
    "#递推参数： 当前节点 root ，当前目标值 tar 。\n",
    "#终止条件： 若节点 root 为空，则直接返回。\n",
    "#递推工作：\n",
    "#路径更新： 将当前节点值 root.val 加入路径 path ；\n",
    "#目标值更新： tar = tar - root.val（tar是剩余要走的步数）；\n",
    "#路径记录： 当 ① root 为叶节点 且 ② 路径和等于目标值 ，则将此路径 path 加入 res 。\n",
    "#先序遍历： 递归左 / 右子节点。\n",
    "#路径恢复： 向上回溯前，需要将当前节点从路径 path 中删除，即执行 path.pop() 。\n",
    "\n",
    "class Solution(object):\n",
    "    def pathSum(self, root, sum):\n",
    "        res, path = [], []\n",
    "        def recur(root, tar):\n",
    "            if not root: \n",
    "                return\n",
    "            path.append(root.val)\n",
    "            tar -= root.val\n",
    "            if tar == 0 and not root.left and not root.right:\n",
    "                res.append(list(path))\n",
    "                #若直接执行 res.append(path) ，则是将 path 对象加入了 res，则后续 path 改变时， res 中的 path 对象也会随之改变。\n",
    "                #res.append(list(path)) ，相当于复制了一个 path 并加入到 res\n",
    "                #最终的res数组是由多个path数组构成的\n",
    "            recur(root.left, tar)\n",
    "            recur(root.right, tar)\n",
    "            path.pop()#清空临时储存的path的节点\n",
    "            \n",
    "        recur(root, sum)#主函数第一次call了递归体\n",
    "        return res\n",
    "#时间复杂度 O(N) ： N 为二叉树的节点数，先序遍历需要遍历所有节点。\n",
    "#空间复杂度 O(N) ： 最差情况下，即树退化为链表时，path 存储所有树节点，使用 O(N)。\n",
    "#多余的空间（path为中间储存一条路径的数组），才是我们需要的复杂度分析"
   ]
  }
 ],
 "metadata": {
  "kernelspec": {
   "display_name": "Python 3",
   "language": "python",
   "name": "python3"
  },
  "language_info": {
   "codemirror_mode": {
    "name": "ipython",
    "version": 3
   },
   "file_extension": ".py",
   "mimetype": "text/x-python",
   "name": "python",
   "nbconvert_exporter": "python",
   "pygments_lexer": "ipython3",
   "version": "3.8.3"
  }
 },
 "nbformat": 4,
 "nbformat_minor": 4
}
