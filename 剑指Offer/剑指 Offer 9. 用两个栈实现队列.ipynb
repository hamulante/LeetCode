{
 "cells": [
  {
   "cell_type": "markdown",
   "metadata": {},
   "source": [
    "剑指 Offer 09. 用两个栈实现队列\n",
    "\n",
    "用两个栈实现一个队列。队列的声明如下，请实现它的两个函数 appendTail 和 deleteHead ，分别完成在队列尾部插入整数和在队列头部删除整数的功能。(若队列中没有元素，deleteHead 操作返回 -1 )\n",
    "\n",
    "示例 1：\n",
    "输入：\n",
    "[\"CQueue\",\"appendTail\",\"deleteHead\",\"deleteHead\"]\n",
    "[[],[3],[],[]]\n",
    "输出：[null,null,3,-1]\n",
    "\n",
    "示例 2：\n",
    "输入：\n",
    "[\"CQueue\",\"deleteHead\",\"appendTail\",\"appendTail\",\"deleteHead\",\"deleteHead\"]\n",
    "[[],[],[5],[2],[],[]]\n",
    "输出：[null,-1,null,null,5,2]"
   ]
  },
  {
   "cell_type": "code",
   "execution_count": 70,
   "metadata": {},
   "outputs": [],
   "source": [
    "class CQueue(object):\n",
    "\n",
    "    def __init__(self):\n",
    "        self.stack1=[]\n",
    "        self.stack2=[]\n",
    "\n",
    "    def appendTail(self, value):\n",
    "        self.stack1.append(value)\n",
    "#         print('null')\n",
    "    def deleteHead(self):\n",
    "        if len(self.stack1)==0 and len(self.stack2)==0:\n",
    "            return -1\n",
    "#             print('-1')\n",
    "        if len(self.stack1)!=0 and len(self.stack2)==0:\n",
    "            while len(self.stack1)>0:\n",
    "                self.stack2.append(self.stack1.pop(-1))\n",
    "            return self.stack2.pop(-1)\n",
    "#             print(self.stack2.pop(-1))\n",
    "        if len(self.stack2)!=0:\n",
    "            return self.stack2.pop(-1)\n",
    "#             print(self.stack2.pop(-1))\n",
    "#执行用时：1688 ms, 在所有 Python 提交中击败了56.84%的用户\n",
    "#内存消耗：17.2 MB, 在所有 Python 提交中击败了91.09%的用户"
   ]
  },
  {
   "cell_type": "code",
   "execution_count": 71,
   "metadata": {},
   "outputs": [
    {
     "name": "stdout",
     "output_type": "stream",
     "text": [
      "-1\n",
      "null\n",
      "97\n",
      "-1\n",
      "-1\n",
      "-1\n",
      "null\n",
      "15\n",
      "null\n",
      "null\n",
      "1\n",
      "43\n",
      "-1\n",
      "-1\n",
      "null\n",
      "18\n",
      "-1\n",
      "-1\n",
      "-1\n",
      "null\n",
      "null\n",
      "null\n",
      "null\n",
      "36\n",
      "69\n",
      "21\n",
      "null\n",
      "null\n",
      "91\n",
      "22\n",
      "40\n"
     ]
    }
   ],
   "source": [
    "#[\"CQueue\",\"deleteHead\",\"appendTail\",\"deleteHead\",\"deleteHead\",\"deleteHead\",\"deleteHead\",\"appendTail\",\"deleteHead\",\"appendTail\",\"appendTail\",\"deleteHead\",\"deleteHead\",\"deleteHead\",\"appendTail\",\"deleteHead\",\"deleteHead\",\"deleteHead\",\"deleteHead\",\"appendTail\",\"appendTail\",\"appendTail\",\"appendTail\",\"deleteHead\",\"deleteHead\",\"appendTail\",\"appendTail\",\"deleteHead\",\"deleteHead\",\"deleteHead\",\"appendTail\",\"appendTail\",\"deleteHead\",\"appendTail\",\"deleteHead\",\"appendTail\",\"appendTail\",\"appendTail\",\"deleteHead\",\"deleteHead\",\"appendTail\",\"appendTail\",\"deleteHead\",\"deleteHead\",\"deleteHead\",\"deleteHead\",\"appendTail\",\"appendTail\",\"deleteHead\",\"deleteHead\",\"appendTail\",\"deleteHead\",\"appendTail\",\"appendTail\",\"appendTail\",\"appendTail\",\"deleteHead\",\"appendTail\",\"deleteHead\",\"deleteHead\",\"appendTail\",\"appendTail\",\"appendTail\",\"deleteHead\",\"deleteHead\",\"appendTail\",\"appendTail\",\"appendTail\",\"deleteHead\",\"deleteHead\",\"deleteHead\",\"deleteHead\",\"appendTail\",\"appendTail\",\"deleteHead\",\"deleteHead\",\"appendTail\",\"deleteHead\",\"appendTail\",\"appendTail\",\"deleteHead\",\"deleteHead\",\"appendTail\",\"deleteHead\",\"appendTail\",\"appendTail\",\"appendTail\",\"deleteHead\",\"appendTail\",\"appendTail\",\"appendTail\",\"appendTail\",\"deleteHead\",\"deleteHead\",\"deleteHead\",\"appendTail\",\"deleteHead\",\"appendTail\",\"deleteHead\",\"appendTail\",\"appendTail\"]\n",
    "# [[],[],[97],[],[],[],[],[15],[],[1],[43],[],[],[],[18],[],[],[],[],[36],[69],[21],[91],[],[],[22],[40],[],[],[],[81],[65],[],[77],[],[63],[96],[5],[],[],[35],[90],[],[],[],[],[77],[83],[],[],[52],[],[2],[66],[87],[90],[],[2],[],[],[33],[16],[72],[],[],[14],[78],[8],[],[],[],[],[3],[83],[],[],[13],[],[79],[44],[],[],[33],[],[55],[76],[12],[],[91],[24],[49],[47],[],[],[],[85],[],[69],[],[94],[52]]\n",
    "obj = CQueue()\n",
    "param_2 = obj.deleteHead()\n",
    "obj.appendTail(97)\n",
    "param_2 = obj.deleteHead()\n",
    "param_2 = obj.deleteHead()\n",
    "param_2 = obj.deleteHead()\n",
    "param_2 = obj.deleteHead()\n",
    "obj.appendTail(15)\n",
    "param_2 = obj.deleteHead()\n",
    "obj.appendTail(1)\n",
    "obj.appendTail(43)\n",
    "param_2 = obj.deleteHead()\n",
    "param_2 = obj.deleteHead()\n",
    "param_2 = obj.deleteHead()\n",
    "obj.appendTail(18)\n",
    "param_2 = obj.deleteHead()\n",
    "param_2 = obj.deleteHead()\n",
    "param_2 = obj.deleteHead()\n",
    "param_2 = obj.deleteHead()\n",
    "obj.appendTail(36)\n",
    "obj.appendTail(69)\n",
    "obj.appendTail(21)\n",
    "obj.appendTail(91)\n",
    "# \"deleteHead\",\"deleteHead\",\"appendTail\",\"appendTail\",\n",
    "param_2 = obj.deleteHead()\n",
    "param_2 = obj.deleteHead()\n",
    "obj.appendTail(22)\n",
    "obj.appendTail(40)\n",
    "param_2 = obj.deleteHead()\n",
    "param_2 = obj.deleteHead()\n"
   ]
  },
  {
   "cell_type": "code",
   "execution_count": null,
   "metadata": {},
   "outputs": [],
   "source": []
  },
  {
   "cell_type": "code",
   "execution_count": null,
   "metadata": {},
   "outputs": [],
   "source": []
  }
 ],
 "metadata": {
  "kernelspec": {
   "display_name": "Python 3",
   "language": "python",
   "name": "python3"
  },
  "language_info": {
   "codemirror_mode": {
    "name": "ipython",
    "version": 3
   },
   "file_extension": ".py",
   "mimetype": "text/x-python",
   "name": "python",
   "nbconvert_exporter": "python",
   "pygments_lexer": "ipython3",
   "version": "3.8.3"
  }
 },
 "nbformat": 4,
 "nbformat_minor": 4
}
