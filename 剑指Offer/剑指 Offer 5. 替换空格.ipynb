{
 "cells": [
  {
   "cell_type": "markdown",
   "metadata": {},
   "source": [
    "剑指 Offer 05. 替换空格\n",
    "\n",
    "请实现一个函数，把字符串 s 中的每个空格替换成\"%20\"。\n",
    "\n",
    "示例 1：\n",
    "输入：s = \"We are happy.\"\n",
    "输出：\"We%20are%20happy.\"\n",
    "\n",
    "限制：\n",
    "0 <= s 的长度 <= 10000"
   ]
  },
  {
   "cell_type": "code",
   "execution_count": 112,
   "metadata": {},
   "outputs": [],
   "source": [
    "# def replaceSpace(s):\n",
    "#     if len(s)==0:\n",
    "#         return (\"\")\n",
    "#     else:\n",
    "#         s_list=[]\n",
    "#         for each in s:\n",
    "#             s_list.append(each)\n",
    "#         N=len(s_list)\n",
    "#         i=0\n",
    "#         while i<=(N//2):\n",
    "#             print (s_list[i],s_list[N-i-1])\n",
    "#             if s_list[i]==' ':\n",
    "#                 s_list[i]=\"%20\"\n",
    "#             if s_list[N-i-1]==' ':\n",
    "#                 s_list[N-i-1]=\"%20\"\n",
    "#             i+=1\n",
    "#         output=''\n",
    "#         for n in range(N):\n",
    "#             output+=s_list[n]\n",
    "#         return output\n",
    "#执行用时：16 ms, 在所有 Python 提交中击败了80.87%的用户\n",
    "#内存消耗：12.9 MB, 在所有 Python 提交中击败了6.70%的用户    "
   ]
  },
  {
   "cell_type": "code",
   "execution_count": 122,
   "metadata": {},
   "outputs": [],
   "source": [
    "# def replaceSpace(s):\n",
    "#     if len(s)==0:\n",
    "#         return (\"\")\n",
    "#     else:\n",
    "#         s_list=[]\n",
    "#         for each in s:\n",
    "#             s_list.append(each)\n",
    "#         N=len(s_list)\n",
    "#         i=0\n",
    "#         while i<=(N//2):\n",
    "#             print (s_list[i],s_list[N-i-1])\n",
    "#             if s_list[i]==' ':\n",
    "#                 s_list[i]=\"%20\"\n",
    "#             if s_list[N-i-1]==' ':\n",
    "#                 s_list[N-i-1]=\"%20\"\n",
    "#             i+=1\n",
    "#         output=''.join(s_list)\n",
    "#         return output\n",
    "# 执行用时：16 ms, 在所有 Python 提交中击败了80.87%的用户\n",
    "# 内存消耗：12.7 MB, 在所有 Python 提交中击败了50.74%的用户"
   ]
  },
  {
   "cell_type": "code",
   "execution_count": 15,
   "metadata": {},
   "outputs": [],
   "source": [
    "def replaceSpace(s):\n",
    "    if len(s)==0:\n",
    "        return (\"\")\n",
    "    else:\n",
    "        output=''\n",
    "        for each in s:\n",
    "            if each ==' ':\n",
    "                output+=\"%20\"\n",
    "            else:\n",
    "                output+=each\n",
    "        return output\n",
    "\n",
    "#'str' object does not support item assignment\n",
    "#执行用时：16 ms, 在所有 Python 提交中击败了80.87%的用户\n",
    "#内存消耗：12.6 MB, 在所有 Python 提交中击败了72.92%的用户"
   ]
  },
  {
   "cell_type": "code",
   "execution_count": 16,
   "metadata": {},
   "outputs": [
    {
     "data": {
      "text/plain": [
       "'We%20are%20happy.'"
      ]
     },
     "execution_count": 16,
     "metadata": {},
     "output_type": "execute_result"
    }
   ],
   "source": [
    "s= 'We are happy.'\n",
    "replaceSpace(s)"
   ]
  },
  {
   "cell_type": "code",
   "execution_count": null,
   "metadata": {},
   "outputs": [],
   "source": []
  }
 ],
 "metadata": {
  "kernelspec": {
   "display_name": "Python 3",
   "language": "python",
   "name": "python3"
  },
  "language_info": {
   "codemirror_mode": {
    "name": "ipython",
    "version": 3
   },
   "file_extension": ".py",
   "mimetype": "text/x-python",
   "name": "python",
   "nbconvert_exporter": "python",
   "pygments_lexer": "ipython3",
   "version": "3.8.3"
  }
 },
 "nbformat": 4,
 "nbformat_minor": 4
}
