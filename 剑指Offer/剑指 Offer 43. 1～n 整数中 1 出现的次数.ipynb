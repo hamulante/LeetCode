{
 "cells": [
  {
   "cell_type": "markdown",
   "metadata": {},
   "source": [
    "剑指 Offer 43. 1～n 整数中 1 出现的次数\n",
    "\n",
    "输入一个整数 n ，求1～n这n个整数的十进制表示中1出现的次数。\n",
    "例如，输入12，1～12这些整数中包含1 的数字有1、10、11和12，1一共出现了5次。\n",
    "\n",
    "示例 1：\n",
    "输入：n = 12\n",
    "输出：5\n",
    "\n",
    "示例 2：\n",
    "输入：n = 13\n",
    "输出：6"
   ]
  },
  {
   "cell_type": "code",
   "execution_count": null,
   "metadata": {},
   "outputs": [],
   "source": [
    "#找规律\n",
    "#0~9只有一个1，那么如果某数是10的a倍，那么个位上就有a个1;\n",
    "#10~99十位上有10个1，即10~19，那么如果某数是100的a倍，是10的b倍，那么十位有a*10个1，个位有b个1，共(a*10+b*1)个1;\n",
    "#100~999百位上有100个，即100~199，那么如果某数是1000的a倍，100的b倍，是10的c倍，那么共 (a*100+b*10+c)个1;\n",
    "\n",
    "#余数规则\n",
    "#如果某数是100的x倍，根据余数y判断实际十位共有多少1\n",
    "#1. y>=20，那么十位有(x+1)*10个1\n",
    "#2.10<=y<20，那么十位有x*10+(y+1-10), 即y+1+(x-1)*10\n",
    "#3. y<10,那么十位有x*10个1\n",
    "\n",
    "class Solution(object):\n",
    "    def countDigitOne(self, n):\n",
    "        a, b, one_count = 1, 10, 0\n",
    "        while n >= a:\n",
    "            x, y = divmod(n, b)#n//b，n%b\n",
    "            #divmod()函数把除数和余数运算结果结合起来，返回一个包含商和余数的元组(a//b,a%b)。 \n",
    "            #所以x是整除部分，y是余数\n",
    "            if y >= a*2:#余数规则\n",
    "                one_count+=(x+1)*a\n",
    "            elif y >= a:\n",
    "                one_count+=y+1+(x-1)*a\n",
    "            else:\n",
    "                one_count+=x*a \n",
    "            a,b = b,b*10#不断乘以10从而实现个位开始往高位使用余数规则       \n",
    "        return one_count\n",
    "#时间复杂度：O(logN)\n",
    "#空间复杂度：O(1) \n",
    "\n",
    "#案例分析\n",
    "#如果n=2012，那么1~2012共有几个1？\n",
    "#a=1, b=10，根据x,y=divmod(n,b)可知，x=201，y=2。因为2>=2*a，那么个位共有201+1个1, one_count = 202，此时ab乘以10进入下一次循环。\n",
    "#a=10, b=100, 此时x=20，y=12。因为a<=12<2*a，那么十位共有(12+1+(20-1)*10)个1, one_count = 202+203 = 405，此时ab乘以10进入下一次循环。\n",
    "#a=100, b=1000, 此时x=2，y=12，因为12<a，那么百位共有(2*100)个1, one_count = 405+200 = 605，此时ab乘以10进入下一次循环。\n",
    "#a=1000, b=100000, 此时x=0，y=2012， 因为2012>=2*a，那么千位共有1000个1, one_count = 605+1000 = 1605"
   ]
  }
 ],
 "metadata": {
  "kernelspec": {
   "display_name": "Python 3",
   "language": "python",
   "name": "python3"
  },
  "language_info": {
   "codemirror_mode": {
    "name": "ipython",
    "version": 3
   },
   "file_extension": ".py",
   "mimetype": "text/x-python",
   "name": "python",
   "nbconvert_exporter": "python",
   "pygments_lexer": "ipython3",
   "version": "3.8.3"
  }
 },
 "nbformat": 4,
 "nbformat_minor": 4
}
