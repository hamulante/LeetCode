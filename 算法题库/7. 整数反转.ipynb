{
 "cells": [
  {
   "cell_type": "markdown",
   "metadata": {},
   "source": [
    "7. 整数反转\n",
    "给出一个 32 位的有符号整数，你需要将这个整数中每位上的数字进行反转。\n",
    "\n",
    "示例 1:\n",
    "输入: 123\n",
    "输出: 321\n",
    "\n",
    "示例 2:\n",
    "输入: -123\n",
    "输出: -321\n",
    "\n",
    "示例 3:\n",
    "输入: 120\n",
    "输出: 21\n",
    "\n",
    "注意: 假设我们的环境只能存储得下 32 位的有符号整数，则其数值范围为 [−2^31,  2^31 − 1]。请根据这个假设，如果反转后整数溢出那么就返回0。"
   ]
  },
  {
   "cell_type": "code",
   "execution_count": 6,
   "metadata": {},
   "outputs": [],
   "source": [
    "def reverse(x):\n",
    "    #123=1111011\n",
    "    #321=101000001\n",
    "    digit=[]\n",
    "    input=abs(x)\n",
    "    while input>0:\n",
    "        digit.append(input%10)\n",
    "        input=abs(input)//10\n",
    "    N=len(digit)\n",
    "    y=0\n",
    "    for i in range(0,N):\n",
    "        y+=digit[i]*(10**(N-i-1))\n",
    "    print (y)\n",
    "        \n",
    "    print(x)\n",
    "    if x<=0:\n",
    "        y=0-y\n",
    "        print (y)\n",
    "        if y<-(2**31):\n",
    "            return 0\n",
    "        else:\n",
    "            return y\n",
    "    elif x==0:\n",
    "        return 0\n",
    "    elif x>0:\n",
    "        if y>2**31-1:\n",
    "            return 0\n",
    "        elif y<=(2**31)-1 and y>=-(2**31):\n",
    "            return y \n",
    "    "
   ]
  },
  {
   "cell_type": "code",
   "execution_count": 7,
   "metadata": {},
   "outputs": [
    {
     "name": "stdout",
     "output_type": "stream",
     "text": [
      "9646324351\n",
      "1534236469\n"
     ]
    },
    {
     "data": {
      "text/plain": [
       "2"
      ]
     },
     "execution_count": 7,
     "metadata": {},
     "output_type": "execute_result"
    }
   ],
   "source": [
    "x=1534236469\n",
    "reverse(x)"
   ]
  },
  {
   "cell_type": "code",
   "execution_count": null,
   "metadata": {},
   "outputs": [],
   "source": []
  },
  {
   "cell_type": "code",
   "execution_count": null,
   "metadata": {},
   "outputs": [],
   "source": []
  }
 ],
 "metadata": {
  "kernelspec": {
   "display_name": "Python 3",
   "language": "python",
   "name": "python3"
  }
 },
 "nbformat": 4,
 "nbformat_minor": 4
}
