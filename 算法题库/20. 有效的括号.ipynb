{
 "cells": [
  {
   "cell_type": "markdown",
   "metadata": {},
   "source": [
    "20. 有效的括号\n",
    "给定一个只包括 '('，')'，'{'，'}'，'['，']' 的字符串，判断字符串是否有效。\n",
    "\n",
    "有效字符串需满足：\n",
    "左括号必须用相同类型的右括号闭合。\n",
    "左括号必须以正确的顺序闭合。\n",
    "注意空字符串可被认为是有效字符串。\n",
    "\n",
    "示例 1:\n",
    "输入: \"()\"\n",
    "输出: true\n",
    "\n",
    "示例 2:\n",
    "输入: \"()[]{}\"\n",
    "输出: true\n",
    "\n",
    "示例 3:\n",
    "输入: \"(]\"\n",
    "输出: false\n",
    "\n",
    "示例 4:\n",
    "输入: \"([)]\"\n",
    "输出: false\n",
    "\n",
    "示例 5:\n",
    "输入: \"{[]}\"\n",
    "输出: true"
   ]
  },
  {
   "cell_type": "code",
   "execution_count": 74,
   "metadata": {},
   "outputs": [],
   "source": [
    "def isValid(s): \n",
    "    if len(s) % 2 == 1:\n",
    "        return False\n",
    "    \n",
    "    pairs = {\")\": \"(\",\"]\": \"[\",\"}\": \"{\",}\n",
    "    \n",
    "    stack = []    \n",
    "    for each in s:\n",
    "        print(each)\n",
    "        if each in pairs:#遍历到的括号是某个key时，说明输入的是右边\n",
    "            print('y')\n",
    "            if not stack or stack[-1] != pairs[each]:#get value from key\n",
    "                return False\n",
    "            stack.pop()\n",
    "        else:\n",
    "            stack.append(each)#遍历到的括号是某个value就push，说明输入的是左边   \n",
    "    return not stack\n",
    "\n",
    "        \n"
   ]
  },
  {
   "cell_type": "code",
   "execution_count": 75,
   "metadata": {},
   "outputs": [
    {
     "name": "stdout",
     "output_type": "stream",
     "text": [
      "{\n",
      "[\n",
      "]\n",
      "y\n",
      "}\n",
      "y\n"
     ]
    },
    {
     "data": {
      "text/plain": [
       "True"
      ]
     },
     "execution_count": 75,
     "metadata": {},
     "output_type": "execute_result"
    }
   ],
   "source": [
    "s = \"{[]}\"\n",
    "isValid(s)"
   ]
  },
  {
   "cell_type": "code",
   "execution_count": null,
   "metadata": {},
   "outputs": [],
   "source": []
  },
  {
   "cell_type": "code",
   "execution_count": null,
   "metadata": {},
   "outputs": [],
   "source": []
  }
 ],
 "metadata": {
  "kernelspec": {
   "display_name": "Python 3",
   "language": "python",
   "name": "python3"
  },
  "language_info": {
   "codemirror_mode": {
    "name": "ipython",
    "version": 3
   },
   "file_extension": ".py",
   "mimetype": "text/x-python",
   "name": "python",
   "nbconvert_exporter": "python",
   "pygments_lexer": "ipython3",
   "version": "3.8.3"
  }
 },
 "nbformat": 4,
 "nbformat_minor": 4
}
