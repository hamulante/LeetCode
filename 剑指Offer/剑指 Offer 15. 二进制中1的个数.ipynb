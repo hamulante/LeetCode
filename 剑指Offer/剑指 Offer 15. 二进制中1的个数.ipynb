{
 "cells": [
  {
   "cell_type": "markdown",
   "metadata": {},
   "source": [
    "剑指 Offer 15. 二进制中1的个数\n",
    "\n",
    "请实现一个函数，输入一个整数，输出该数二进制表示中 1 的个数。例如，把 9 表示成二进制是 1001，有 2 位是 1。因此，如果输入 9，则该函数输出 2。\n",
    "\n",
    "示例 1：\n",
    "输入：00000000000000000000000000001011\n",
    "输出：3\n",
    "解释：输入的二进制串 00000000000000000000000000001011 中，共有三位为 '1'。\n",
    "\n",
    "示例 2：\n",
    "输入：00000000000000000000000010000000\n",
    "输出：1\n",
    "解释：输入的二进制串 00000000000000000000000010000000 中，共有一位为 '1'。\n",
    "\n",
    "示例 3：\n",
    "输入：11111111111111111111111111111101\n",
    "输出：31\n",
    "解释：输入的二进制串 11111111111111111111111111111101 中，共有 31 位为 '1'。"
   ]
  },
  {
   "cell_type": "markdown",
   "metadata": {},
   "source": [
    "转数组的做法在二进制上是行不通的"
   ]
  },
  {
   "cell_type": "code",
   "execution_count": null,
   "metadata": {},
   "outputs": [],
   "source": [
    "#与门逐位判断\n",
    "\n",
    "# class Solution(object):\n",
    "#     def hammingWeight(self, n):\n",
    "\n",
    "#         #nAND1=1->n=1   nAND1=0->n=0\n",
    "#         #判断n最右一位是否为1,根据结果计数。\n",
    "#         #本题要求把数字n看作无符号数，因此使用无符号右移操作 >>=\n",
    "#         res=0\n",
    "#         while n:\n",
    "#             if n&1==1:#这里的n是最右一位\n",
    "#                 res+=1\n",
    "#             n>>=1\n",
    "#         return res    \n",
    "\n",
    "#执行用时：16 ms, 在所有 Python 提交中击败了83.44%的用户\n",
    "#内存消耗：12.6 MB, 在所有 Python 提交中击败了97.67%的用户"
   ]
  },
  {
   "cell_type": "code",
   "execution_count": 3,
   "metadata": {},
   "outputs": [],
   "source": [
    "#巧用nAND(n-1)\n",
    "#一个数n与一个比它小1的数(n-1)进行与运算之后，得到的结果会消除n中最低位的1\n",
    "#e.g 7 & 6 00111&00110=00110\n",
    "\n",
    "class Solution(object):\n",
    "    def hammingWeight(self, n):\n",
    "        res=0\n",
    "        while n:#只要n移位后还有1就能继续循环下去\n",
    "            print(type(n))\n",
    "            res+=1\n",
    "            n =n&(n-1)\n",
    "        return res"
   ]
  },
  {
   "cell_type": "code",
   "execution_count": 4,
   "metadata": {},
   "outputs": [
    {
     "name": "stdout",
     "output_type": "stream",
     "text": [
      "<class 'int'>\n",
      "<class 'int'>\n",
      "<class 'int'>\n"
     ]
    },
    {
     "data": {
      "text/plain": [
       "3"
      ]
     },
     "execution_count": 4,
     "metadata": {},
     "output_type": "execute_result"
    }
   ],
   "source": [
    "n=0b1011\n",
    "digit=Solution()\n",
    "digit.hammingWeight(n)"
   ]
  },
  {
   "cell_type": "code",
   "execution_count": null,
   "metadata": {},
   "outputs": [],
   "source": []
  }
 ],
 "metadata": {
  "kernelspec": {
   "display_name": "Python 3",
   "language": "python",
   "name": "python3"
  },
  "language_info": {
   "codemirror_mode": {
    "name": "ipython",
    "version": 3
   },
   "file_extension": ".py",
   "mimetype": "text/x-python",
   "name": "python",
   "nbconvert_exporter": "python",
   "pygments_lexer": "ipython3",
   "version": "3.8.3"
  }
 },
 "nbformat": 4,
 "nbformat_minor": 4
}
