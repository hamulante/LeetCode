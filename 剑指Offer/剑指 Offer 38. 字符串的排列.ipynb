{
 "cells": [
  {
   "cell_type": "markdown",
   "metadata": {},
   "source": [
    "剑指 Offer 38. 字符串的排列\n",
    "输入一个字符串，打印出该字符串中字符的所有排列。\n",
    "你可以以任意顺序返回这个字符串数组，但里面不能有重复元素。\n",
    "示例:\n",
    "输入：s = \"abc\"\n",
    "输出：[\"abc\",\"acb\",\"bac\",\"bca\",\"cab\",\"cba\"]"
   ]
  },
  {
   "cell_type": "code",
   "execution_count": null,
   "metadata": {},
   "outputs": [],
   "source": [
    "#排列组合P的操作\n",
    "#排列方案数量： 对于一个长度为 nn 的字符串（假设字符互不重复），其排列共有 n*n-1*n-2*…*2*1 种方案。\n",
    "#根据字符串排列的特点，深度优先。通过字符交换，先固定第1位字符（n种情况）、再固定第2位字符（n-1种情况）、最后固定第n位字符（1种情况）。\n",
    "#当字符串存在重复字符时，排列方案中也存在重复方案。\n",
    "#为排除重复方案，需在固定某位字符时，保证 “每种字符只在此位固定一次” ，即遇到重复字符时不交换，直接跳过。从 DFS 角度看，此操作称为 “剪枝” 。\n",
    "#比如输入s=abb，则会出现两次abb\n",
    "\n",
    "#递归解析：\n",
    "#终止条件： 当 x = len(c) - 1，代表所有位已固定（最后一位只有 1 种情况），则将当前组合 c 转化为字符串并加入 res，并返回；\n",
    "#递推参数： 当前固定位 x；\n",
    "#递推工作： 初始化一个 Set ，用于排除重复的字符；将第 x 位字符与 i∈[x,len(c)] 字符分别交换，并进入下层递归；\n",
    "#剪枝： 将 c[i] 加入 Set ，若 c[i]在 Set中，代表其是重复字符，因此“剪枝”；\n",
    "#固定字符： 将字符 c[i] 和 c[x]交换，即固定 c[i] 为当前位字符；\n",
    "#开启下层递归： 调用 dfs(x + 1) ，即开始固定第 x + 1 个字符；\n",
    "#还原交换： 将字符 c[i]和 c[x] 交换（还原之前的交换）；"
   ]
  },
  {
   "cell_type": "code",
   "execution_count": 44,
   "metadata": {},
   "outputs": [],
   "source": [
    "#方法一：交换字母，不切片\n",
    "class Solution(object):\n",
    "    def dfs(self,x,c,res):\n",
    "        if x == len(c) - 1:#len(c) - 1判断还剩下几位数字\n",
    "            res.append(''.join(c)) #如果已经到了最后一位，就把目前排列好的c（数组）转化成字符串，添加到排列方案res中\n",
    "            print(res)\n",
    "            return\n",
    "        dic = set()#剪枝\n",
    "        for i in range(x, len(c)):\n",
    "            if c[i] in dic: \n",
    "#                 print(dic)\n",
    "                continue # 重复，因此剪枝\n",
    "            dic.add(c[i])\n",
    "#             print(dic)\n",
    "            c[i], c[x] = c[x], c[i] #交换c的i和x位置上的字母\n",
    "            self.dfs(x + 1,c,res) #深挖\n",
    "            c[i], c[x] = c[x], c[i] #交换回来c的i和x位置上的字母\n",
    "        return res\n",
    "    \n",
    "    def permutation(self, s):\n",
    "        c, res = list(s), []#传进来的字符串s先转化为数组\n",
    "        return self.dfs(0,c,res)\n",
    "#时间复杂度 O(N!) ： N为字符串 s 的长度，时间复杂度和字符串排列的方案数成线性关系，共有n*n-1*n-2*…*2*1 种方案方案数为 N \\times (N-1) \\times (N-2) … \\times 2 \\times 1N×(N−1)×(N−2)…×2×1 ，因此复杂度为 O(N!) 。\n",
    "#空间复杂度 O(N^2)：递归中辅助 Set 累计存储的字符数量最多为 N + (N-1) + ... + 2 + 1 = (N+1)N/2 ，即占用 O(N^2)的额外空间。"
   ]
  },
  {
   "cell_type": "code",
   "execution_count": 57,
   "metadata": {},
   "outputs": [],
   "source": [
    "#方法二：人类的思维，不得不切片\n",
    "class Solution:\n",
    "    def permutation(self, s):\n",
    "        length=len(s)\n",
    "        if length == 1: \n",
    "            return [s] # 边界\n",
    "        else:\n",
    "            res = []\n",
    "            for i in range(length):\n",
    "                cur = s[i]   #取出s中每一个字符\n",
    "                rest = s[:i] + s[i+1:]\n",
    "                for x in self.permutation(rest): #递归\n",
    "                    res.append(cur + x)  #将cur和子问题的解依次组合\n",
    "        return list(set(res))"
   ]
  },
  {
   "cell_type": "code",
   "execution_count": 58,
   "metadata": {},
   "outputs": [
    {
     "data": {
      "text/plain": [
       "['cba', 'abc', 'bac', 'cab', 'bca', 'acb']"
      ]
     },
     "execution_count": 58,
     "metadata": {},
     "output_type": "execute_result"
    }
   ],
   "source": [
    "s='abc'\n",
    "a=Solution()\n",
    "a.permutation(s)"
   ]
  },
  {
   "cell_type": "code",
   "execution_count": 19,
   "metadata": {},
   "outputs": [
    {
     "name": "stdout",
     "output_type": "stream",
     "text": [
      "1\n",
      "3\n"
     ]
    }
   ],
   "source": [
    "a=[1,2,3]\n",
    "for i in a:\n",
    "    if i==2:\n",
    "        continue\n",
    "    print(i)"
   ]
  },
  {
   "cell_type": "code",
   "execution_count": 20,
   "metadata": {},
   "outputs": [
    {
     "ename": "SyntaxError",
     "evalue": "'continue' not properly in loop (<ipython-input-20-700603294fe6>, line 6)",
     "output_type": "error",
     "traceback": [
      "\u001b[1;36m  File \u001b[1;32m\"<ipython-input-20-700603294fe6>\"\u001b[1;36m, line \u001b[1;32m6\u001b[0m\n\u001b[1;31mSyntaxError\u001b[0m\u001b[1;31m:\u001b[0m 'continue' not properly in loop\n"
     ]
    }
   ],
   "source": [
    "a=[1,2,3]\n",
    "if i==2:\n",
    "    continue"
   ]
  },
  {
   "cell_type": "code",
   "execution_count": 46,
   "metadata": {},
   "outputs": [
    {
     "name": "stdout",
     "output_type": "stream",
     "text": [
      "{'abc', 'bcd'}\n",
      "set()\n"
     ]
    }
   ],
   "source": [
    "dic=set()\n",
    "dic.add('abc')\n",
    "dic.add('bcd')\n",
    "print(dic)\n",
    "dic=set()\n",
    "print(dic)"
   ]
  },
  {
   "cell_type": "code",
   "execution_count": null,
   "metadata": {},
   "outputs": [],
   "source": []
  }
 ],
 "metadata": {
  "kernelspec": {
   "display_name": "Python 3",
   "language": "python",
   "name": "python3"
  },
  "language_info": {
   "codemirror_mode": {
    "name": "ipython",
    "version": 3
   },
   "file_extension": ".py",
   "mimetype": "text/x-python",
   "name": "python",
   "nbconvert_exporter": "python",
   "pygments_lexer": "ipython3",
   "version": "3.8.3"
  }
 },
 "nbformat": 4,
 "nbformat_minor": 4
}
