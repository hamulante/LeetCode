{
 "cells": [
  {
   "cell_type": "markdown",
   "metadata": {},
   "source": [
    "剑指 Offer 03. 数组中重复的数字\n",
    "在一个长度为 n 的数组 nums 里的所有数字都在 0～n-1 的范围内。数组中某些数字是重复的，但不知道有几个数字重复了，也不知道每个数字重复了几次。请找出数组中任意一个重复的数字。\n",
    "\n",
    "示例 1：\n",
    "输入：\n",
    "[2, 3, 1, 0, 2, 5, 3]\n",
    "输出：2 或 3 "
   ]
  },
  {
   "cell_type": "code",
   "execution_count": 10,
   "metadata": {},
   "outputs": [],
   "source": [
    "# def findRepeatNumber(nums):\n",
    "#     for i in range(len(nums)):\n",
    "#         if nums[i] in nums[i+1:len(nums)]:\n",
    "#             print (nums[i])\n",
    "#             print (nums[i:len(nums)])\n",
    "#             return nums[i]\n",
    "#     return\n",
    "\n",
    "#超出时间限制"
   ]
  },
  {
   "cell_type": "code",
   "execution_count": 12,
   "metadata": {},
   "outputs": [],
   "source": [
    "# def findRepeatNumber(nums):\n",
    "#     unique_nums=[]\n",
    "#     for i in range(len(nums)):\n",
    "#         if nums[i] in unique_nums:\n",
    "#             return nums[i]\n",
    "#         else:\n",
    "#             unique_nums.append(nums[i])\n",
    "#     return \n",
    "\n",
    "#执行用时：8720 ms, 在所有 Python 提交中击败了5.11%的用户\n",
    "#内存消耗：20.1 MB, 在所有 Python 提交中击败了17.42%的用户"
   ]
  },
  {
   "cell_type": "code",
   "execution_count": 26,
   "metadata": {},
   "outputs": [],
   "source": [
    "def findRepeatNumber(nums):\n",
    "    unique_nums=set()\n",
    "    for i in range(len(nums)):\n",
    "        if nums[i] in unique_nums:\n",
    "            return nums[i]\n",
    "        else:\n",
    "            unique_nums.add(nums[i])\n",
    "    return \n",
    "\n",
    "#执行用时：28 ms, 在所有 Python 提交中击败了94.13%的用户\n",
    "#内存消耗：20.6 MB, 在所有 Python 提交中击败了9.07%\n"
   ]
  },
  {
   "cell_type": "code",
   "execution_count": 27,
   "metadata": {},
   "outputs": [
    {
     "data": {
      "text/plain": [
       "11"
      ]
     },
     "execution_count": 27,
     "metadata": {},
     "output_type": "execute_result"
    }
   ],
   "source": [
    "nums=[0, 1, 2, 3, 4, 11, 6, 7, 8, 9, 10, 11, 12, 13, 14, 15]\n",
    "findRepeatNumber(nums)"
   ]
  },
  {
   "cell_type": "code",
   "execution_count": null,
   "metadata": {},
   "outputs": [],
   "source": []
  }
 ],
 "metadata": {
  "kernelspec": {
   "display_name": "Python 3",
   "language": "python",
   "name": "python3"
  },
  "language_info": {
   "codemirror_mode": {
    "name": "ipython",
    "version": 3
   },
   "file_extension": ".py",
   "mimetype": "text/x-python",
   "name": "python",
   "nbconvert_exporter": "python",
   "pygments_lexer": "ipython3",
   "version": "3.8.3"
  }
 },
 "nbformat": 4,
 "nbformat_minor": 4
}
