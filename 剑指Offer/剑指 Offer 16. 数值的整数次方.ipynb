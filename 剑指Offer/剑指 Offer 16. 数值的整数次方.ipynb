{
 "cells": [
  {
   "cell_type": "markdown",
   "metadata": {},
   "source": [
    "剑指 Offer 16. 数值的整数次方\n",
    "\n",
    "实现函数double Power(double base, int exponent)，求base的exponent次方。不得使用库函数，同时不需要考虑大数问题。\n",
    "\n",
    "示例 1:\n",
    "输入: 2.00000, 10\n",
    "输出: 1024.00000\n",
    "\n",
    "示例 2:\n",
    "输入: 2.10000, 3\n",
    "输出: 9.26100\n",
    "\n",
    "示例 3:\n",
    "输入: 2.00000, -2\n",
    "输出: 0.25000\n",
    "解释: 2-2 = 1/22 = 1/4 = 0.25"
   ]
  },
  {
   "cell_type": "code",
   "execution_count": 27,
   "metadata": {},
   "outputs": [],
   "source": [
    "#快速幂（Exponentiation by squaring，平方求幂）是一种简单而有效的小算法，它可以以O(logn)的时间复杂度计算乘方。\n",
    "#e.g. 7的10次方，怎样算比较快？\n",
    "#方法一：7*7=49，49*7=343，... 一步一步算，共进行了9次乘法。\n",
    "#方法二：先算7的5次方，即7*7*7*7*7，再算它的平方，共进行了5次乘法。\n",
    "#方法三：先算7*7得49，则7的5次方为49*49*7，再算它的平方，共进行了4次乘法。\n",
    "#模仿这样的过程，我们得到一个在O(logn)时间内计算出幂的算法，也就是快速幂。\n",
    "#递归\n",
    "\n",
    "# class Solution(object):\n",
    "#     def myPow(self, x, n):\n",
    "#         if x==0:\n",
    "#             return 0#底数or指数为0的情况非常极端\n",
    "#         if n==0:\n",
    "#             return 1\n",
    "#         elif n>0:\n",
    "#             if n%2== 1:\n",
    "#                 return self.myPow(x,n-1)*x#n为奇数，则n-1一定是偶数，把n-1当作n来算最后乘以x即可\n",
    "#                 #如果是n不断二分最后n=1走到这一步，则(self.myPow(x,n-1))的结果一定为1\n",
    "#             elif n%2==0:\n",
    "#                 temp = self.myPow(x,n/2)\n",
    "#                 #比如x^4->x^2*x^2->(x^1*x^1)*(x^1*x^1)\n",
    "#                 #不断把n二分最后一定会得到n=1的情况，此时返回的最小值其实就是x本身(x^1)\n",
    "#                 return temp*temp;\n",
    "#         elif n<0:\n",
    "#             n=-n\n",
    "#             if n%2== 1:\n",
    "#                 return 1/(self.myPow(x,n-1)*x)\n",
    "#             elif n%2==0:\n",
    "#                 temp = self.myPow(x,n/2)\n",
    "#                 return 1/(temp*temp);  \n",
    "            \n",
    "#执行用时：16 ms, 在所有 Python 提交中击败了90.21%的用户\n",
    "#内存消耗：12.6 MB, 在所有 Python 提交中击败了83.66%的用户"
   ]
  },
  {
   "cell_type": "code",
   "execution_count": 121,
   "metadata": {},
   "outputs": [],
   "source": [
    "#非递归快速幂，将指数看成二进制\n",
    "            \n",
    "class Solution(object):\n",
    "    def myPow(self, x, n):\n",
    "        if x==0:\n",
    "            return 0\n",
    "        if n==0:\n",
    "            return 1\n",
    "        elif n>0:\n",
    "            temp=1\n",
    "            while n:  \n",
    "                if n&1==1:#只是为了判断奇偶，如果等于1表示此时n是一个奇数\n",
    "                    temp=temp*x#类似于递归时elf.myPow(x,n-1)*x\n",
    "                x=x*x#如果n是偶数则平方\n",
    "                n>>=1\n",
    "            return temp"
   ]
  },
  {
   "cell_type": "code",
   "execution_count": 122,
   "metadata": {},
   "outputs": [
    {
     "name": "stdout",
     "output_type": "stream",
     "text": [
      "10 9 1\n",
      "5 9 9\n",
      "5 81 9\n",
      "2 6561 9\n",
      "1 6561 59049\n",
      "1 43046721 59049\n"
     ]
    },
    {
     "data": {
      "text/plain": [
       "59049"
      ]
     },
     "execution_count": 122,
     "metadata": {},
     "output_type": "execute_result"
    }
   ],
   "source": [
    "x=3\n",
    "n=10\n",
    "power=Solution()\n",
    "power.myPow(x,n)"
   ]
  },
  {
   "cell_type": "code",
   "execution_count": null,
   "metadata": {},
   "outputs": [],
   "source": []
  }
 ],
 "metadata": {
  "kernelspec": {
   "display_name": "Python 3",
   "language": "python",
   "name": "python3"
  },
  "language_info": {
   "codemirror_mode": {
    "name": "ipython",
    "version": 3
   },
   "file_extension": ".py",
   "mimetype": "text/x-python",
   "name": "python",
   "nbconvert_exporter": "python",
   "pygments_lexer": "ipython3",
   "version": "3.8.3"
  }
 },
 "nbformat": 4,
 "nbformat_minor": 4
}
