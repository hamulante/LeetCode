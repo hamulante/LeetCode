{
 "cells": [
  {
   "cell_type": "markdown",
   "metadata": {},
   "source": [
    "剑指 Offer 29. 顺时针打印矩阵\n",
    "输入一个矩阵，按照从外向里以顺时针的顺序依次打印出每一个数字。\n",
    "\n",
    "示例 1：\n",
    "输入：matrix = [[1,2,3],[4,5,6],[7,8,9]]\n",
    "输出：[1,2,3,6,9,8,7,4,5]\n",
    "\n",
    "示例 2：\n",
    "输入：matrix = [[1,2,3,4],[5,6,7,8],[9,10,11,12]]\n",
    "输出：[1,2,3,4,8,12,11,10,9,5,6,7]"
   ]
  },
  {
   "cell_type": "code",
   "execution_count": 2,
   "metadata": {},
   "outputs": [],
   "source": [
    "#设定边界模拟\n",
    "#对于从左上角开始的顺时针打印，可以看作是从最外层开始打印一圈，再收缩边界，从第二层开始打印一圈，以此类推\n",
    "\n",
    "class Solution:\n",
    "    def spiralOrder(self, matrix):\n",
    "        if not matrix: \n",
    "            return []\n",
    "        l, r, t, b, res = 0, len(matrix[0]) - 1, 0, len(matrix) - 1, []#l,r,t,b分别是左右上下四条边\n",
    "        while True:\n",
    "            for i in range(l, r + 1): \n",
    "                res.append(matrix[t][i]) # left to right\n",
    "            t += 1\n",
    "            if t > b: \n",
    "                break#上不能超过下是边界条件\n",
    "            for i in range(t, b + 1): \n",
    "                res.append(matrix[i][r]) # top to bottom\n",
    "            r -= 1\n",
    "            if l > r: \n",
    "                break\n",
    "            for i in range(r, l - 1, -1): \n",
    "                res.append(matrix[b][i]) # right to left\n",
    "            b -= 1\n",
    "            if t > b: \n",
    "                break\n",
    "            for i in range(b, t - 1, -1): \n",
    "                res.append(matrix[i][l]) # bottom to top\n",
    "            l += 1\n",
    "            if l > r: \n",
    "                break\n",
    "        return res\n",
    "#执行用时：16 ms, 在所有 Python 提交中击败了99.01%的用户\n",
    "#内存消耗：13.1 MB, 在所有 Python 提交中击败了32.06%的用户\n",
    "#时间：O(N)\n",
    "#空间：O(1)"
   ]
  },
  {
   "cell_type": "code",
   "execution_count": null,
   "metadata": {},
   "outputs": [],
   "source": [
    "#另一种模拟边界的方式是用一个同样大小的矩阵记录走过了哪些，这样时间是一样的但内存会变大 O(N)\n",
    "\n",
    "class Solution:\n",
    "    def spiralOrder(self, matrix: List[List[int]]) -> List[int]:\n",
    "        if not matrix:\n",
    "            return []\n",
    "        \n",
    "        rows, columns = len(matrix), len(matrix[0])\n",
    "        visited = [[False] * columns for _ in range(rows)]\n",
    "        total = rows * columns\n",
    "        order = [0] * total\n",
    "\n",
    "        directions = [[0, 1], [1, 0], [0, -1], [-1, 0]]\n",
    "        row, column = 0, 0\n",
    "        directionIndex = 0\n",
    "        for i in range(total):\n",
    "            order[i] = matrix[row][column]\n",
    "            visited[row][column] = True\n",
    "            nextRow, nextColumn = row + directions[directionIndex][0], column + directions[directionIndex][1]\n",
    "            if not (0 <= nextRow < rows and 0 <= nextColumn < columns and not visited[nextRow][nextColumn]):\n",
    "                directionIndex = (directionIndex + 1) % 4\n",
    "            row += directions[directionIndex][0]\n",
    "            column += directions[directionIndex][1]\n",
    "        return order\n",
    "\n",
    "#但实际跑下来时间非常久？？？？"
   ]
  },
  {
   "cell_type": "code",
   "execution_count": null,
   "metadata": {},
   "outputs": [],
   "source": [
    "#将矩阵第一行的元素添加到 res 列表里，用pop删除第一行（也就是 matrix 中的第一个列表）\n",
    "#然后逆时针旋转（这里通过转置+倒序实现），新的 matrix 的第一行即为接下来要打印的元素。\n",
    "#python自身语言特性而已\n",
    "\n",
    "class Solution:\n",
    "    def spiralOrder(self, matrix: List[List[int]]) -> List[int]:\n",
    "        res = []\n",
    "        while matrix:\n",
    "            res += matrix.pop(0)\n",
    "            matrix = list(zip(*matrix))[::-1]\n",
    "        return res"
   ]
  },
  {
   "cell_type": "code",
   "execution_count": 3,
   "metadata": {},
   "outputs": [
    {
     "data": {
      "text/plain": [
       "[1, 2, 3, 6, 9, 8, 7, 4, 5]"
      ]
     },
     "execution_count": 3,
     "metadata": {},
     "output_type": "execute_result"
    }
   ],
   "source": [
    "matrix=[[1,2,3],[4,5,6],[7,8,9]]\n",
    "s=Solution()\n",
    "s.spiralOrder(matrix)"
   ]
  },
  {
   "cell_type": "code",
   "execution_count": 10,
   "metadata": {},
   "outputs": [
    {
     "name": "stdout",
     "output_type": "stream",
     "text": [
      "[(1, 4), (2, 5), (3, 6)]\n",
      "[(1, 4), (2, 5), (3, 6)]\n",
      "[]\n"
     ]
    }
   ],
   "source": [
    "#zip的使用方法\n",
    "#zip() 函数用于将可迭代的对象作为参数，将对象中对应的元素打包成一个个元组，然后返回由这些元组组成的列表。\n",
    "#如果各个迭代器的元素个数不一致，则返回列表长度与最短的对象相同，利用 * 号操作符，可以将元组解压为列表\n",
    "#在 Python 3.x 中为了减少内存，zip() 返回的是一个对象。如需展示列表，需手动 list() 转换\n",
    "\n",
    "a = [1,2,3]\n",
    "b = [4,5,6]\n",
    "c = [4,5,6,7,8]\n",
    "zipped_ab = zip(a,b)     # 打包为元组的列表\n",
    "print(list(zipped_ab))\n",
    "zipped_ac = zip(a,c)    # 元素个数与最短的列表一致\n",
    "print(list(zipped_ac))\n",
    "print(list(zip(*zipped_ab)))# 与 zip 相反，*zipped 可理解为解压，返回二维矩阵式\n",
    "#[(1, 2, 3), (4, 5, 6)]"
   ]
  },
  {
   "cell_type": "code",
   "execution_count": null,
   "metadata": {},
   "outputs": [],
   "source": []
  }
 ],
 "metadata": {
  "kernelspec": {
   "display_name": "Python 3",
   "language": "python",
   "name": "python3"
  },
  "language_info": {
   "codemirror_mode": {
    "name": "ipython",
    "version": 3
   },
   "file_extension": ".py",
   "mimetype": "text/x-python",
   "name": "python",
   "nbconvert_exporter": "python",
   "pygments_lexer": "ipython3",
   "version": "3.8.3"
  }
 },
 "nbformat": 4,
 "nbformat_minor": 4
}
