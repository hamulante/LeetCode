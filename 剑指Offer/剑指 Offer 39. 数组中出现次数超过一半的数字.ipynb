{
 "cells": [
  {
   "cell_type": "markdown",
   "metadata": {},
   "source": [
    "剑指 Offer 39. 数组中出现次数超过一半的数字\n",
    "数组中有一个数字出现的次数超过数组长度的一半，请找出这个数字。\n",
    "\n",
    "你可以假设数组是非空的，并且给定的数组总是存在多数元素。\n",
    "\n",
    "示例 1:\n",
    "输入: [1, 2, 3, 2, 2, 2, 5, 4, 2]\n",
    "输出: 2"
   ]
  },
  {
   "cell_type": "code",
   "execution_count": null,
   "metadata": {},
   "outputs": [],
   "source": [
    "#数学中众数的定义为 “数组中出现次数最多的数字”，本题有且只有一个长度超过一半的数字，则为众数。\n",
    "#方法一：哈希表统计法，遍历数组 nums ，用 HashMap 统计各数字的数量，即可找出 众数 。此方法时间和空间复杂度均为 O(N) 。\n",
    "#方法二：数组排序法： 将数组 nums 排序，中间的数一定是众数。\n",
    "#摩尔投票法： 核心理念为 票数正负抵消 。此方法时间和空间复杂度分别为 O(N)和 O(1)，为本题的最佳解法。"
   ]
  },
  {
   "cell_type": "code",
   "execution_count": 36,
   "metadata": {},
   "outputs": [],
   "source": [
    "#方法一\n",
    "class Solution(object):\n",
    "    def majorityElement(self, nums):\n",
    "        if len(nums)==0:\n",
    "            return\n",
    "        c = dict()\n",
    "        most_frequent_number=nums[0]\n",
    "        highest_frequency=1       \n",
    "        for i in nums:\n",
    "            if i in c:\n",
    "                c[i]+=1\n",
    "                print(c[i])\n",
    "                if c[i]>highest_frequency:\n",
    "                    most_frequent_number=i\n",
    "                    highest_frequency=c[i]\n",
    "            else:\n",
    "                c[i]=1\n",
    "        return most_frequent_number"
   ]
  },
  {
   "cell_type": "code",
   "execution_count": 72,
   "metadata": {},
   "outputs": [],
   "source": [
    "#方法三\n",
    "#其实就是诸侯乱战，你作为东方大国，拥有超过总数 1/2 的兵力，且规定一个兵打一个兵必定同归于尽\n",
    "#即使全部诸侯打你一个，最后剩下的兵肯定也是你的兵，也就是你赢了。\n",
    "#所以我们的策略就是，先让 res = nums[0]，mole_vote = 0，然后往后迭代。\n",
    "#但凡遇到下一个不等于 res，就让 mole_vote --（相当于和一个敌人同归于尽）；\n",
    "#如果下一个等于 res，则mole_vote ++。如果 mole_vote == 0 了，就让 res 等于当前 numes[i]。\n",
    "class Solution(object):\n",
    "    def majorityElement(self, nums):\n",
    "        mole_vote=0\n",
    "        res=nums[0]\n",
    "        for each in nums:\n",
    "            if mole_vote==0:\n",
    "                res=each\n",
    "            if res!=each:\n",
    "                mole_vote-=1\n",
    "                print(mole_vote)\n",
    "            else:\n",
    "                mole_vote+=1\n",
    "                print(mole_vote)\n",
    "        return res\n",
    "    "
   ]
  },
  {
   "cell_type": "code",
   "execution_count": 73,
   "metadata": {},
   "outputs": [
    {
     "name": "stdout",
     "output_type": "stream",
     "text": [
      "1\n",
      "0\n",
      "1\n"
     ]
    },
    {
     "data": {
      "text/plain": [
       "5"
      ]
     },
     "execution_count": 73,
     "metadata": {},
     "output_type": "execute_result"
    }
   ],
   "source": [
    "nums=[6,5,5]\n",
    "s=Solution()\n",
    "s.majorityElement(nums)"
   ]
  },
  {
   "cell_type": "code",
   "execution_count": null,
   "metadata": {},
   "outputs": [],
   "source": []
  },
  {
   "cell_type": "code",
   "execution_count": null,
   "metadata": {},
   "outputs": [],
   "source": []
  }
 ],
 "metadata": {
  "kernelspec": {
   "display_name": "Python 3",
   "language": "python",
   "name": "python3"
  },
  "language_info": {
   "codemirror_mode": {
    "name": "ipython",
    "version": 3
   },
   "file_extension": ".py",
   "mimetype": "text/x-python",
   "name": "python",
   "nbconvert_exporter": "python",
   "pygments_lexer": "ipython3",
   "version": "3.8.3"
  }
 },
 "nbformat": 4,
 "nbformat_minor": 4
}
