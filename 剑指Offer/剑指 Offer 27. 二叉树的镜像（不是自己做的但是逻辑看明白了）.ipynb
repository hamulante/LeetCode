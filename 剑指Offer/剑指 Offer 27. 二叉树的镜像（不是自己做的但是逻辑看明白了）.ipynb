{
 "cells": [
  {
   "cell_type": "markdown",
   "metadata": {},
   "source": [
    "剑指 Offer 27. 二叉树的镜像\n",
    "请完成一个函数，输入一个二叉树，该函数输出它的镜像。\n",
    "\n",
    "例如输入：\n",
    "\n",
    "     4\n",
    "   /   \\\n",
    "  2     7\n",
    " / \\   / \\\n",
    "1   3 6   9\n",
    "镜像输出：\n",
    "\n",
    "     4\n",
    "   /   \\\n",
    "  7     2\n",
    " / \\   / \\\n",
    "9   6 3   1\n",
    "\n",
    " \n",
    "示例 1：\n",
    "输入：root = [4,2,7,1,3,6,9]\n",
    "输出：[4,7,2,9,6,3,1]"
   ]
  },
  {
   "cell_type": "code",
   "execution_count": null,
   "metadata": {},
   "outputs": [],
   "source": [
    "#递归：从下往上交换\n",
    "#根据二叉树镜像的定义，考虑递归遍历（dfs）二叉树，交换每个节点的左 / 右子节点，即可生成二叉树的镜像。\n",
    "#终止条件： 当节点 root 为空时（即越过叶节点），则返回 null ；\n",
    "#初始化节点 tmp ，用于暂存 root 的左子节点；\n",
    "#开启递归 右子节点 mirrorTree(root.right) ，并将返回值作为 root 的 左子节点 。\n",
    "#开启递归 左子节点 mirrorTree(tmp)，并将返回值作为 root 的 右子节点 。\n",
    "#返回值： 返回当前节点 root；\n",
    "#暂存 root 的左子节点，是因为root.left=mirrorTree(root.right)执行完毕后left已经被顶掉了，所以要先把值保留下来\n",
    "class Solution(object):\n",
    "    def mirrorTree(self, root):\n",
    "        if not root: return\n",
    "        tmp = root.left\n",
    "        root.left = self.mirrorTree(root.right)\n",
    "        root.right = self.mirrorTree(tmp)\n",
    "        return root\n",
    "#执行用时：24 ms, 在所有 Python 提交中击败了40.68%的用户\n",
    "#内存消耗：12.6 MB, 在所有 Python 提交中击败了26.10%的用户"
   ]
  },
  {
   "cell_type": "code",
   "execution_count": null,
   "metadata": {},
   "outputs": [],
   "source": [
    "#辅助栈：从上往小交换，二级节点交换时三级节点是跟着走的，所以继续把二级节点当作下一个根做交换即可\n",
    "#利用栈（或队列）遍历树的所有节点 node ，并交换每个 node 的左 / 右子节点。\n",
    "#1.特例处理： 当 root 为空时，直接返回 null ；\n",
    "#2.初始化： 栈（或队列），本文用栈，并加入根节点 root 。\n",
    "#3.循环交换： 当栈 stack 为空时跳出；\n",
    "#  出栈： 记为 node ；#当前要处理的根节点\n",
    "#  添加子节点： 将 node 左和右子节点入栈；\n",
    "#  交换： 交换 node 的左 / 右子节点。\n",
    "#4.返回值： 返回根节点 root 。\n",
    "class Solution(object):\n",
    "    def mirrorTree(self, root):\n",
    "        if not root: return\n",
    "        stack = [root]#root的输入是一个根节点，类似链表里的head\n",
    "        \n",
    "        while stack:\n",
    "            node = stack.pop()#pop出的是第一个元素，即每次的根节点\n",
    "            if node.left: stack.append(node.left)\n",
    "            if node.right: stack.append(node.right)\n",
    "            node.left, node.right = node.right, node.left\n",
    "            #回到while循环前，第一个根节点因为pop成为了上一个node，stack理应为空\n",
    "            #但是之前的append操作把二级子节点变成了新的一系列根节点存在了stack\n",
    "            #所以stack此时有所有的二级子节点，可以循环了\n",
    "        return root#树和链表一样，知道root就知道所有子节点\n",
    "    \n",
    "#执行用时：24 ms, 在所有 Python 提交中击败了40.68%的用户\n",
    "#内存消耗：12.4 MB, 在所有 Python 提交中击败了87.26%的用户"
   ]
  }
 ],
 "metadata": {
  "kernelspec": {
   "display_name": "Python 3",
   "language": "python",
   "name": "python3"
  },
  "language_info": {
   "codemirror_mode": {
    "name": "ipython",
    "version": 3
   },
   "file_extension": ".py",
   "mimetype": "text/x-python",
   "name": "python",
   "nbconvert_exporter": "python",
   "pygments_lexer": "ipython3",
   "version": "3.8.3"
  }
 },
 "nbformat": 4,
 "nbformat_minor": 4
}
