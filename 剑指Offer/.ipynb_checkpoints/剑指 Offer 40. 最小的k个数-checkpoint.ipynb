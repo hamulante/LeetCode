{
 "cells": [
  {
   "cell_type": "markdown",
   "metadata": {},
   "source": [
    "剑指 Offer 40. 最小的k个数\n",
    "\n",
    "输入整数数组 arr ，找出其中最小的 k 个数。例如，输入4、5、1、6、2、7、3、8这8个数字，则最小的4个数字是1、2、3、4。\n",
    "\n",
    "示例 1：\n",
    "输入：arr = [3,2,1], k = 2\n",
    "输出：[1,2] 或者 [2,1]\n",
    "\n",
    "示例 2：\n",
    "输入：arr = [0,1,2,1], k = 1\n",
    "输出：[0]"
   ]
  },
  {
   "cell_type": "code",
   "execution_count": 5,
   "metadata": {},
   "outputs": [],
   "source": [
    "#方法一：排序\n",
    "class Solution(object):\n",
    "    def getLeastNumbers(self, arr, k):\n",
    "        if k>len(arr) or len(arr)==0:\n",
    "            return\n",
    "        arr.sort()\n",
    "        smallest_k=[]\n",
    "        for i in range(0,k):\n",
    "            smallest_k.append(arr[i])\n",
    "        return smallest_k\n",
    "#时间复杂度：O(nlogn)，其中 n 是数组 arr 的长度。算法的时间复杂度即排序的时间复杂度。\n",
    "#空间复杂度：O(nlogn)，排序所需额外的空间复杂度为 O(logn)。"
   ]
  },
  {
   "cell_type": "code",
   "execution_count": 11,
   "metadata": {},
   "outputs": [],
   "source": [
    "#方法二：堆\n",
    "#堆通常是一个可以被看做一棵树的数组对象。堆中某个节点的值总是不大于或不小于其父节点的值，且堆总是一棵完全二叉树。\n",
    "#将根节点最大的堆叫做大根堆，根节点最小的堆叫做小根堆。（逐渐变大or逐渐变小）\n",
    "#假设一个小根堆的左、右子树都已是堆，并且根的元素名为 root ，其左右子节点为 left 和 right ，这种情况下，有两种可能：\n",
    "#（1）root<=left 并且 root<=right ，此时堆已完成；\n",
    "#（2）root>=left 或者 root>=right ，此时 root 应与两个子女中值较小的一个交换，持续这个过程直至某一个层小于它的子女，或者它成了叶结点。\n",
    "#我们用一个大根堆实时维护数组的前 k小值。首先将前 k 个数插入大根堆中，随后从第 k+1个数开始遍历\n",
    "#如果当前遍历到的数比大根堆的堆顶的数要小，就把堆顶的数弹出，再插入当前遍历到的数。最后将大根堆里的数存入数组返回即可。\n",
    "#Python 语言中的对为小根堆，因此我们要对数组中所有的数取其相反数，才能使用小根堆维护前 k 小值。\n",
    "import heapq\n",
    "class Solution(object):\n",
    "    def getLeastNumbers(self, arr, k):\n",
    "        if k == 0:\n",
    "            return list()\n",
    "        hp=[]\n",
    "        for value in arr[:k]:#切分出前k个值放入hp，接下来值不断替换但数量始终为k个\n",
    "            heapq.heappush(hp,-value)#Python 语言中的对为小根堆，因此我们要对数组中所有的数取其相反数，才能使用小根堆维护前 k 小值\n",
    "        for i in range(k,len(arr)):\n",
    "            if -hp[0]>arr[i]:\n",
    "                heapq.heappop(hp)#Python语言中的对为小根堆，headpop弹出最小值即左边第一个节点，弹出的条件是堆中有比arr剩余元素更大的值            \n",
    "                heapq.heappush(hp, -arr[i])#把这个比较小的元素推入堆\n",
    "        #循环结束后堆中是前k个最小的元素，但都是负数从小到大排列\n",
    "        smallest_k=[]\n",
    "        for each in hp :\n",
    "            smallest_k.append(-each)\n",
    "        return smallest_k\n",
    "#时间复杂度：O(nlogk)，其中 n 是数组 arr 的长度。由于大根堆实时维护前 kk小值，所以插入删除都是 O(logk) 的时间复杂度\n",
    "#最坏情况下数组里 n 个数都会插入，所以一共需要 O(nlogk) 的时间复杂度。\n",
    "#空间复杂度：O(k)，因为大根堆里最多 k 个数。"
   ]
  },
  {
   "cell_type": "code",
   "execution_count": null,
   "metadata": {},
   "outputs": [],
   "source": [
    "import heapq\n",
    "class Solution(object):\n",
    "    def getLeastNumbers(self, arr, k):\n",
    "        return heapq.nsmallest(k, arr)"
   ]
  },
  {
   "cell_type": "code",
   "execution_count": 15,
   "metadata": {},
   "outputs": [],
   "source": [
    "#方法三：快速排序\n",
    "#快排每次执行完后都能将数组分成两个部分，小于等于分界值 pivot 的元素的都会被放到数组的左边，大于的都会被放到数组的右边，然后返回分界值的下标。\n",
    "#与快速排序不同的是，快速排序会根据分界值的下标递归处理划分的两侧，而这里我们只处理划分的一边。\n",
    "#我们定义函数 randomized_selected(arr, l, r, k) 表示划分数组 arr 的 [l,r] 部分，使前 k 小的数在数组的左侧\n",
    "#在函数里我们调用快排的划分函数，假设划分函数返回的下标是pos（表示分界值pivot最终在数组中的位置），即pivot是数组中第pos-l+1小的数，\n",
    "#那么一共会有三种情况：\n",
    "#如果 pos - l + 1 == k，表示pivot就是第k小的数，直接返回即可；\n",
    "#如果 pos - l + 1 < k，表示第k小的数在 pivot 的右侧，因此递归调用 randomized_selected(arr, pos + 1, r, k - (pos - l + 1))；\n",
    "#如果 pos - l + 1 > k，表示第k小的数在 pivot 的左侧，递归调用 randomized_selected(arr, l, pos - 1, k)。\n",
    "#函数递归入口为 randomized_selected(arr, 0, arr.length - 1, k)。在函数返回后，将前 k 个数放入答案数组返回即可。\n",
    "class Solution:\n",
    "    def partition(self, nums, l, r):\n",
    "        pivot = nums[r]\n",
    "        i = l - 1\n",
    "        for j in range(l, r):\n",
    "            if nums[j] <= pivot:\n",
    "                i += 1\n",
    "                nums[i], nums[j] = nums[j], nums[i]\n",
    "        nums[i + 1], nums[r] = nums[r], nums[i + 1]\n",
    "        return i + 1\n",
    "\n",
    "    def randomized_partition(self, nums, l, r):\n",
    "        i = random.randint(l, r)\n",
    "        nums[r], nums[i] = nums[i], nums[r]\n",
    "        return self.partition(nums, l, r)\n",
    "\n",
    "    def randomized_selected(self, arr, l, r, k):\n",
    "        pos = self.randomized_partition(arr, l, r)\n",
    "        num = pos - l + 1\n",
    "        if k < num:\n",
    "            self.randomized_selected(arr, l, pos - 1, k)\n",
    "        elif k > num:\n",
    "            self.randomized_selected(arr, pos + 1, r, k - num)\n",
    "\n",
    "    def getLeastNumbers(self, arr, k):\n",
    "        if k == 0:\n",
    "            return list\n",
    "        self.randomized_selected(arr, 0, len(arr) - 1, k)\n",
    "        return arr[:k]\n",
    "???"
   ]
  },
  {
   "cell_type": "code",
   "execution_count": 16,
   "metadata": {},
   "outputs": [
    {
     "ename": "NameError",
     "evalue": "name 'random' is not defined",
     "output_type": "error",
     "traceback": [
      "\u001b[0;31m---------------------------------------------------------------------------\u001b[0m",
      "\u001b[0;31mNameError\u001b[0m                                 Traceback (most recent call last)",
      "\u001b[0;32m<ipython-input-16-84b6aff03159>\u001b[0m in \u001b[0;36m<module>\u001b[0;34m\u001b[0m\n\u001b[1;32m      2\u001b[0m \u001b[0mk\u001b[0m\u001b[0;34m=\u001b[0m\u001b[0;36m2\u001b[0m\u001b[0;34m\u001b[0m\u001b[0;34m\u001b[0m\u001b[0m\n\u001b[1;32m      3\u001b[0m \u001b[0ms\u001b[0m\u001b[0;34m=\u001b[0m\u001b[0mSolution\u001b[0m\u001b[0;34m(\u001b[0m\u001b[0;34m)\u001b[0m\u001b[0;34m\u001b[0m\u001b[0;34m\u001b[0m\u001b[0m\n\u001b[0;32m----> 4\u001b[0;31m \u001b[0ms\u001b[0m\u001b[0;34m.\u001b[0m\u001b[0mgetLeastNumbers\u001b[0m\u001b[0;34m(\u001b[0m\u001b[0marr\u001b[0m\u001b[0;34m,\u001b[0m\u001b[0mk\u001b[0m\u001b[0;34m)\u001b[0m\u001b[0;34m\u001b[0m\u001b[0;34m\u001b[0m\u001b[0m\n\u001b[0m",
      "\u001b[0;32m<ipython-input-15-ff50eac8b567>\u001b[0m in \u001b[0;36mgetLeastNumbers\u001b[0;34m(self, arr, k)\u001b[0m\n\u001b[1;32m     36\u001b[0m         \u001b[0;32mif\u001b[0m \u001b[0mk\u001b[0m \u001b[0;34m==\u001b[0m \u001b[0;36m0\u001b[0m\u001b[0;34m:\u001b[0m\u001b[0;34m\u001b[0m\u001b[0;34m\u001b[0m\u001b[0m\n\u001b[1;32m     37\u001b[0m             \u001b[0;32mreturn\u001b[0m \u001b[0mlist\u001b[0m\u001b[0;34m(\u001b[0m\u001b[0;34m)\u001b[0m\u001b[0;34m\u001b[0m\u001b[0;34m\u001b[0m\u001b[0m\n\u001b[0;32m---> 38\u001b[0;31m         \u001b[0mself\u001b[0m\u001b[0;34m.\u001b[0m\u001b[0mrandomized_selected\u001b[0m\u001b[0;34m(\u001b[0m\u001b[0marr\u001b[0m\u001b[0;34m,\u001b[0m \u001b[0;36m0\u001b[0m\u001b[0;34m,\u001b[0m \u001b[0mlen\u001b[0m\u001b[0;34m(\u001b[0m\u001b[0marr\u001b[0m\u001b[0;34m)\u001b[0m \u001b[0;34m-\u001b[0m \u001b[0;36m1\u001b[0m\u001b[0;34m,\u001b[0m \u001b[0mk\u001b[0m\u001b[0;34m)\u001b[0m\u001b[0;34m\u001b[0m\u001b[0;34m\u001b[0m\u001b[0m\n\u001b[0m\u001b[1;32m     39\u001b[0m         \u001b[0;32mreturn\u001b[0m \u001b[0marr\u001b[0m\u001b[0;34m[\u001b[0m\u001b[0;34m:\u001b[0m\u001b[0mk\u001b[0m\u001b[0;34m]\u001b[0m\u001b[0;34m\u001b[0m\u001b[0;34m\u001b[0m\u001b[0m\n",
      "\u001b[0;32m<ipython-input-15-ff50eac8b567>\u001b[0m in \u001b[0;36mrandomized_selected\u001b[0;34m(self, arr, l, r, k)\u001b[0m\n\u001b[1;32m     26\u001b[0m \u001b[0;34m\u001b[0m\u001b[0m\n\u001b[1;32m     27\u001b[0m     \u001b[0;32mdef\u001b[0m \u001b[0mrandomized_selected\u001b[0m\u001b[0;34m(\u001b[0m\u001b[0mself\u001b[0m\u001b[0;34m,\u001b[0m \u001b[0marr\u001b[0m\u001b[0;34m,\u001b[0m \u001b[0ml\u001b[0m\u001b[0;34m,\u001b[0m \u001b[0mr\u001b[0m\u001b[0;34m,\u001b[0m \u001b[0mk\u001b[0m\u001b[0;34m)\u001b[0m\u001b[0;34m:\u001b[0m\u001b[0;34m\u001b[0m\u001b[0;34m\u001b[0m\u001b[0m\n\u001b[0;32m---> 28\u001b[0;31m         \u001b[0mpos\u001b[0m \u001b[0;34m=\u001b[0m \u001b[0mself\u001b[0m\u001b[0;34m.\u001b[0m\u001b[0mrandomized_partition\u001b[0m\u001b[0;34m(\u001b[0m\u001b[0marr\u001b[0m\u001b[0;34m,\u001b[0m \u001b[0ml\u001b[0m\u001b[0;34m,\u001b[0m \u001b[0mr\u001b[0m\u001b[0;34m)\u001b[0m\u001b[0;34m\u001b[0m\u001b[0;34m\u001b[0m\u001b[0m\n\u001b[0m\u001b[1;32m     29\u001b[0m         \u001b[0mnum\u001b[0m \u001b[0;34m=\u001b[0m \u001b[0mpos\u001b[0m \u001b[0;34m-\u001b[0m \u001b[0ml\u001b[0m \u001b[0;34m+\u001b[0m \u001b[0;36m1\u001b[0m\u001b[0;34m\u001b[0m\u001b[0;34m\u001b[0m\u001b[0m\n\u001b[1;32m     30\u001b[0m         \u001b[0;32mif\u001b[0m \u001b[0mk\u001b[0m \u001b[0;34m<\u001b[0m \u001b[0mnum\u001b[0m\u001b[0;34m:\u001b[0m\u001b[0;34m\u001b[0m\u001b[0;34m\u001b[0m\u001b[0m\n",
      "\u001b[0;32m<ipython-input-15-ff50eac8b567>\u001b[0m in \u001b[0;36mrandomized_partition\u001b[0;34m(self, nums, l, r)\u001b[0m\n\u001b[1;32m     21\u001b[0m \u001b[0;34m\u001b[0m\u001b[0m\n\u001b[1;32m     22\u001b[0m     \u001b[0;32mdef\u001b[0m \u001b[0mrandomized_partition\u001b[0m\u001b[0;34m(\u001b[0m\u001b[0mself\u001b[0m\u001b[0;34m,\u001b[0m \u001b[0mnums\u001b[0m\u001b[0;34m,\u001b[0m \u001b[0ml\u001b[0m\u001b[0;34m,\u001b[0m \u001b[0mr\u001b[0m\u001b[0;34m)\u001b[0m\u001b[0;34m:\u001b[0m\u001b[0;34m\u001b[0m\u001b[0;34m\u001b[0m\u001b[0m\n\u001b[0;32m---> 23\u001b[0;31m         \u001b[0mi\u001b[0m \u001b[0;34m=\u001b[0m \u001b[0mrandom\u001b[0m\u001b[0;34m.\u001b[0m\u001b[0mrandint\u001b[0m\u001b[0;34m(\u001b[0m\u001b[0ml\u001b[0m\u001b[0;34m,\u001b[0m \u001b[0mr\u001b[0m\u001b[0;34m)\u001b[0m\u001b[0;34m\u001b[0m\u001b[0;34m\u001b[0m\u001b[0m\n\u001b[0m\u001b[1;32m     24\u001b[0m         \u001b[0mnums\u001b[0m\u001b[0;34m[\u001b[0m\u001b[0mr\u001b[0m\u001b[0;34m]\u001b[0m\u001b[0;34m,\u001b[0m \u001b[0mnums\u001b[0m\u001b[0;34m[\u001b[0m\u001b[0mi\u001b[0m\u001b[0;34m]\u001b[0m \u001b[0;34m=\u001b[0m \u001b[0mnums\u001b[0m\u001b[0;34m[\u001b[0m\u001b[0mi\u001b[0m\u001b[0;34m]\u001b[0m\u001b[0;34m,\u001b[0m \u001b[0mnums\u001b[0m\u001b[0;34m[\u001b[0m\u001b[0mr\u001b[0m\u001b[0;34m]\u001b[0m\u001b[0;34m\u001b[0m\u001b[0;34m\u001b[0m\u001b[0m\n\u001b[1;32m     25\u001b[0m         \u001b[0;32mreturn\u001b[0m \u001b[0mself\u001b[0m\u001b[0;34m.\u001b[0m\u001b[0mpartition\u001b[0m\u001b[0;34m(\u001b[0m\u001b[0mnums\u001b[0m\u001b[0;34m,\u001b[0m \u001b[0ml\u001b[0m\u001b[0;34m,\u001b[0m \u001b[0mr\u001b[0m\u001b[0;34m)\u001b[0m\u001b[0;34m\u001b[0m\u001b[0;34m\u001b[0m\u001b[0m\n",
      "\u001b[0;31mNameError\u001b[0m: name 'random' is not defined"
     ]
    }
   ],
   "source": [
    "arr=[3,2,1]\n",
    "k=2\n",
    "s=Solution()\n",
    "s.getLeastNumbers(arr,k)"
   ]
  },
  {
   "cell_type": "code",
   "execution_count": null,
   "metadata": {},
   "outputs": [],
   "source": []
  }
 ],
 "metadata": {
  "kernelspec": {
   "display_name": "Python 3",
   "language": "python",
   "name": "python3"
  },
  "language_info": {
   "codemirror_mode": {
    "name": "ipython",
    "version": 3
   },
   "file_extension": ".py",
   "mimetype": "text/x-python",
   "name": "python",
   "nbconvert_exporter": "python",
   "pygments_lexer": "ipython3",
   "version": "3.8.3"
  }
 },
 "nbformat": 4,
 "nbformat_minor": 4
}
