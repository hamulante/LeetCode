{
 "cells": [
  {
   "cell_type": "markdown",
   "metadata": {},
   "source": [
    "剑指 Offer 31. 栈的压入、弹出序列\n",
    "输入两个整数序列，第一个序列表示栈的压入顺序，请判断第二个序列是否为该栈的弹出顺序。假设压入栈的所有数字均不相等。例如，序列 {1,2,3,4,5} 是某栈的压栈序列，序列 {4,5,3,2,1} 是该压栈序列对应的一个弹出序列，但 {4,3,5,1,2} 就不可能是该压栈序列的弹出序列。\n",
    "\n",
    "示例 1：\n",
    "输入：pushed = [1,2,3,4,5], popped = [4,5,3,2,1]\n",
    "输出：true\n",
    "解释：我们可以按以下顺序执行：\n",
    "push(1), push(2), push(3), push(4), pop() -> 4,\n",
    "push(5), pop() -> 5, pop() -> 3, pop() -> 2, pop() -> 1\n",
    "\n",
    "示例 2：\n",
    "输入：pushed = [1,2,3,4,5], popped = [4,3,5,1,2]\n",
    "输出：false\n",
    "解释：1 不能在 2 之前弹出。"
   ]
  },
  {
   "cell_type": "code",
   "execution_count": 14,
   "metadata": {},
   "outputs": [],
   "source": [
    "#给定一个压入序列 pushed 和弹出序列 popped ，则压入 / 弹出操作的顺序（即排列）是 唯一确定 的。\n",
    "#栈的数据操作具有 先入后出 的特性，因此某些弹出序列是无法实现的\n",
    "#考虑借用一个辅助栈 stack ，模拟 压入 / 弹出操作的排列。根据是否模拟成功，即可得到结果。\n",
    "#初始化： ‘辅助栈’ stack ，‘弹出序列’ 的索引 i ；\n",
    "#遍历压栈序列： 各元素记为 num ；\n",
    "#元素 num 入栈；\n",
    "#循环出栈：若 stack 的栈顶元素 == 弹出序列元素 popped[i] ，则执行出栈与 i++ ；\n",
    "#返回值： 若 stack 为空，则此弹出序列合法。\n",
    "\n",
    "class Solution(object):\n",
    "    def validateStackSequences(self, pushed, popped):\n",
    "        stack, i = [], 0\n",
    "        for num in pushed:\n",
    "            stack.append(num) # num 入栈\n",
    "            print(num,stack)\n",
    "            while stack and stack[-1] == popped[i]: \n",
    "                #循环是根据popped的顺序找pushed进去的那个元素什么时候进去的\n",
    "                #while stack用于判断是否stack为空，注意断句\n",
    "                print(i,popped[i])\n",
    "                stack.pop()\n",
    "                i += 1#只有最后pushed进去的那个元素（stack[-1]）在pushed里被找到了才会进行后一个popped元素在pushed里的查找\n",
    "        return not stack#pushed的值会全部进stack，如果用完了说明按照顺序被popped完了\n",
    "\n",
    "#时间：O(N)+O(N)=O(N)\n",
    "#空间：O(N)"
   ]
  },
  {
   "cell_type": "code",
   "execution_count": 15,
   "metadata": {},
   "outputs": [
    {
     "name": "stdout",
     "output_type": "stream",
     "text": [
      "1 [1]\n",
      "2 [1, 2]\n",
      "3 [1, 2, 3]\n",
      "4 [1, 2, 3, 4]\n",
      "0 4\n",
      "5 [1, 2, 3, 5]\n",
      "1 5\n",
      "2 3\n",
      "3 2\n",
      "4 1\n"
     ]
    },
    {
     "data": {
      "text/plain": [
       "True"
      ]
     },
     "execution_count": 15,
     "metadata": {},
     "output_type": "execute_result"
    }
   ],
   "source": [
    "pushed=[1,2,3,4,5]\n",
    "popped=[4,5,3,2,1]\n",
    "s=Solution()\n",
    "s.validateStackSequences(pushed,popped)"
   ]
  },
  {
   "cell_type": "code",
   "execution_count": null,
   "metadata": {},
   "outputs": [],
   "source": []
  }
 ],
 "metadata": {
  "kernelspec": {
   "display_name": "Python 3",
   "language": "python",
   "name": "python3"
  },
  "language_info": {
   "codemirror_mode": {
    "name": "ipython",
    "version": 3
   },
   "file_extension": ".py",
   "mimetype": "text/x-python",
   "name": "python",
   "nbconvert_exporter": "python",
   "pygments_lexer": "ipython3",
   "version": "3.8.3"
  }
 },
 "nbformat": 4,
 "nbformat_minor": 4
}
