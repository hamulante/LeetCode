{
 "cells": [
  {
   "cell_type": "markdown",
   "metadata": {},
   "source": [
    "剑指 Offer 18. 删除链表的节点\n",
    "\n",
    "给定单向链表的头指针和一个要删除的节点的值，定义一个函数删除该节点。\n",
    "返回删除后的链表的头节点。\n",
    "\n",
    "示例 1:\n",
    "输入: head = [4,5,1,9], val = 5\n",
    "输出: [4,1,9]（链表）\n",
    "解释: 给定你链表中值为 5 的第二个节点，那么在调用了你的函数之后，该链表应变为 4 -> 1 -> 9.\n",
    "\n",
    "示例 2:\n",
    "输入: head = [4,5,1,9], val = 1\n",
    "输出: [4,5,9]（链表）\n",
    "解释: 给定你链表中值为 1 的第三个节点，那么在调用了你的函数之后，该链表应变为 4 -> 5 -> 9.\n",
    "\n",
    "*题目保证链表中节点的值互不相同"
   ]
  },
  {
   "cell_type": "code",
   "execution_count": 61,
   "metadata": {},
   "outputs": [],
   "source": [
    "# Definition for singly-linked list.\n",
    "class ListNode(object):\n",
    "    def __init__(self, x):\n",
    "        self.val = x\n",
    "        self.next = None"
   ]
  },
  {
   "cell_type": "code",
   "execution_count": 62,
   "metadata": {},
   "outputs": [],
   "source": [
    "def createListNode(arr):\n",
    "    head=ListNode(arr[0])\n",
    "    current=head\n",
    "    for i in range(1,len(arr)):\n",
    "        current.next=ListNode(arr[i])\n",
    "        current=current.next\n",
    "    return head"
   ]
  },
  {
   "cell_type": "code",
   "execution_count": 63,
   "metadata": {},
   "outputs": [],
   "source": [
    "#创建数组存放链表\n",
    "# def deleteNode(head, val):#head此时已经是链表了，没有长度\n",
    "#     result=[]\n",
    "#     while head!= None:#因为没有长度，所有不能for loop\n",
    "#         if head.val!=val:\n",
    "#             result.append(head.val)\n",
    "#         head=head.next\n",
    "#     return result\n",
    "#但这个后面还需要套一个用数组创建链表的函数，数组占了空间\n",
    "\n",
    "#执行用时：28 ms, 在所有 Python 提交中击败了64.93%的用户\n",
    "#内存消耗：13.8 MB, 在所有 Python 提交中击败了5.30%的用户"
   ]
  },
  {
   "cell_type": "code",
   "execution_count": 73,
   "metadata": {},
   "outputs": [],
   "source": [
    "#不创建数组存放链表，单指针\n",
    "# def deleteNode(head, val):#此时head是链表（的头节点）！！！\n",
    "#     if head.val == val:\n",
    "#         return head.next #特殊情况是需要删除的节点是头结点，只要知道头节点就可以得到整条链表，现在第二节点成为了新的头节点\n",
    "    \n",
    "#     current=head\n",
    "#     while current:\n",
    "#         if current.next.val == val:  #找到需要删除的那个节点，跳过这节点，指向他的下一个节点就行。\n",
    "#             current.next = current.next.next\n",
    "#             return head#current如何变动head不需要知道～\n",
    "#         else:\n",
    "#             current = current.next\n",
    "\n",
    "#执行用时：24 ms, 在所有 Python 提交中击败了86.22%的用户\n",
    "#内存消耗：13.1 MB, 在所有 Python 提交中击败了96.97%的用户"
   ]
  },
  {
   "cell_type": "code",
   "execution_count": 75,
   "metadata": {},
   "outputs": [],
   "source": [
    "#不创建数组存放链表，双指针\n",
    "def deleteNode(head, val):#此时head是链表（的头节点）！！！\n",
    "    if head.val == val:\n",
    "        return head.next #特殊情况是需要删除的节点是头结点，只要知道头节点就可以得到整条链表，现在第二节点成为了新的头节点\n",
    "    \n",
    "    cur=head\n",
    "    nxt=head.next\n",
    "    while cur:\n",
    "        if nxt.val == val:  #找到需要删除的那个节点，跳过这节点，指向他的下一个节点就行。\n",
    "            cur.next = nxt.next\n",
    "            return head#current如何变动head不需要知道～\n",
    "        else:\n",
    "            cur = cur.next\n",
    "            nxt = nxt.next\n",
    "#执行用时：24 ms, 在所有 Python 提交中击败了86.22%的用户\n",
    "#内存消耗：13.1 MB, 在所有 Python 提交中击败了94.55%的用户"
   ]
  },
  {
   "cell_type": "code",
   "execution_count": 76,
   "metadata": {},
   "outputs": [
    {
     "data": {
      "text/plain": [
       "<__main__.ListNode at 0x7f9e94c149d0>"
      ]
     },
     "execution_count": 76,
     "metadata": {},
     "output_type": "execute_result"
    }
   ],
   "source": [
    "head=[4,5,1,9]\n",
    "val=5\n",
    "created_ListNode=createListNode(head)\n",
    "deleteNode(created_ListNode,val)#此时传入deleteNode的形参已经是链表了"
   ]
  },
  {
   "cell_type": "code",
   "execution_count": null,
   "metadata": {},
   "outputs": [],
   "source": []
  }
 ],
 "metadata": {
  "kernelspec": {
   "display_name": "Python 3",
   "language": "python",
   "name": "python3"
  },
  "language_info": {
   "codemirror_mode": {
    "name": "ipython",
    "version": 3
   },
   "file_extension": ".py",
   "mimetype": "text/x-python",
   "name": "python",
   "nbconvert_exporter": "python",
   "pygments_lexer": "ipython3",
   "version": "3.8.3"
  }
 },
 "nbformat": 4,
 "nbformat_minor": 4
}
