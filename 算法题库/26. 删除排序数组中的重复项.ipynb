{
 "cells": [
  {
   "cell_type": "markdown",
   "metadata": {},
   "source": [
    "26. 删除排序数组中的重复项\n",
    "给定一个排序数组，你需要在原地删除重复出现的元素，使得每个元素只出现一次，返回移除元素后的新数组。\n",
    "不要使用额外的数组空间，你必须在原地修改输入数组，并在使用 O(1) 额外空间的条件下完成。\n",
    "\n",
    "示例 1:\n",
    "给定数组 nums = [1,1,2], \n",
    "函数应该返回新的长度 2, 并且原数组 nums 的前两个元素被修改为 1, 2。 \n",
    "\n",
    "示例 2:\n",
    "给定 nums = [0,0,1,1,1,2,2,3,3,4],\n",
    "函数应该返回新的长度 5, 并且原数组 nums 的前五个元素被修改为 0, 1, 2, 3, 4。"
   ]
  },
  {
   "cell_type": "code",
   "execution_count": 103,
   "metadata": {},
   "outputs": [],
   "source": [
    "# class Solution(object):\n",
    "#     def removeDuplicates(self, nums):\n",
    "#         j=1\n",
    "#         for i in range(len(nums)-1):\n",
    "#             if nums[i]!=nums[i+1]:\n",
    "#                 j+=1\n",
    "#         return j\n",
    "#返回的是移除元素后的新数组长度，但是内容不对"
   ]
  },
  {
   "cell_type": "code",
   "execution_count": 104,
   "metadata": {},
   "outputs": [],
   "source": [
    "class Solution(object):\n",
    "    def removeDuplicates(self, nums):\n",
    "        i=1\n",
    "        j=0\n",
    "        while i<len(nums):\n",
    "            if nums[i]==nums[j]:\n",
    "                nums[j]=nums[j]\n",
    "                i+=1\n",
    "            elif nums[i]!=nums[j]:\n",
    "                j+=1\n",
    "                nums[j]=nums[i]\n",
    "                i+=1 \n",
    "        return j+1\n",
    "#执行用时：28 ms, 在所有 Python 提交中击败了73.63%的用户\n",
    "#内存消耗：14 MB, 在所有 Python 提交中击败了63.99%的用户"
   ]
  },
  {
   "cell_type": "code",
   "execution_count": 105,
   "metadata": {},
   "outputs": [
    {
     "data": {
      "text/plain": [
       "5"
      ]
     },
     "execution_count": 105,
     "metadata": {},
     "output_type": "execute_result"
    }
   ],
   "source": [
    "nums = [0,0,1,1,1,2,2,3,3,4]\n",
    "s=Solution()\n",
    "s.removeDuplicates(nums)"
   ]
  },
  {
   "cell_type": "code",
   "execution_count": null,
   "metadata": {},
   "outputs": [],
   "source": []
  }
 ],
 "metadata": {
  "kernelspec": {
   "display_name": "Python 3",
   "language": "python",
   "name": "python3"
  },
  "language_info": {
   "codemirror_mode": {
    "name": "ipython",
    "version": 3
   },
   "file_extension": ".py",
   "mimetype": "text/x-python",
   "name": "python",
   "nbconvert_exporter": "python",
   "pygments_lexer": "ipython3",
   "version": "3.8.3"
  }
 },
 "nbformat": 4,
 "nbformat_minor": 4
}
