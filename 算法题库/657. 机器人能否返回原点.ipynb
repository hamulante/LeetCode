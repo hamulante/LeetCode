{
 "cells": [
  {
   "cell_type": "markdown",
   "metadata": {},
   "source": [
    "657. 机器人能否返回原点\n",
    "\n",
    "在二维平面上，有一个机器人从原点 (0, 0) 开始。给出它的移动顺序，判断这个机器人在完成移动后是否在 (0, 0) 处结束。\n",
    "移动顺序由字符串表示。字符 move[i] 表示其第 i 次移动。机器人的有效动作有 R（右），L（左），U（上）和 D（下）。如果机器人在完成所有动作后返回原点，则返回 true。否则，返回 false。\n",
    "注意：机器人“面朝”的方向无关紧要。 “R” 将始终使机器人向右移动一次，“L” 将始终向左移动等。此外，假设每次移动机器人的移动幅度相同。\n",
    "\n",
    "示例 1:\n",
    "输入: \"UD\"\n",
    "输出: true\n",
    "解释：机器人向上移动一次，然后向下移动一次。所有动作都具有相同的幅度，因此它最终回到它开始的原点。因此，我们返回 true。\n",
    "\n",
    "示例 2:\n",
    "输入: \"LL\"\n",
    "输出: false\n",
    "解释：机器人向左移动两次。它最终位于原点的左侧，距原点有两次 “移动” 的距离。我们返回 false，因为它在移动结束时没有返回原点。"
   ]
  },
  {
   "cell_type": "code",
   "execution_count": 4,
   "metadata": {},
   "outputs": [],
   "source": [
    "def judgeCircle(moves):\n",
    "    count_U=0\n",
    "    count_D=0\n",
    "    count_L=0\n",
    "    count_R=0\n",
    "    for each in moves:\n",
    "        if each == 'U':\n",
    "            count_U+=1\n",
    "        elif each =='D':\n",
    "            count_D+=1\n",
    "        elif each == 'R':\n",
    "            count_R+=1\n",
    "        elif each =='L':\n",
    "            count_L+=1\n",
    "    return count_U==count_D and count_R==count_L\n",
    "#执行用时：100 ms, 在所有 Python 提交中击败了51.71%的用户\n",
    "#内存消耗：13 MB, 在所有 Python 提交中击败了40.22%的用户"
   ]
  },
  {
   "cell_type": "code",
   "execution_count": 8,
   "metadata": {},
   "outputs": [],
   "source": [
    "def judgeCircle(moves):\n",
    "    i = 0 \n",
    "    j = 0\n",
    "    if len(moves) % 2 == 1:\n",
    "        return False \n",
    "    for each in moves:\n",
    "        if each == 'U':\n",
    "            i += 1\n",
    "        elif each =='D':\n",
    "            i -= 1\n",
    "        elif each == 'R':\n",
    "            j += 1 \n",
    "        elif each =='L':\n",
    "            j -= 1\n",
    "    return i == 0 and j == 0"
   ]
  },
  {
   "cell_type": "code",
   "execution_count": 9,
   "metadata": {},
   "outputs": [
    {
     "data": {
      "text/plain": [
       "False"
      ]
     },
     "execution_count": 9,
     "metadata": {},
     "output_type": "execute_result"
    }
   ],
   "source": [
    "moves=\"L\"\n",
    "judgeCircle(moves)"
   ]
  },
  {
   "cell_type": "code",
   "execution_count": null,
   "metadata": {},
   "outputs": [],
   "source": []
  }
 ],
 "metadata": {
  "kernelspec": {
   "display_name": "Python 3",
   "language": "python",
   "name": "python3"
  },
  "language_info": {
   "codemirror_mode": {
    "name": "ipython",
    "version": 3
   },
   "file_extension": ".py",
   "mimetype": "text/x-python",
   "name": "python",
   "nbconvert_exporter": "python",
   "pygments_lexer": "ipython3",
   "version": "3.7.6"
  }
 },
 "nbformat": 4,
 "nbformat_minor": 4
}
