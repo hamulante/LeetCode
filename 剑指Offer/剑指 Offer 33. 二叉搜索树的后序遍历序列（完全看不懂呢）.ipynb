{
 "cells": [
  {
   "cell_type": "markdown",
   "metadata": {},
   "source": [
    "剑指 Offer 33. 二叉搜索树的后序遍历序列\n",
    "输入一个整数数组，判断该数组是不是某二叉搜索树的后序遍历结果。如果是则返回 true，否则返回 false。假设输入的数组的任意两个数字都互不相同。\n",
    "\n",
    "参考以下这颗二叉搜索树：\n",
    "\n",
    "     5\n",
    "    / \\\n",
    "   2   6\n",
    "  / \\\n",
    " 1   3\n",
    "\n",
    "示例 1：\n",
    "输入: [1,6,3,2,5]\n",
    "输出: false\n",
    "\n",
    "示例 2：\n",
    "输入: [1,3,2,6,5]\n",
    "输出: true"
   ]
  },
  {
   "cell_type": "code",
   "execution_count": 10,
   "metadata": {},
   "outputs": [],
   "source": [
    "#首先我才发现我根本分不清二叉xx树的\n",
    "#二叉树是每个节点最多有两个子节点的树，节点之间大小关系没讲究的，只是一个类\n",
    "#二叉“搜索树”定义： 左子树中“所有”节点的值 < 根节点的值；右子树中所有节点的值 > 根节点的值；其左、右子树也分别为二叉搜索树。\n",
    "#第三层的右孩子绝对不能比第二层的右孩子大！！！！！！！这样才能快速定位节点查找而不是遍历\n",
    "#后序遍历定义： [ 左子树 | 右子树 | 根节点 ] ，即遍历顺序为 “左、右、根” 。\n",
    "\n",
    "#方法一：递归分治\n",
    "#根据二叉搜索树的定义，可以通过递归，判断所有子树的正确性 （即其后序遍历是否满足二叉搜索树的定义）\n",
    "#若所有子树都正确，则此序列为二叉搜索树的后序遍历。\n",
    "#终止条件： 当 i≥j ，说明此子树节点数量 ≤1 ，无需判别正确性，因此直接返回 true；\n",
    "#递推工作：\n",
    "#划分左右子树： 遍历后序遍历的 [i, j] 区间元素，寻找 第一个大于根节点的节点，索引记为 m。\n",
    "#此时，可划分出左子树区间 [i,m-1]、右子树区间 [m,j−1] 、根节点索引 j 。\n",
    "#判断是否为二叉搜索树：\n",
    "#左子树区间 [i,m−1] 内的所有节点都应 <postorder[j]，而划分左右子树的步骤已经保证左子树区间的正确性，因此只需要判断右子树区间即可。\n",
    "#右子树区间 [m,j−1] 内的所有节点都应 >postorder[j] 。\n",
    "#实现方式为遍历，当遇到 ≤postorder[j] 的节点则跳出；则可通过 p = j 判断是否为二叉搜索树。\n",
    "#返回值： 所有子树都需正确才可判定正确，因此使用 与逻辑符 && 连接。\n",
    "#p = j： 判断 此树 是否正确。\n",
    "#recur(i, m - 1) ： 判断 此树的左子树 是否正确。\n",
    "#recur(m, j - 1) ： 判断 此树的右子树 是否正确。\n",
    "\n",
    "class Solution(object):\n",
    "    def verifyPostorder(self, postorder):\n",
    "        def recur(i, j):#i，j只是位置，不是值哦\n",
    "            if i >= j: #说明此子树节点数量 ≤1 ，无需判别正确性，因此直接返回 true\n",
    "                return True\n",
    "            p = i\n",
    "            while postorder[p] < postorder[j]: \n",
    "                p += 1\n",
    "            m = p\n",
    "            while postorder[p] > postorder[j]: \n",
    "                p += 1\n",
    "            return p == j and recur(i, m - 1) and recur(m, j - 1)\n",
    "        return recur(0, len(postorder) - 1)#主函数把整个数组先放进去\n",
    "    \n",
    "#时间复杂度 O(N^2)：每次调用 recur(i,j) 减去一个根节点，因此递归占用 O(N) ；最差情况下（即当树退化为链表），每轮递归都需遍历树所有节点，占用 O(N)。\n",
    "#空间复杂度 O(N)O(N) ： 最差情况下（即当树退化为链表），递归深度将达到 N。"
   ]
  },
  {
   "cell_type": "code",
   "execution_count": null,
   "metadata": {},
   "outputs": [],
   "source": [
    "#方法二：辅助单调栈\n",
    "#先把后序遍历做个倒序： [ 根节点 | 右子树 | 左子树 ]\n",
    "#设后序遍历倒序列表为 [r_{n}, r_{n-1},...,r_1],遍历此列表，设索引为 i ，若为 二叉搜索树 ，则有：\n",
    "#当节点值 r_i > r_{i+1}时： 节点 r_i一定是节点 r_{i+1}的右子节点。\n",
    "#当节点值 r_i < r_{i+1}时： 节点 r_i一定是某节点 rootroot 的左子节点,\n",
    "#且 rootroot 为节点 r_{i+1}, r_{i+2},..., r_{n}中值大于且最接近 r_i的节点（∵ rootroot 直接连接 左子节点 r_i。\n",
    "#当遍历时遇到递减节点 r_i < r_{i+1} ，若为二叉搜索树，则对于后序遍历中节点 r_i右边的任意节点 r_x，必有节点值 r_x <root 。\n",
    "\n",
    "#算法流程：\n",
    "#初始化： 单调栈 stack ，父节点值 root = +∞ （初始值为正无穷大，可把树的根节点看为此无穷大节点的左孩子）；\n",
    "#倒序遍历 postorderpostorder ：记每个节点为 r_i\n",
    "#判断： 若 r_i >root ，说明此后序遍历序列不满足二叉搜索树定义，直接返回 false ；\n",
    "#更新父节点 rootroot ： 当栈不为空且 r_i<stack.peek() 时，循环执行出栈，并将出栈节点赋给 root 。\n",
    "#入栈： 将当前节点 r_i入栈；\n",
    "#若遍历完成，则说明后序遍历满足二叉搜索树定义，返回 true。\n",
    "\n",
    "class Solution:\n",
    "    def verifyPostorder(self, postorder: [int]) -> bool:\n",
    "        stack, root = [], float(\"+inf\")\n",
    "        for i in range(len(postorder) - 1, -1, -1):\n",
    "            if postorder[i] > root: return False\n",
    "            while(stack and postorder[i] < stack[-1]):\n",
    "                root = stack.pop()\n",
    "            stack.append(postorder[i])\n",
    "        return True\n",
    "\n",
    "#完全没有看懂（也没花心思看"
   ]
  },
  {
   "cell_type": "code",
   "execution_count": 12,
   "metadata": {},
   "outputs": [
    {
     "data": {
      "text/plain": [
       "True"
      ]
     },
     "execution_count": 12,
     "metadata": {},
     "output_type": "execute_result"
    }
   ],
   "source": [
    "postorder=[4, 8, 6, 12, 16, 14]\n",
    "s=Solution()\n",
    "s.verifyPostorder(postorder)"
   ]
  },
  {
   "cell_type": "code",
   "execution_count": null,
   "metadata": {},
   "outputs": [],
   "source": []
  }
 ],
 "metadata": {
  "kernelspec": {
   "display_name": "Python 3",
   "language": "python",
   "name": "python3"
  },
  "language_info": {
   "codemirror_mode": {
    "name": "ipython",
    "version": 3
   },
   "file_extension": ".py",
   "mimetype": "text/x-python",
   "name": "python",
   "nbconvert_exporter": "python",
   "pygments_lexer": "ipython3",
   "version": "3.8.3"
  }
 },
 "nbformat": 4,
 "nbformat_minor": 4
}
