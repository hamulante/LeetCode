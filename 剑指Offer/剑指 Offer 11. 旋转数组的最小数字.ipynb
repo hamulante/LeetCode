{
 "cells": [
  {
   "cell_type": "markdown",
   "metadata": {},
   "source": [
    "剑指 Offer 11. 旋转数组的最小数字\n",
    "\n",
    "把一个数组最开始的若干个元素搬到数组的末尾，我们称之为数组的旋转。输入一个递增排序的数组的一个旋转，输出旋转数组的最小元素。例如，数组 [3,4,5,1,2] 为 [1,2,3,4,5] 的一个旋转，该数组的最小值为1。  \n",
    "\n",
    "示例 1：\n",
    "输入：[3,4,5,1,2]\n",
    "输出：1\n",
    "\n",
    "示例 2：\n",
    "输入：[2,2,2,0,1]\n",
    "输出：0"
   ]
  },
  {
   "cell_type": "code",
   "execution_count": null,
   "metadata": {},
   "outputs": [],
   "source": [
    "# class Solution(object):\n",
    "#     def minArray(self, numbers):\n",
    "#         for i in range(1,len(numbers)):\n",
    "#             if numbers[0]>=numbers[i]:\n",
    "#                 numbers[0],numbers[i]=numbers[i],numbers[0]\n",
    "#         return numbers[0]\n",
    "#执行用时：20 ms, 在所有 Python 提交中击败了74.97%的用户\n",
    "#内存消耗：13 MB, 在所有 Python 提交中击败了23.67%的用户"
   ]
  },
  {
   "cell_type": "code",
   "execution_count": null,
   "metadata": {},
   "outputs": [],
   "source": [
    "#提前return\n",
    "# class Solution(object):\n",
    "#     def minArray(self, numbers):\n",
    "#         for i in range(len(numbers)-1):\n",
    "#             if numbers[i]>numbers[i+1]:\n",
    "#                 return numbers[i+1]\n",
    "#         else: return numbers[0]\n",
    "#执行用时：16 ms, 在所有 Python 提交中击败了91.58%的用户\n",
    "#内存消耗：13.3 MB, 在所有 Python 提交中击败了5.48%的用户"
   ]
  },
  {
   "cell_type": "code",
   "execution_count": 27,
   "metadata": {},
   "outputs": [],
   "source": [
    "#原来还是要考我二分\n",
    "#算法流程：循环二分： 设置 i, j 指针分别指向 numbers 数组左右两端，m = (i + j) // 2，m=(i+j)//2 为每次二分的中点。\n",
    "#当 numbers[m] > numbers[j]时：旋转点 x 一定在 [m + 1, j]闭区间内，因此执行 i = m + 1；\n",
    "#当 numbers[m] < numbers[j] 时：旋转点 x 一定在[i, m]闭区间内，因此执行 j = m；\n",
    "#当 numbers[m] == numbers[j] 时： 无法判断旋转点 xx 在 [i, m]还是 [m + 1, j]区间中。解决方案： 执行 j = j - 1缩小判断范围。\n",
    "#返回值： 当 i = j时跳出二分循环，并返回 numbers[i] 即可。\n",
    "\n",
    "class Solution(object):\n",
    "    def minArray(self, numbers):\n",
    "        i=0\n",
    "        j=len(numbers)-1\n",
    "        while i<j:\n",
    "            m=(i+j)//2\n",
    "            if numbers[m]>numbers[j]:\n",
    "                i=m+1#i=m就冗余了\n",
    "            elif numbers[m]<numbers[j]:\n",
    "                j=m#可能m就是x\n",
    "            elif numbers[m]==numbers[j]:\n",
    "                j=j-1#[1,1,1,0,1]或者[3,4,1,1,1],要么是去掉重复元素要么证明x在m与j之间\n",
    "        return numbers[i] \n",
    "#执行用时：20 ms, 在所有 Python 提交中击败了74.89%的用户\n",
    "#内存消耗：12.8 MB, 在所有 Python 提交中击败了57.50%的用户"
   ]
  },
  {
   "cell_type": "code",
   "execution_count": 28,
   "metadata": {},
   "outputs": [
    {
     "data": {
      "text/plain": [
       "0"
      ]
     },
     "execution_count": 28,
     "metadata": {},
     "output_type": "execute_result"
    }
   ],
   "source": [
    "input_list=[3,4,1,1,1,1,1,1,1,1,1,1,1,1,1,0]\n",
    "arr=Solution()\n",
    "arr.minArray(input_list)"
   ]
  },
  {
   "cell_type": "code",
   "execution_count": null,
   "metadata": {},
   "outputs": [],
   "source": []
  },
  {
   "cell_type": "code",
   "execution_count": null,
   "metadata": {},
   "outputs": [],
   "source": []
  }
 ],
 "metadata": {
  "kernelspec": {
   "display_name": "Python 3",
   "language": "python",
   "name": "python3"
  },
  "language_info": {
   "codemirror_mode": {
    "name": "ipython",
    "version": 3
   },
   "file_extension": ".py",
   "mimetype": "text/x-python",
   "name": "python",
   "nbconvert_exporter": "python",
   "pygments_lexer": "ipython3",
   "version": "3.8.3"
  }
 },
 "nbformat": 4,
 "nbformat_minor": 4
}
