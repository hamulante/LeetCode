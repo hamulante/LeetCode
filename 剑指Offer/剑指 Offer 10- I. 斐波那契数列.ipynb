{
 "cells": [
  {
   "cell_type": "markdown",
   "metadata": {},
   "source": [
    "剑指 Offer 10- I. 斐波那契数列\n",
    "\n",
    "写一个函数，输入 n ，求斐波那契（Fibonacci）数列的第 n 项。斐波那契数列的定义如下：\n",
    "F(0) = 0,   F(1) = 1\n",
    "F(N) = F(N - 1) + F(N - 2), 其中 N > 1.\n",
    "斐波那契数列由 0 和 1 开始，之后的斐波那契数就是由之前的两数相加而得出。\n",
    "\n",
    "答案需要取模 1e9+7（1000000007），如计算初始结果为：1000000008，请返回 1。\n",
    "\n",
    "示例 1：\n",
    "输入：n = 2\n",
    "输出：1\n",
    "\n",
    "示例 2：\n",
    "输入：n = 5\n",
    "输出：5"
   ]
  },
  {
   "cell_type": "code",
   "execution_count": 77,
   "metadata": {},
   "outputs": [],
   "source": [
    "# class Solution(object):\n",
    "#     def fib(self, n):\n",
    "#         if n<=1:\n",
    "#             return n\n",
    "#         elif n>1:\n",
    "#             return (self.fib(n-1)+self.fib(n-2))%1000000007\n",
    "\n",
    "#超出时间限制 log(2^n)"
   ]
  },
  {
   "cell_type": "code",
   "execution_count": 136,
   "metadata": {},
   "outputs": [],
   "source": [
    "class Solution(object):\n",
    "    cache = dict()\n",
    "\n",
    "    def fib(self, n: int) -> int:\n",
    "        if n in self.cache:\n",
    "            return self.cache[n]\n",
    "\n",
    "        if n == 0:\n",
    "            self.cache[0] = 0\n",
    "            return 0\n",
    "        if n == 1:\n",
    "            self.cache[1] = 1\n",
    "            return 1\n",
    "        self.cache[n-1] = self.fib(n-1) \n",
    "        self.cache[n-2] = self.fib(n-2) \n",
    "        return (self.cache[n-1] + self.cache[n-2]) % 1000000007\n",
    "    \n",
    "#执行用时：20 ms, 在所有 Python 提交中击败了58.96%的用户\n",
    "#内存消耗：12.7 MB, 在所有 Python 提交中击败了45.38%的用户"
   ]
  },
  {
   "cell_type": "code",
   "execution_count": 132,
   "metadata": {},
   "outputs": [],
   "source": [
    "# class Solution(object):\n",
    "#     def fib(self, n):\n",
    "#         fib=[0,1]\n",
    "#         if n<=1:\n",
    "#             return fib[n]\n",
    "#         else:\n",
    "#             for i in range(2,n+1):\n",
    "#                 fib.append(fib[i-1]+fib[i-2])\n",
    "#             return fib[i]%1000000007\n",
    "        \n",
    "#执行用时：24 ms, 在所有 Python 提交中击败了30.70%的用户\n",
    "#内存消耗：12.7 MB, 在所有 Python 提交中击败了61.99%的用户"
   ]
  },
  {
   "cell_type": "code",
   "execution_count": 134,
   "metadata": {},
   "outputs": [],
   "source": [
    "# class Solution(object):\n",
    "#     def fib(self, n):\n",
    "#         a, b = 0, 1\n",
    "#         for i in range(n):\n",
    "#             a, b = b, a + b\n",
    "#         return a % 1000000007\n",
    "#a b n\n",
    "#0 1 0\n",
    "#1 1 1\n",
    "#1 2 2\n",
    "#2 3 3\n",
    "#3 5 4\n",
    "\n",
    "#执行用时：24 ms, 在所有 Python 提交中击败了30.70%的用户\n",
    "#内存消耗：12.8 MB, 在所有 Python 提交中击败了32.36%的用户"
   ]
  },
  {
   "cell_type": "code",
   "execution_count": 137,
   "metadata": {},
   "outputs": [
    {
     "data": {
      "text/plain": [
       "24157817"
      ]
     },
     "execution_count": 137,
     "metadata": {},
     "output_type": "execute_result"
    }
   ],
   "source": [
    "n=37\n",
    "number=Solution()\n",
    "number.fib(n)\n",
    "# number=Solution().fib(n)#number被传入了返回值"
   ]
  },
  {
   "cell_type": "code",
   "execution_count": null,
   "metadata": {},
   "outputs": [],
   "source": []
  },
  {
   "cell_type": "code",
   "execution_count": null,
   "metadata": {},
   "outputs": [],
   "source": []
  }
 ],
 "metadata": {
  "kernelspec": {
   "display_name": "Python 3",
   "language": "python",
   "name": "python3"
  },
  "language_info": {
   "codemirror_mode": {
    "name": "ipython",
    "version": 3
   },
   "file_extension": ".py",
   "mimetype": "text/x-python",
   "name": "python",
   "nbconvert_exporter": "python",
   "pygments_lexer": "ipython3",
   "version": "3.8.3"
  }
 },
 "nbformat": 4,
 "nbformat_minor": 4
}
