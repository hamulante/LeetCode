{
 "cells": [
  {
   "cell_type": "markdown",
   "metadata": {},
   "source": [
    "剑指 Offer 21. 调整数组顺序使奇数位于偶数前面\n",
    "\n",
    "输入一个整数数组，实现一个函数来调整该数组中数字的顺序，使得所有奇数位于数组的前半部分，所有偶数位于数组的后半部分。\n",
    "\n",
    "示例：\n",
    "输入：nums = [1,2,3,4]\n",
    "输出：[1,3,2,4] \n",
    "注：[3,1,2,4] 也是正确的答案之一。"
   ]
  },
  {
   "cell_type": "code",
   "execution_count": 19,
   "metadata": {},
   "outputs": [],
   "source": [
    "#双指针\n",
    "#定义头指针left ，尾指针right.\n",
    "#left一直往右移，直到它指向的值为偶数\n",
    "#right一直往左移，直到它指向的值为奇数\n",
    "#交换 nums[left]和 nums[right]\n",
    "#重复上述操作，直到 left >= right\n",
    "\n",
    "class Solution(object):\n",
    "    def exchange(self, nums):\n",
    "        i=0\n",
    "        j=len(nums)-1    \n",
    "        \n",
    "        if j==0:\n",
    "            return nums\n",
    "        else:\n",
    "            while i<j:\n",
    "                print(nums[i],nums[j])\n",
    "                if nums[i]%2==1 and nums[j]%2==0:#odd even\n",
    "                    i+=1\n",
    "                    j-=1\n",
    "                elif nums[i]%2==0 and nums[j]%2==1:#even odd\n",
    "                    nums[i],nums[j]=nums[j],nums[i]\n",
    "                    i+=1\n",
    "                    j-=1\n",
    "                elif nums[i]%2==1 and nums[j]%2==1:#odd odd\n",
    "                    i+=1\n",
    "                elif nums[i]%2==0 and nums[j]%2==0:#even even\n",
    "                    j-=1\n",
    "            return nums\n",
    "#执行用时：32 ms, 在所有 Python 提交中击败了93.96%的用户\n",
    "#内存消耗：17.7 MB, 在所有 Python 提交中击败了54.43%的用户"
   ]
  },
  {
   "cell_type": "code",
   "execution_count": 20,
   "metadata": {},
   "outputs": [
    {
     "name": "stdout",
     "output_type": "stream",
     "text": [
      "2 6\n",
      "2 4\n"
     ]
    },
    {
     "data": {
      "text/plain": [
       "[2, 4, 6]"
      ]
     },
     "execution_count": 20,
     "metadata": {},
     "output_type": "execute_result"
    }
   ],
   "source": [
    "nums=[2,4,6]\n",
    "s=Solution()\n",
    "s.exchange(nums)"
   ]
  },
  {
   "cell_type": "code",
   "execution_count": null,
   "metadata": {},
   "outputs": [],
   "source": []
  },
  {
   "cell_type": "code",
   "execution_count": null,
   "metadata": {},
   "outputs": [],
   "source": []
  }
 ],
 "metadata": {
  "kernelspec": {
   "display_name": "Python 3",
   "language": "python",
   "name": "python3"
  },
  "language_info": {
   "codemirror_mode": {
    "name": "ipython",
    "version": 3
   },
   "file_extension": ".py",
   "mimetype": "text/x-python",
   "name": "python",
   "nbconvert_exporter": "python",
   "pygments_lexer": "ipython3",
   "version": "3.8.3"
  }
 },
 "nbformat": 4,
 "nbformat_minor": 4
}
