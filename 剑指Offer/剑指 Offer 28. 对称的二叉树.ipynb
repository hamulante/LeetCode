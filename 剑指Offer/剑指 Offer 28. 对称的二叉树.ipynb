{
 "cells": [
  {
   "cell_type": "markdown",
   "metadata": {},
   "source": [
    "剑指 Offer 28. 对称的二叉树\n",
    "请实现一个函数，用来判断一棵二叉树是不是对称的。如果一棵二叉树和它的镜像一样，那么它是对称的。\n",
    "\n",
    "例如，二叉树 [1,2,2,3,4,4,3] 是对称的。\n",
    "\n",
    "    1\n",
    "   / \\\n",
    "  2   2\n",
    " / \\ / \\\n",
    "3  4 4  3\n",
    "\n",
    "但是下面这个 [1,2,2,null,3,null,3] 则不是镜像对称的:\n",
    "\n",
    "    1\n",
    "   / \\\n",
    "  2   2\n",
    "   \\   \\\n",
    "   3    3\n",
    "\n",
    "示例 1：\n",
    "输入：root = [1,2,2,3,4,4,3]\n",
    "输出：true\n",
    "\n",
    "示例 2：\n",
    "输入：root = [1,2,2,null,3,null,3]\n",
    "输出：false"
   ]
  },
  {
   "cell_type": "code",
   "execution_count": 6,
   "metadata": {},
   "outputs": [
    {
     "ename": "AttributeError",
     "evalue": "'list' object has no attribute 'val'",
     "output_type": "error",
     "traceback": [
      "\u001b[1;31m---------------------------------------------------------------------------\u001b[0m",
      "\u001b[1;31mAttributeError\u001b[0m                            Traceback (most recent call last)",
      "\u001b[1;32m<ipython-input-6-8d2e0dd698e2>\u001b[0m in \u001b[0;36m<module>\u001b[1;34m\u001b[0m\n\u001b[0;32m     22\u001b[0m \u001b[0mroot\u001b[0m\u001b[1;33m=\u001b[0m\u001b[1;33m[\u001b[0m\u001b[1;36m1\u001b[0m\u001b[1;33m,\u001b[0m\u001b[1;36m2\u001b[0m\u001b[1;33m,\u001b[0m\u001b[1;36m2\u001b[0m\u001b[1;33m,\u001b[0m\u001b[1;36m3\u001b[0m\u001b[1;33m,\u001b[0m\u001b[1;36m4\u001b[0m\u001b[1;33m,\u001b[0m\u001b[1;36m4\u001b[0m\u001b[1;33m,\u001b[0m\u001b[1;36m3\u001b[0m\u001b[1;33m]\u001b[0m\u001b[1;33m\u001b[0m\u001b[1;33m\u001b[0m\u001b[0m\n\u001b[0;32m     23\u001b[0m \u001b[0ms\u001b[0m\u001b[1;33m=\u001b[0m\u001b[0mSolution\u001b[0m\u001b[1;33m(\u001b[0m\u001b[1;33m)\u001b[0m\u001b[1;33m\u001b[0m\u001b[1;33m\u001b[0m\u001b[0m\n\u001b[1;32m---> 24\u001b[1;33m \u001b[0ms\u001b[0m\u001b[1;33m.\u001b[0m\u001b[0misSymmetric\u001b[0m\u001b[1;33m(\u001b[0m\u001b[0mroot\u001b[0m\u001b[1;33m)\u001b[0m\u001b[1;33m\u001b[0m\u001b[1;33m\u001b[0m\u001b[0m\n\u001b[0m",
      "\u001b[1;32m<ipython-input-6-8d2e0dd698e2>\u001b[0m in \u001b[0;36misSymmetric\u001b[1;34m(self, root)\u001b[0m\n\u001b[0;32m      5\u001b[0m \u001b[1;32mclass\u001b[0m \u001b[0mSolution\u001b[0m\u001b[1;33m(\u001b[0m\u001b[0mobject\u001b[0m\u001b[1;33m)\u001b[0m\u001b[1;33m:\u001b[0m\u001b[1;33m\u001b[0m\u001b[1;33m\u001b[0m\u001b[0m\n\u001b[0;32m      6\u001b[0m     \u001b[1;32mdef\u001b[0m \u001b[0misSymmetric\u001b[0m\u001b[1;33m(\u001b[0m\u001b[0mself\u001b[0m\u001b[1;33m,\u001b[0m \u001b[0mroot\u001b[0m\u001b[1;33m)\u001b[0m\u001b[1;33m:\u001b[0m\u001b[1;33m\u001b[0m\u001b[1;33m\u001b[0m\u001b[0m\n\u001b[1;32m----> 7\u001b[1;33m         \u001b[0mroot1\u001b[0m \u001b[1;33m=\u001b[0m \u001b[0mself\u001b[0m\u001b[1;33m.\u001b[0m\u001b[0mmirrorTree\u001b[0m\u001b[1;33m(\u001b[0m\u001b[0mroot\u001b[0m\u001b[1;33m)\u001b[0m\u001b[1;33m\u001b[0m\u001b[1;33m\u001b[0m\u001b[0m\n\u001b[0m\u001b[0;32m      8\u001b[0m \u001b[1;31m#         if(isSame(sym,root))\u001b[0m\u001b[1;33m\u001b[0m\u001b[1;33m\u001b[0m\u001b[1;33m\u001b[0m\u001b[0m\n\u001b[0;32m      9\u001b[0m \u001b[1;31m#             return true;\u001b[0m\u001b[1;33m\u001b[0m\u001b[1;33m\u001b[0m\u001b[1;33m\u001b[0m\u001b[0m\n",
      "\u001b[1;32m<ipython-input-6-8d2e0dd698e2>\u001b[0m in \u001b[0;36mmirrorTree\u001b[1;34m(self, root)\u001b[0m\n\u001b[0;32m     14\u001b[0m     \u001b[1;32mdef\u001b[0m \u001b[0mmirrorTree\u001b[0m\u001b[1;33m(\u001b[0m\u001b[0mself\u001b[0m\u001b[1;33m,\u001b[0m \u001b[0mroot\u001b[0m\u001b[1;33m)\u001b[0m\u001b[1;33m:\u001b[0m\u001b[1;33m\u001b[0m\u001b[1;33m\u001b[0m\u001b[0m\n\u001b[0;32m     15\u001b[0m         \u001b[1;32mif\u001b[0m \u001b[1;32mnot\u001b[0m \u001b[0mroot\u001b[0m\u001b[1;33m:\u001b[0m \u001b[1;32mreturn\u001b[0m\u001b[1;33m\u001b[0m\u001b[1;33m\u001b[0m\u001b[0m\n\u001b[1;32m---> 16\u001b[1;33m         \u001b[0mroot1\u001b[0m\u001b[1;33m=\u001b[0m\u001b[0mTreeNode\u001b[0m\u001b[1;33m(\u001b[0m\u001b[0mroot\u001b[0m\u001b[1;33m.\u001b[0m\u001b[0mval\u001b[0m\u001b[1;33m)\u001b[0m\u001b[1;33m\u001b[0m\u001b[1;33m\u001b[0m\u001b[0m\n\u001b[0m\u001b[0;32m     17\u001b[0m         \u001b[0mtmp\u001b[0m \u001b[1;33m=\u001b[0m \u001b[0mroot1\u001b[0m\u001b[1;33m.\u001b[0m\u001b[0mleft\u001b[0m\u001b[1;33m\u001b[0m\u001b[1;33m\u001b[0m\u001b[0m\n\u001b[0;32m     18\u001b[0m         \u001b[0mroot1\u001b[0m\u001b[1;33m.\u001b[0m\u001b[0mleft\u001b[0m \u001b[1;33m=\u001b[0m \u001b[0mself\u001b[0m\u001b[1;33m.\u001b[0m\u001b[0mmirrorTree\u001b[0m\u001b[1;33m(\u001b[0m\u001b[0mroot1\u001b[0m\u001b[1;33m.\u001b[0m\u001b[0mright\u001b[0m\u001b[1;33m)\u001b[0m\u001b[1;33m\u001b[0m\u001b[1;33m\u001b[0m\u001b[0m\n",
      "\u001b[1;31mAttributeError\u001b[0m: 'list' object has no attribute 'val'"
     ]
    }
   ],
   "source": [
    "#运用剑指offer27的思想，先镜像再比较\n",
    "#需要注意的是，单纯用root1复制了root，即使是深拷贝拷走了结构并且创建了新的内存地址，比较的时候仍然需要逐个节点比较\n",
    "#用bool直接比较两个根节点时，python是不会帮忙做递归深挖的\n",
    "\n",
    "class Solution(object):\n",
    "    def mirrorTree(self, root):\n",
    "        if not root: return\n",
    "        root1=TreeNode(root.val)\n",
    "        temp = root.left\n",
    "        root1.left = self.mirrorTree(root.right)\n",
    "        root1.right = self.mirrorTree(temp)\n",
    "        return root1\n",
    "    \n",
    "    def isSame(self,root,root1):\n",
    "        if root==None and root1==None:\n",
    "            return True;\n",
    "        if (root==None and root1!=None) or (root!=None and root1==None) :\n",
    "            return False;\n",
    "        if root.val==root1.val:\n",
    "            return self.isSame(root.left,root1.left) and self.isSame(root.right,root1.right)\n",
    "        return False\n",
    "\n",
    "    def isSymmetric(self, root):\n",
    "        root1 = self.mirrorTree(root)\n",
    "        return self.isSame(root,root1)\n",
    "#执行用时：28 ms, 在所有 Python 提交中击败了44.80%的用户\n",
    "#内存消耗：12.6 MB, 在所有 Python 提交中击败了64.93%的用户"
   ]
  },
  {
   "cell_type": "code",
   "execution_count": 9,
   "metadata": {},
   "outputs": [
    {
     "name": "stdout",
     "output_type": "stream",
     "text": [
      "2\n"
     ]
    }
   ],
   "source": [
    "#不创建新的树就在原地比较\n",
    "#递归当然是坠简单的\n",
    "#从上到下每一层进行判断，每次抓一个这一层的根节点判断他左孩子的左孩子，和右孩子的右孩子是否相等\n",
    "class Solution:\n",
    "    def isSymmetric(self, root):\n",
    "        def recur(L, R):\n",
    "            if not L and not R: \n",
    "                return True\n",
    "            if (not L or not R) or L.val != R.val: \n",
    "                return False\n",
    "            return recur(L.left, R.right) and recur(L.right, R.left)\n",
    "               \n",
    "        if root != None:\n",
    "            return recur(root.left, root.right)\n",
    "        else:\n",
    "            return True\n",
    "#时间：O(N) 要遍历到N/2个次才能找到每一个节点\n",
    "#空间：O(N) 最差就是一条链表往下"
   ]
  },
  {
   "cell_type": "code",
   "execution_count": null,
   "metadata": {},
   "outputs": [],
   "source": [
    "#迭代\n",
    "#本质上还是逐个比较，每次都把根节点的左孩子的左孩子和右孩子的右孩子放进queue，然后pop出来比较\n",
    "class Solution:\n",
    "    def isSymmetric(self, root):\n",
    "        if root is None:\n",
    "            return True\n",
    "        q = []\n",
    "        q.append(root.left)\n",
    "        q.append(root.right)\n",
    "        while len(q)!=0:\n",
    "            A = q.pop(0)\n",
    "            B = q.pop(0)\n",
    "            if A == None and B == None:\n",
    "                continue\n",
    "            if A == None or B == None:\n",
    "                return False\n",
    "            if A.val != B.val:\n",
    "                return False\n",
    "            q.append(A.left)\n",
    "            q.append(B.right)\n",
    "            q.append(A.right)\n",
    "            q.append(B.left)\n",
    "        return True "
   ]
  }
 ],
 "metadata": {
  "kernelspec": {
   "display_name": "Python 3",
   "language": "python",
   "name": "python3"
  },
  "language_info": {
   "codemirror_mode": {
    "name": "ipython",
    "version": 3
   },
   "file_extension": ".py",
   "mimetype": "text/x-python",
   "name": "python",
   "nbconvert_exporter": "python",
   "pygments_lexer": "ipython3",
   "version": "3.7.6"
  }
 },
 "nbformat": 4,
 "nbformat_minor": 4
}
